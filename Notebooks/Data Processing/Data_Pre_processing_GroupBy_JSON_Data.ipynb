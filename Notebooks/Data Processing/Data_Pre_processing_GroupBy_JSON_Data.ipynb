{
  "nbformat": 4,
  "nbformat_minor": 0,
  "metadata": {
    "colab": {
      "name": " Data Pre-processing GroupBy JSON Data_part_1",
      "provenance": [],
      "collapsed_sections": [],
      "machine_shape": "hm"
    },
    "kernelspec": {
      "display_name": "Python 3",
      "name": "python3"
    },
    "language_info": {
      "name": "python"
    },
    "accelerator": "GPU"
  },
  "cells": [
    {
      "cell_type": "markdown",
      "metadata": {
        "id": "wiYpZuEtovwG"
      },
      "source": [
        "## GroupBy: Data Pre-processing GroupBy JSON Data"
      ]
    },
    {
      "cell_type": "markdown",
      "metadata": {
        "id": "X0DTHdT9QcOX"
      },
      "source": [
        "### Drive Set Up\n"
      ]
    },
    {
      "cell_type": "code",
      "metadata": {
        "colab": {
          "base_uri": "https://localhost:8080/"
        },
        "id": "3aMXwHtnngZp",
        "outputId": "1696e906-d9d0-43da-e57f-7420585cd331"
      },
      "source": [
        "#Mount the RAW session level data: shopping.pkl\n",
        "from google.colab import drive\n",
        "drive.mount('/content/drive')\n"
      ],
      "execution_count": null,
      "outputs": [
        {
          "output_type": "stream",
          "name": "stdout",
          "text": [
            "Mounted at /content/drive\n"
          ]
        }
      ]
    },
    {
      "cell_type": "code",
      "metadata": {
        "id": "VemA-89cngcq"
      },
      "source": [
        "import os\n",
        "# The path below should point to the directory containing this notebook and the associated utility files\n",
        "# Change it if necessary\n",
        "os.chdir('/content/drive/MyDrive/GroupBy/')"
      ],
      "execution_count": null,
      "outputs": []
    },
    {
      "cell_type": "markdown",
      "metadata": {
        "id": "_T9EFjJ7QyJq"
      },
      "source": [
        "### Import Library"
      ]
    },
    {
      "cell_type": "code",
      "metadata": {
        "id": "FFztYSCm7bXh"
      },
      "source": [
        "import pandas as pd\n",
        "import numpy as np\n",
        "import json\n",
        "from pandas.io.json import json_normalize #package for flattening json in pandas df\n",
        "import warnings\n",
        "warnings.filterwarnings('ignore')\n",
        "import matplotlib.pyplot as plt\n",
        "import time"
      ],
      "execution_count": null,
      "outputs": []
    },
    {
      "cell_type": "markdown",
      "metadata": {
        "id": "jof6WpHFQT1x"
      },
      "source": [
        "### Load and Flatten JSON into Dataframe\n"
      ]
    },
    {
      "cell_type": "code",
      "metadata": {
        "id": "Rd8SKaH8nggp"
      },
      "source": [
        "### load GroupBy dataset\n",
        "with open('fourthbrain_project_data.json', encoding=\"utf8\") as json_file:      \n",
        "    json_f = json_file.readlines()\n",
        "    json_data = list(map(json.loads, json_f))"
      ],
      "execution_count": null,
      "outputs": []
    },
    {
      "cell_type": "code",
      "metadata": {
        "id": "0M1QWctvY2jY"
      },
      "source": [
        "#load and flatten json into dataframe\n",
        "df_json = json_normalize(json_data, ['hits','product'],[['hits','eventType','category'],\n",
        "  ['hits','serverTime'],\n",
        "  ['hits','hitSequence'],\n",
        "  ['hits','isEntrance'],                                                            \n",
        "  ['hits','isExit'],\n",
        "  ['hits','totalitems'],\n",
        "  ['hits','totalquantity'],\n",
        "  ['hits','totalprice'],\n",
        "  'customerId',\n",
        "  'customerArea',\n",
        "  'customerVisitorId',\n",
        "  'customerLoginId',\n",
        "  'customerSessionId',\n",
        "  'sessionStartTime',\n",
        "  'sessionEndTime',\n",
        "  'customerSessionNumber',\n",
        "  'totals'], errors='ignore')"
      ],
      "execution_count": null,
      "outputs": []
    },
    {
      "cell_type": "code",
      "metadata": {
        "id": "fdkZW-Ji0O73"
      },
      "source": [
        "#flatten the 'totals' df_json\n",
        "df_json_concat = pd.concat([df_json, df_json['totals'].apply(pd.Series)], axis=1)"
      ],
      "execution_count": null,
      "outputs": []
    },
    {
      "cell_type": "code",
      "metadata": {
        "colab": {
          "base_uri": "https://localhost:8080/"
        },
        "id": "mXvQTIpnTLy5",
        "outputId": "cbd4b690-cd8d-40d6-8f73-d66ce4391dfc"
      },
      "source": [
        "df_json = pd.read_csv('Copy of df_json_final_ver_2.csv')\n",
        "df_json.shape"
      ],
      "execution_count": null,
      "outputs": [
        {
          "output_type": "execute_result",
          "data": {
            "text/plain": [
              "(1578809, 35)"
            ]
          },
          "metadata": {},
          "execution_count": 7
        }
      ]
    },
    {
      "cell_type": "markdown",
      "metadata": {
        "id": "zsHCk6zCfAZk"
      },
      "source": [
        "### Explore Data"
      ]
    },
    {
      "cell_type": "code",
      "metadata": {
        "colab": {
          "base_uri": "https://localhost:8080/",
          "height": 227
        },
        "id": "x6UvW2LmfG2E",
        "outputId": "f4750c35-3776-47ad-85fe-f6e69dc54c5c"
      },
      "source": [
        "#preview data\n",
        "df_json_concat.head(2)"
      ],
      "execution_count": null,
      "outputs": [
        {
          "output_type": "execute_result",
          "data": {
            "text/html": [
              "<div>\n",
              "<style scoped>\n",
              "    .dataframe tbody tr th:only-of-type {\n",
              "        vertical-align: middle;\n",
              "    }\n",
              "\n",
              "    .dataframe tbody tr th {\n",
              "        vertical-align: top;\n",
              "    }\n",
              "\n",
              "    .dataframe thead th {\n",
              "        text-align: right;\n",
              "    }\n",
              "</style>\n",
              "<table border=\"1\" class=\"dataframe\">\n",
              "  <thead>\n",
              "    <tr style=\"text-align: right;\">\n",
              "      <th></th>\n",
              "      <th>sku</th>\n",
              "      <th>ID</th>\n",
              "      <th>name</th>\n",
              "      <th>price</th>\n",
              "      <th>collection</th>\n",
              "      <th>attributedSearches</th>\n",
              "      <th>quantity</th>\n",
              "      <th>listLocation</th>\n",
              "      <th>listPosition</th>\n",
              "      <th>hits.eventType.category</th>\n",
              "      <th>hits.serverTime</th>\n",
              "      <th>hits.hitSequence</th>\n",
              "      <th>hits.isEntrance</th>\n",
              "      <th>hits.isExit</th>\n",
              "      <th>hits.totalitems</th>\n",
              "      <th>hits.totalquantity</th>\n",
              "      <th>hits.totalprice</th>\n",
              "      <th>customerId</th>\n",
              "      <th>customerArea</th>\n",
              "      <th>customerVisitorId</th>\n",
              "      <th>customerLoginId</th>\n",
              "      <th>customerSessionId</th>\n",
              "      <th>sessionStartTime</th>\n",
              "      <th>sessionEndTime</th>\n",
              "      <th>customerSessionNumber</th>\n",
              "      <th>totals</th>\n",
              "      <th>timeOnSite</th>\n",
              "      <th>events</th>\n",
              "      <th>newSession</th>\n",
              "      <th>bounce</th>\n",
              "      <th>totalSearches</th>\n",
              "      <th>totalNavigations</th>\n",
              "      <th>totalRefinements</th>\n",
              "      <th>totalViewProducts</th>\n",
              "      <th>totalViewProductRevenue</th>\n",
              "      <th>totalNullSearches</th>\n",
              "      <th>uniqueViewProducts</th>\n",
              "      <th>totalAddToCarts</th>\n",
              "      <th>totalAddToCartQty</th>\n",
              "      <th>totalAddToCartRevenue</th>\n",
              "      <th>uniqueAddToCarts</th>\n",
              "      <th>uniqueSearches</th>\n",
              "      <th>queriesSearched</th>\n",
              "      <th>uniqueRefinements</th>\n",
              "      <th>uniqueNavigations</th>\n",
              "      <th>totalOrders</th>\n",
              "      <th>totalOrderQty</th>\n",
              "      <th>totalOrderRevenue</th>\n",
              "      <th>uniqueOrders</th>\n",
              "    </tr>\n",
              "  </thead>\n",
              "  <tbody>\n",
              "    <tr>\n",
              "      <th>0</th>\n",
              "      <td>BR013</td>\n",
              "      <td>BR013</td>\n",
              "      <td>nutritional yeast seasoning</td>\n",
              "      <td>4.99</td>\n",
              "      <td>Bragg</td>\n",
              "      <td>[]</td>\n",
              "      <td>NaN</td>\n",
              "      <td>NaN</td>\n",
              "      <td>NaN</td>\n",
              "      <td>viewProduct</td>\n",
              "      <td>2020-12-02 03:03:04.214607 UTC</td>\n",
              "      <td>1</td>\n",
              "      <td>True</td>\n",
              "      <td>True</td>\n",
              "      <td>NaN</td>\n",
              "      <td>NaN</td>\n",
              "      <td>NaN</td>\n",
              "      <td>swansonhealth</td>\n",
              "      <td>Production</td>\n",
              "      <td>cki6s4tr200013bdpkaye9mdn</td>\n",
              "      <td>anonymous</td>\n",
              "      <td>cki6s4tr200013bdpkaye9mdn1606878184</td>\n",
              "      <td>2020-12-02 03:03:04.214607 UTC</td>\n",
              "      <td>2020-12-02 03:03:04.214607 UTC</td>\n",
              "      <td>1</td>\n",
              "      <td>{'timeOnSite': '00:00:00', 'events': '1', 'new...</td>\n",
              "      <td>00:00:00</td>\n",
              "      <td>1</td>\n",
              "      <td>True</td>\n",
              "      <td>1</td>\n",
              "      <td>0</td>\n",
              "      <td>0</td>\n",
              "      <td>0</td>\n",
              "      <td>1</td>\n",
              "      <td>4.99</td>\n",
              "      <td>0</td>\n",
              "      <td>1</td>\n",
              "      <td>NaN</td>\n",
              "      <td>NaN</td>\n",
              "      <td>NaN</td>\n",
              "      <td>NaN</td>\n",
              "      <td>NaN</td>\n",
              "      <td>NaN</td>\n",
              "      <td>NaN</td>\n",
              "      <td>NaN</td>\n",
              "      <td>NaN</td>\n",
              "      <td>NaN</td>\n",
              "      <td>NaN</td>\n",
              "      <td>NaN</td>\n",
              "    </tr>\n",
              "    <tr>\n",
              "      <th>1</th>\n",
              "      <td>DRB004</td>\n",
              "      <td>DRB004</td>\n",
              "      <td>pure castile bar soap peppermint</td>\n",
              "      <td>4.50</td>\n",
              "      <td>Dr. Bronner's</td>\n",
              "      <td>[]</td>\n",
              "      <td>NaN</td>\n",
              "      <td>NaN</td>\n",
              "      <td>NaN</td>\n",
              "      <td>viewProduct</td>\n",
              "      <td>2020-12-02 02:06:37.430706 UTC</td>\n",
              "      <td>1</td>\n",
              "      <td>True</td>\n",
              "      <td>True</td>\n",
              "      <td>NaN</td>\n",
              "      <td>NaN</td>\n",
              "      <td>NaN</td>\n",
              "      <td>swansonhealth</td>\n",
              "      <td>Production</td>\n",
              "      <td>cki6rrijb000125c5cdol7ahd</td>\n",
              "      <td>anonymous</td>\n",
              "      <td>cki6rrijb000125c5cdol7ahd1606874797</td>\n",
              "      <td>2020-12-02 02:06:37.430706 UTC</td>\n",
              "      <td>2020-12-02 02:06:37.430706 UTC</td>\n",
              "      <td>1</td>\n",
              "      <td>{'timeOnSite': '00:00:00', 'events': '1', 'new...</td>\n",
              "      <td>00:00:00</td>\n",
              "      <td>1</td>\n",
              "      <td>True</td>\n",
              "      <td>1</td>\n",
              "      <td>0</td>\n",
              "      <td>0</td>\n",
              "      <td>0</td>\n",
              "      <td>1</td>\n",
              "      <td>4.50</td>\n",
              "      <td>0</td>\n",
              "      <td>1</td>\n",
              "      <td>NaN</td>\n",
              "      <td>NaN</td>\n",
              "      <td>NaN</td>\n",
              "      <td>NaN</td>\n",
              "      <td>NaN</td>\n",
              "      <td>NaN</td>\n",
              "      <td>NaN</td>\n",
              "      <td>NaN</td>\n",
              "      <td>NaN</td>\n",
              "      <td>NaN</td>\n",
              "      <td>NaN</td>\n",
              "      <td>NaN</td>\n",
              "    </tr>\n",
              "  </tbody>\n",
              "</table>\n",
              "</div>"
            ],
            "text/plain": [
              "      sku      ID  ... totalOrderRevenue  uniqueOrders\n",
              "0   BR013   BR013  ...               NaN           NaN\n",
              "1  DRB004  DRB004  ...               NaN           NaN\n",
              "\n",
              "[2 rows x 49 columns]"
            ]
          },
          "metadata": {},
          "execution_count": 7
        }
      ]
    },
    {
      "cell_type": "code",
      "metadata": {
        "colab": {
          "base_uri": "https://localhost:8080/",
          "height": 406
        },
        "id": "xMKPFY-0sSBu",
        "outputId": "b690b5c5-4825-46b2-b0f9-53106ff9bd19"
      },
      "source": [
        "#check uniqueness of data values in relations to the product_id column\n",
        "df_unique_cust = df_json_concat.groupby('customerSessionId')['hits.eventType.category'].nunique().reset_index()\n",
        "\n",
        "#confirm that category_id and brand remains static product_id's\n",
        "product_id_filter_non_unique = df_unique_cust[df_unique_cust['hits.eventType.category']>3]\n",
        "product_id_filter_non_unique   "
      ],
      "execution_count": null,
      "outputs": [
        {
          "output_type": "execute_result",
          "data": {
            "text/html": [
              "<div>\n",
              "<style scoped>\n",
              "    .dataframe tbody tr th:only-of-type {\n",
              "        vertical-align: middle;\n",
              "    }\n",
              "\n",
              "    .dataframe tbody tr th {\n",
              "        vertical-align: top;\n",
              "    }\n",
              "\n",
              "    .dataframe thead th {\n",
              "        text-align: right;\n",
              "    }\n",
              "</style>\n",
              "<table border=\"1\" class=\"dataframe\">\n",
              "  <thead>\n",
              "    <tr style=\"text-align: right;\">\n",
              "      <th></th>\n",
              "      <th>customerSessionId</th>\n",
              "      <th>hits.eventType.category</th>\n",
              "    </tr>\n",
              "  </thead>\n",
              "  <tbody>\n",
              "    <tr>\n",
              "      <th>8</th>\n",
              "      <td>cjo07r72i00013mb61nrkd6wu1606868238</td>\n",
              "      <td>4</td>\n",
              "    </tr>\n",
              "    <tr>\n",
              "      <th>11</th>\n",
              "      <td>cjo0a04ca000128c76p115l5c1606880706</td>\n",
              "      <td>4</td>\n",
              "    </tr>\n",
              "    <tr>\n",
              "      <th>20</th>\n",
              "      <td>cjo68ggna00013gb9eeiw6m3y1606879169</td>\n",
              "      <td>4</td>\n",
              "    </tr>\n",
              "    <tr>\n",
              "      <th>25</th>\n",
              "      <td>cjo6avakq00013abemkr948co1606870622</td>\n",
              "      <td>4</td>\n",
              "    </tr>\n",
              "    <tr>\n",
              "      <th>30</th>\n",
              "      <td>cjo6e7rhs000141b5ql9ueg0k1606888043</td>\n",
              "      <td>4</td>\n",
              "    </tr>\n",
              "    <tr>\n",
              "      <th>...</th>\n",
              "      <td>...</td>\n",
              "      <td>...</td>\n",
              "    </tr>\n",
              "    <tr>\n",
              "      <th>46916</th>\n",
              "      <td>cki7nbfr900013e99kl2s1e8f1606927941</td>\n",
              "      <td>4</td>\n",
              "    </tr>\n",
              "    <tr>\n",
              "      <th>46960</th>\n",
              "      <td>cki7ncx6q00013qa660p3y7od1606928105</td>\n",
              "      <td>4</td>\n",
              "    </tr>\n",
              "    <tr>\n",
              "      <th>47033</th>\n",
              "      <td>cki7nflxa00013hczzsjcjlgs1606927999</td>\n",
              "      <td>4</td>\n",
              "    </tr>\n",
              "    <tr>\n",
              "      <th>47048</th>\n",
              "      <td>cki7ngbtk00013pd8ipu7v7g31606928057</td>\n",
              "      <td>4</td>\n",
              "    </tr>\n",
              "    <tr>\n",
              "      <th>47134</th>\n",
              "      <td>cki7nk1g500012xda0p2wyt161606928213</td>\n",
              "      <td>4</td>\n",
              "    </tr>\n",
              "  </tbody>\n",
              "</table>\n",
              "<p>2419 rows × 2 columns</p>\n",
              "</div>"
            ],
            "text/plain": [
              "                         customerSessionId  hits.eventType.category\n",
              "8      cjo07r72i00013mb61nrkd6wu1606868238                        4\n",
              "11     cjo0a04ca000128c76p115l5c1606880706                        4\n",
              "20     cjo68ggna00013gb9eeiw6m3y1606879169                        4\n",
              "25     cjo6avakq00013abemkr948co1606870622                        4\n",
              "30     cjo6e7rhs000141b5ql9ueg0k1606888043                        4\n",
              "...                                    ...                      ...\n",
              "46916  cki7nbfr900013e99kl2s1e8f1606927941                        4\n",
              "46960  cki7ncx6q00013qa660p3y7od1606928105                        4\n",
              "47033  cki7nflxa00013hczzsjcjlgs1606927999                        4\n",
              "47048  cki7ngbtk00013pd8ipu7v7g31606928057                        4\n",
              "47134  cki7nk1g500012xda0p2wyt161606928213                        4\n",
              "\n",
              "[2419 rows x 2 columns]"
            ]
          },
          "metadata": {},
          "execution_count": 8
        }
      ]
    },
    {
      "cell_type": "code",
      "metadata": {
        "colab": {
          "base_uri": "https://localhost:8080/"
        },
        "id": "0mYEuc1ee-Z-",
        "outputId": "3331e034-756a-4462-9082-3da87f719d74"
      },
      "source": [
        "# check data info\n",
        "df_json_concat.info()"
      ],
      "execution_count": null,
      "outputs": [
        {
          "output_type": "stream",
          "name": "stdout",
          "text": [
            "<class 'pandas.core.frame.DataFrame'>\n",
            "RangeIndex: 1714266 entries, 0 to 1714265\n",
            "Data columns (total 49 columns):\n",
            " #   Column                   Dtype  \n",
            "---  ------                   -----  \n",
            " 0   sku                      object \n",
            " 1   ID                       object \n",
            " 2   name                     object \n",
            " 3   price                    float64\n",
            " 4   collection               object \n",
            " 5   attributedSearches       object \n",
            " 6   quantity                 object \n",
            " 7   listLocation             object \n",
            " 8   listPosition             object \n",
            " 9   hits.eventType.category  object \n",
            " 10  hits.serverTime          object \n",
            " 11  hits.hitSequence         object \n",
            " 12  hits.isEntrance          object \n",
            " 13  hits.isExit              object \n",
            " 14  hits.totalitems          object \n",
            " 15  hits.totalquantity       object \n",
            " 16  hits.totalprice          object \n",
            " 17  customerId               object \n",
            " 18  customerArea             object \n",
            " 19  customerVisitorId        object \n",
            " 20  customerLoginId          object \n",
            " 21  customerSessionId        object \n",
            " 22  sessionStartTime         object \n",
            " 23  sessionEndTime           object \n",
            " 24  customerSessionNumber    object \n",
            " 25  totals                   object \n",
            " 26  timeOnSite               object \n",
            " 27  events                   object \n",
            " 28  newSession               bool   \n",
            " 29  bounce                   object \n",
            " 30  totalSearches            object \n",
            " 31  totalNavigations         object \n",
            " 32  totalRefinements         object \n",
            " 33  totalViewProducts        object \n",
            " 34  totalViewProductRevenue  float64\n",
            " 35  totalNullSearches        object \n",
            " 36  uniqueViewProducts       object \n",
            " 37  totalAddToCarts          object \n",
            " 38  totalAddToCartQty        object \n",
            " 39  totalAddToCartRevenue    float64\n",
            " 40  uniqueAddToCarts         object \n",
            " 41  uniqueSearches           object \n",
            " 42  queriesSearched          object \n",
            " 43  uniqueRefinements        object \n",
            " 44  uniqueNavigations        object \n",
            " 45  totalOrders              object \n",
            " 46  totalOrderQty            object \n",
            " 47  totalOrderRevenue        float64\n",
            " 48  uniqueOrders             object \n",
            "dtypes: bool(1), float64(4), object(44)\n",
            "memory usage: 629.4+ MB\n"
          ]
        }
      ]
    },
    {
      "cell_type": "code",
      "metadata": {
        "colab": {
          "base_uri": "https://localhost:8080/"
        },
        "id": "NNuteNxKHDYQ",
        "outputId": "86fadcd5-11a4-4353-d6c5-c57a8fe307cd"
      },
      "source": [
        "# check count of missing values\n",
        "null_columns= df_json_concat.columns[df_json_concat.isnull().any()]\n",
        "df_json_concat[null_columns].isnull().sum()"
      ],
      "execution_count": null,
      "outputs": [
        {
          "output_type": "execute_result",
          "data": {
            "text/plain": [
              "sku                        1573530\n",
              "name                       1573529\n",
              "price                      1573530\n",
              "quantity                   1674638\n",
              "listLocation                140737\n",
              "listPosition                140737\n",
              "hits.totalitems            1674638\n",
              "hits.totalquantity         1674638\n",
              "hits.totalprice            1674638\n",
              "totalViewProducts           272037\n",
              "totalViewProductRevenue     272037\n",
              "uniqueViewProducts          272037\n",
              "totalAddToCarts             676849\n",
              "totalAddToCartQty           676849\n",
              "totalAddToCartRevenue       676849\n",
              "uniqueAddToCarts            676849\n",
              "uniqueSearches               48522\n",
              "queriesSearched              48522\n",
              "uniqueRefinements          1577690\n",
              "uniqueNavigations          1577690\n",
              "totalOrders                1153060\n",
              "totalOrderQty              1153060\n",
              "totalOrderRevenue          1153060\n",
              "uniqueOrders               1153060\n",
              "dtype: int64"
            ]
          },
          "metadata": {},
          "execution_count": 11
        }
      ]
    },
    {
      "cell_type": "code",
      "metadata": {
        "colab": {
          "base_uri": "https://localhost:8080/"
        },
        "id": "KJnPUl6cHDJt",
        "outputId": "bf71ab40-6ae6-487e-ae03-a8a0cc4ac433"
      },
      "source": [
        "#check percentage of missing values\n",
        "percent_missing = round(df_json_concat.isnull().sum() * 100 / len(df_json_concat),2)\n",
        "a = percent_missing > 30\n",
        "b = percent_missing[a]\n",
        "a"
      ],
      "execution_count": null,
      "outputs": [
        {
          "output_type": "execute_result",
          "data": {
            "text/plain": [
              "sku                         True\n",
              "ID                         False\n",
              "name                        True\n",
              "price                       True\n",
              "collection                 False\n",
              "attributedSearches         False\n",
              "quantity                    True\n",
              "listLocation               False\n",
              "listPosition               False\n",
              "hits.eventType.category    False\n",
              "hits.serverTime            False\n",
              "hits.hitSequence           False\n",
              "hits.isEntrance            False\n",
              "hits.isExit                False\n",
              "hits.totalitems             True\n",
              "hits.totalquantity          True\n",
              "hits.totalprice             True\n",
              "customerId                 False\n",
              "customerArea               False\n",
              "customerVisitorId          False\n",
              "customerLoginId            False\n",
              "customerSessionId          False\n",
              "sessionStartTime           False\n",
              "sessionEndTime             False\n",
              "customerSessionNumber      False\n",
              "totals                     False\n",
              "timeOnSite                 False\n",
              "events                     False\n",
              "newSession                 False\n",
              "bounce                     False\n",
              "totalSearches              False\n",
              "totalNavigations           False\n",
              "totalRefinements           False\n",
              "totalViewProducts          False\n",
              "totalViewProductRevenue    False\n",
              "totalNullSearches          False\n",
              "uniqueViewProducts         False\n",
              "totalAddToCarts             True\n",
              "totalAddToCartQty           True\n",
              "totalAddToCartRevenue       True\n",
              "uniqueAddToCarts            True\n",
              "uniqueSearches             False\n",
              "queriesSearched            False\n",
              "uniqueRefinements           True\n",
              "uniqueNavigations           True\n",
              "totalOrders                 True\n",
              "totalOrderQty               True\n",
              "totalOrderRevenue           True\n",
              "uniqueOrders                True\n",
              "dtype: bool"
            ]
          },
          "metadata": {},
          "execution_count": 23
        }
      ]
    },
    {
      "cell_type": "code",
      "metadata": {
        "colab": {
          "base_uri": "https://localhost:8080/",
          "height": 147
        },
        "id": "JZ3q15woe_lm",
        "outputId": "4c9c1fcc-ff7c-4027-ec8f-e8efe2534c0f"
      },
      "source": [
        "#check if missing values from one column is impacting another column  \n",
        "df_cart_price = df_json_concat[(df_json_concat['price'].isnull()) & (df_json_concat['hits.eventType.category']=='addToCart')]\n",
        "df_cart_price.head()"
      ],
      "execution_count": null,
      "outputs": [
        {
          "output_type": "execute_result",
          "data": {
            "text/html": [
              "<div>\n",
              "<style scoped>\n",
              "    .dataframe tbody tr th:only-of-type {\n",
              "        vertical-align: middle;\n",
              "    }\n",
              "\n",
              "    .dataframe tbody tr th {\n",
              "        vertical-align: top;\n",
              "    }\n",
              "\n",
              "    .dataframe thead th {\n",
              "        text-align: right;\n",
              "    }\n",
              "</style>\n",
              "<table border=\"1\" class=\"dataframe\">\n",
              "  <thead>\n",
              "    <tr style=\"text-align: right;\">\n",
              "      <th></th>\n",
              "      <th>sku</th>\n",
              "      <th>ID</th>\n",
              "      <th>name</th>\n",
              "      <th>price</th>\n",
              "      <th>collection</th>\n",
              "      <th>attributedSearches</th>\n",
              "      <th>quantity</th>\n",
              "      <th>listLocation</th>\n",
              "      <th>listPosition</th>\n",
              "      <th>hits.eventType.category</th>\n",
              "      <th>hits.serverTime</th>\n",
              "      <th>hits.hitSequence</th>\n",
              "      <th>hits.isEntrance</th>\n",
              "      <th>hits.isExit</th>\n",
              "      <th>hits.totalitems</th>\n",
              "      <th>hits.totalquantity</th>\n",
              "      <th>hits.totalprice</th>\n",
              "      <th>customerId</th>\n",
              "      <th>customerArea</th>\n",
              "      <th>customerVisitorId</th>\n",
              "      <th>customerLoginId</th>\n",
              "      <th>customerSessionId</th>\n",
              "      <th>sessionStartTime</th>\n",
              "      <th>sessionEndTime</th>\n",
              "      <th>customerSessionNumber</th>\n",
              "      <th>totals</th>\n",
              "      <th>timeOnSite</th>\n",
              "      <th>events</th>\n",
              "      <th>newSession</th>\n",
              "      <th>bounce</th>\n",
              "      <th>totalSearches</th>\n",
              "      <th>totalNavigations</th>\n",
              "      <th>totalRefinements</th>\n",
              "      <th>totalViewProducts</th>\n",
              "      <th>totalViewProductRevenue</th>\n",
              "      <th>totalNullSearches</th>\n",
              "      <th>uniqueViewProducts</th>\n",
              "      <th>totalAddToCarts</th>\n",
              "      <th>totalAddToCartQty</th>\n",
              "      <th>totalAddToCartRevenue</th>\n",
              "      <th>uniqueAddToCarts</th>\n",
              "      <th>uniqueSearches</th>\n",
              "      <th>queriesSearched</th>\n",
              "      <th>uniqueRefinements</th>\n",
              "      <th>uniqueNavigations</th>\n",
              "      <th>totalOrders</th>\n",
              "      <th>totalOrderQty</th>\n",
              "      <th>totalOrderRevenue</th>\n",
              "      <th>uniqueOrders</th>\n",
              "    </tr>\n",
              "  </thead>\n",
              "  <tbody>\n",
              "    <tr>\n",
              "      <th>1549306</th>\n",
              "      <td>NaN</td>\n",
              "      <td>SW854</td>\n",
              "      <td>n-acetyl cysteine</td>\n",
              "      <td>NaN</td>\n",
              "      <td>default</td>\n",
              "      <td>[]</td>\n",
              "      <td>1</td>\n",
              "      <td>NaN</td>\n",
              "      <td>NaN</td>\n",
              "      <td>addToCart</td>\n",
              "      <td>2020-12-02 02:19:24.589035 UTC</td>\n",
              "      <td>11</td>\n",
              "      <td>False</td>\n",
              "      <td>False</td>\n",
              "      <td>1</td>\n",
              "      <td>1</td>\n",
              "      <td>0</td>\n",
              "      <td>swansonhealth</td>\n",
              "      <td>Production</td>\n",
              "      <td>cki6s473200013b98h0wdev3q</td>\n",
              "      <td>anonymous</td>\n",
              "      <td>cki6s473200013b98h0wdev3q1606875386</td>\n",
              "      <td>2020-12-02 02:16:26.595421 UTC</td>\n",
              "      <td>2020-12-02 04:00:15.900761 UTC</td>\n",
              "      <td>1</td>\n",
              "      <td>{'timeOnSite': '01:43:49', 'events': '222', 'n...</td>\n",
              "      <td>01:43:49</td>\n",
              "      <td>222</td>\n",
              "      <td>True</td>\n",
              "      <td>0</td>\n",
              "      <td>77</td>\n",
              "      <td>21</td>\n",
              "      <td>0</td>\n",
              "      <td>97</td>\n",
              "      <td>1521.9</td>\n",
              "      <td>0</td>\n",
              "      <td>54</td>\n",
              "      <td>48</td>\n",
              "      <td>48</td>\n",
              "      <td>655.58</td>\n",
              "      <td>47</td>\n",
              "      <td>12</td>\n",
              "      <td>; astaxanthin; fenugreek; gaia tea; magnesium;...</td>\n",
              "      <td>NaN</td>\n",
              "      <td>NaN</td>\n",
              "      <td>NaN</td>\n",
              "      <td>NaN</td>\n",
              "      <td>NaN</td>\n",
              "      <td>NaN</td>\n",
              "    </tr>\n",
              "  </tbody>\n",
              "</table>\n",
              "</div>"
            ],
            "text/plain": [
              "         sku     ID  ... totalOrderRevenue  uniqueOrders\n",
              "1549306  NaN  SW854  ...               NaN           NaN\n",
              "\n",
              "[1 rows x 49 columns]"
            ]
          },
          "metadata": {},
          "execution_count": 13
        }
      ]
    },
    {
      "cell_type": "code",
      "metadata": {
        "colab": {
          "base_uri": "https://localhost:8080/",
          "height": 67
        },
        "id": "mMz-eaIBoR-V",
        "outputId": "e3beeac7-0597-41e1-b007-a7e1699bf11d"
      },
      "source": [
        "#check if missing values from one column is impacting another column  \n",
        "df_total_order = df_json_concat[(df_json_concat['totalOrderRevenue'].isnull()) & (df_json_concat['hits.eventType.category']=='order')]\n",
        "df_total_order.head()"
      ],
      "execution_count": null,
      "outputs": [
        {
          "output_type": "execute_result",
          "data": {
            "text/html": [
              "<div>\n",
              "<style scoped>\n",
              "    .dataframe tbody tr th:only-of-type {\n",
              "        vertical-align: middle;\n",
              "    }\n",
              "\n",
              "    .dataframe tbody tr th {\n",
              "        vertical-align: top;\n",
              "    }\n",
              "\n",
              "    .dataframe thead th {\n",
              "        text-align: right;\n",
              "    }\n",
              "</style>\n",
              "<table border=\"1\" class=\"dataframe\">\n",
              "  <thead>\n",
              "    <tr style=\"text-align: right;\">\n",
              "      <th></th>\n",
              "      <th>sku</th>\n",
              "      <th>ID</th>\n",
              "      <th>name</th>\n",
              "      <th>price</th>\n",
              "      <th>collection</th>\n",
              "      <th>attributedSearches</th>\n",
              "      <th>quantity</th>\n",
              "      <th>listLocation</th>\n",
              "      <th>listPosition</th>\n",
              "      <th>hits.eventType.category</th>\n",
              "      <th>hits.serverTime</th>\n",
              "      <th>hits.hitSequence</th>\n",
              "      <th>hits.isEntrance</th>\n",
              "      <th>hits.isExit</th>\n",
              "      <th>hits.totalitems</th>\n",
              "      <th>hits.totalquantity</th>\n",
              "      <th>hits.totalprice</th>\n",
              "      <th>customerId</th>\n",
              "      <th>customerArea</th>\n",
              "      <th>customerVisitorId</th>\n",
              "      <th>customerLoginId</th>\n",
              "      <th>customerSessionId</th>\n",
              "      <th>sessionStartTime</th>\n",
              "      <th>sessionEndTime</th>\n",
              "      <th>customerSessionNumber</th>\n",
              "      <th>totals</th>\n",
              "      <th>timeOnSite</th>\n",
              "      <th>events</th>\n",
              "      <th>newSession</th>\n",
              "      <th>bounce</th>\n",
              "      <th>totalSearches</th>\n",
              "      <th>totalNavigations</th>\n",
              "      <th>totalRefinements</th>\n",
              "      <th>totalViewProducts</th>\n",
              "      <th>totalViewProductRevenue</th>\n",
              "      <th>totalNullSearches</th>\n",
              "      <th>uniqueViewProducts</th>\n",
              "      <th>totalAddToCarts</th>\n",
              "      <th>totalAddToCartQty</th>\n",
              "      <th>totalAddToCartRevenue</th>\n",
              "      <th>uniqueAddToCarts</th>\n",
              "      <th>uniqueSearches</th>\n",
              "      <th>queriesSearched</th>\n",
              "      <th>uniqueRefinements</th>\n",
              "      <th>uniqueNavigations</th>\n",
              "      <th>totalOrders</th>\n",
              "      <th>totalOrderQty</th>\n",
              "      <th>totalOrderRevenue</th>\n",
              "      <th>uniqueOrders</th>\n",
              "    </tr>\n",
              "  </thead>\n",
              "  <tbody>\n",
              "  </tbody>\n",
              "</table>\n",
              "</div>"
            ],
            "text/plain": [
              "Empty DataFrame\n",
              "Columns: [sku, ID, name, price, collection, attributedSearches, quantity, listLocation, listPosition, hits.eventType.category, hits.serverTime, hits.hitSequence, hits.isEntrance, hits.isExit, hits.totalitems, hits.totalquantity, hits.totalprice, customerId, customerArea, customerVisitorId, customerLoginId, customerSessionId, sessionStartTime, sessionEndTime, customerSessionNumber, totals, timeOnSite, events, newSession, bounce, totalSearches, totalNavigations, totalRefinements, totalViewProducts, totalViewProductRevenue, totalNullSearches, uniqueViewProducts, totalAddToCarts, totalAddToCartQty, totalAddToCartRevenue, uniqueAddToCarts, uniqueSearches, queriesSearched, uniqueRefinements, uniqueNavigations, totalOrders, totalOrderQty, totalOrderRevenue, uniqueOrders]\n",
              "Index: []"
            ]
          },
          "metadata": {},
          "execution_count": 14
        }
      ]
    },
    {
      "cell_type": "code",
      "metadata": {
        "colab": {
          "base_uri": "https://localhost:8080/",
          "height": 67
        },
        "id": "j9iHT_n0tb79",
        "outputId": "54cf82f0-ca2b-439d-9219-0323d427b941"
      },
      "source": [
        "#check if missing values from one column is impacting another column  \n",
        "df_total_cart = df_json_concat[(df_json_concat['totalAddToCartRevenue'].isnull()) & (df_json_concat['hits.eventType.category']=='addToCart')]\n",
        "df_total_cart.head()"
      ],
      "execution_count": null,
      "outputs": [
        {
          "output_type": "execute_result",
          "data": {
            "text/html": [
              "<div>\n",
              "<style scoped>\n",
              "    .dataframe tbody tr th:only-of-type {\n",
              "        vertical-align: middle;\n",
              "    }\n",
              "\n",
              "    .dataframe tbody tr th {\n",
              "        vertical-align: top;\n",
              "    }\n",
              "\n",
              "    .dataframe thead th {\n",
              "        text-align: right;\n",
              "    }\n",
              "</style>\n",
              "<table border=\"1\" class=\"dataframe\">\n",
              "  <thead>\n",
              "    <tr style=\"text-align: right;\">\n",
              "      <th></th>\n",
              "      <th>sku</th>\n",
              "      <th>ID</th>\n",
              "      <th>name</th>\n",
              "      <th>price</th>\n",
              "      <th>collection</th>\n",
              "      <th>attributedSearches</th>\n",
              "      <th>quantity</th>\n",
              "      <th>listLocation</th>\n",
              "      <th>listPosition</th>\n",
              "      <th>hits.eventType.category</th>\n",
              "      <th>hits.serverTime</th>\n",
              "      <th>hits.hitSequence</th>\n",
              "      <th>hits.isEntrance</th>\n",
              "      <th>hits.isExit</th>\n",
              "      <th>hits.totalitems</th>\n",
              "      <th>hits.totalquantity</th>\n",
              "      <th>hits.totalprice</th>\n",
              "      <th>customerId</th>\n",
              "      <th>customerArea</th>\n",
              "      <th>customerVisitorId</th>\n",
              "      <th>customerLoginId</th>\n",
              "      <th>customerSessionId</th>\n",
              "      <th>sessionStartTime</th>\n",
              "      <th>sessionEndTime</th>\n",
              "      <th>customerSessionNumber</th>\n",
              "      <th>totals</th>\n",
              "      <th>timeOnSite</th>\n",
              "      <th>events</th>\n",
              "      <th>newSession</th>\n",
              "      <th>bounce</th>\n",
              "      <th>totalSearches</th>\n",
              "      <th>totalNavigations</th>\n",
              "      <th>totalRefinements</th>\n",
              "      <th>totalViewProducts</th>\n",
              "      <th>totalViewProductRevenue</th>\n",
              "      <th>totalNullSearches</th>\n",
              "      <th>uniqueViewProducts</th>\n",
              "      <th>totalAddToCarts</th>\n",
              "      <th>totalAddToCartQty</th>\n",
              "      <th>totalAddToCartRevenue</th>\n",
              "      <th>uniqueAddToCarts</th>\n",
              "      <th>uniqueSearches</th>\n",
              "      <th>queriesSearched</th>\n",
              "      <th>uniqueRefinements</th>\n",
              "      <th>uniqueNavigations</th>\n",
              "      <th>totalOrders</th>\n",
              "      <th>totalOrderQty</th>\n",
              "      <th>totalOrderRevenue</th>\n",
              "      <th>uniqueOrders</th>\n",
              "    </tr>\n",
              "  </thead>\n",
              "  <tbody>\n",
              "  </tbody>\n",
              "</table>\n",
              "</div>"
            ],
            "text/plain": [
              "Empty DataFrame\n",
              "Columns: [sku, ID, name, price, collection, attributedSearches, quantity, listLocation, listPosition, hits.eventType.category, hits.serverTime, hits.hitSequence, hits.isEntrance, hits.isExit, hits.totalitems, hits.totalquantity, hits.totalprice, customerId, customerArea, customerVisitorId, customerLoginId, customerSessionId, sessionStartTime, sessionEndTime, customerSessionNumber, totals, timeOnSite, events, newSession, bounce, totalSearches, totalNavigations, totalRefinements, totalViewProducts, totalViewProductRevenue, totalNullSearches, uniqueViewProducts, totalAddToCarts, totalAddToCartQty, totalAddToCartRevenue, uniqueAddToCarts, uniqueSearches, queriesSearched, uniqueRefinements, uniqueNavigations, totalOrders, totalOrderQty, totalOrderRevenue, uniqueOrders]\n",
              "Index: []"
            ]
          },
          "metadata": {},
          "execution_count": 15
        }
      ]
    },
    {
      "cell_type": "code",
      "metadata": {
        "colab": {
          "base_uri": "https://localhost:8080/",
          "height": 406
        },
        "id": "BruaWhF0S5TZ",
        "outputId": "b9a45c4c-b3bb-48dd-a26e-0a69062d9adb"
      },
      "source": [
        "#check uniqueness of data values in relations to the 'ID' column\n",
        "df_unique_ID = df_json_concat.groupby('ID')['price','name'].nunique().add_prefix('num_').reset_index()\n",
        "filter_ID = df_unique_ID[df_unique_ID['num_price']>1]\n",
        "filter_ID"
      ],
      "execution_count": null,
      "outputs": [
        {
          "output_type": "execute_result",
          "data": {
            "text/html": [
              "<div>\n",
              "<style scoped>\n",
              "    .dataframe tbody tr th:only-of-type {\n",
              "        vertical-align: middle;\n",
              "    }\n",
              "\n",
              "    .dataframe tbody tr th {\n",
              "        vertical-align: top;\n",
              "    }\n",
              "\n",
              "    .dataframe thead th {\n",
              "        text-align: right;\n",
              "    }\n",
              "</style>\n",
              "<table border=\"1\" class=\"dataframe\">\n",
              "  <thead>\n",
              "    <tr style=\"text-align: right;\">\n",
              "      <th></th>\n",
              "      <th>ID</th>\n",
              "      <th>num_price</th>\n",
              "      <th>num_name</th>\n",
              "    </tr>\n",
              "  </thead>\n",
              "  <tbody>\n",
              "    <tr>\n",
              "      <th>14</th>\n",
              "      <td>ABA005</td>\n",
              "      <td>2</td>\n",
              "      <td>1</td>\n",
              "    </tr>\n",
              "    <tr>\n",
              "      <th>15</th>\n",
              "      <td>ABA006</td>\n",
              "      <td>4</td>\n",
              "      <td>2</td>\n",
              "    </tr>\n",
              "    <tr>\n",
              "      <th>27</th>\n",
              "      <td>ABA037</td>\n",
              "      <td>3</td>\n",
              "      <td>1</td>\n",
              "    </tr>\n",
              "    <tr>\n",
              "      <th>31</th>\n",
              "      <td>ABA045</td>\n",
              "      <td>2</td>\n",
              "      <td>1</td>\n",
              "    </tr>\n",
              "    <tr>\n",
              "      <th>33</th>\n",
              "      <td>ABA047</td>\n",
              "      <td>2</td>\n",
              "      <td>2</td>\n",
              "    </tr>\n",
              "    <tr>\n",
              "      <th>...</th>\n",
              "      <td>...</td>\n",
              "      <td>...</td>\n",
              "      <td>...</td>\n",
              "    </tr>\n",
              "    <tr>\n",
              "      <th>17456</th>\n",
              "      <td>ZR041</td>\n",
              "      <td>2</td>\n",
              "      <td>1</td>\n",
              "    </tr>\n",
              "    <tr>\n",
              "      <th>17459</th>\n",
              "      <td>ZR044</td>\n",
              "      <td>2</td>\n",
              "      <td>1</td>\n",
              "    </tr>\n",
              "    <tr>\n",
              "      <th>17467</th>\n",
              "      <td>ZR052</td>\n",
              "      <td>2</td>\n",
              "      <td>1</td>\n",
              "    </tr>\n",
              "    <tr>\n",
              "      <th>17477</th>\n",
              "      <td>ZR062</td>\n",
              "      <td>2</td>\n",
              "      <td>1</td>\n",
              "    </tr>\n",
              "    <tr>\n",
              "      <th>17479</th>\n",
              "      <td>ZR064</td>\n",
              "      <td>2</td>\n",
              "      <td>2</td>\n",
              "    </tr>\n",
              "  </tbody>\n",
              "</table>\n",
              "<p>4499 rows × 3 columns</p>\n",
              "</div>"
            ],
            "text/plain": [
              "           ID  num_price  num_name\n",
              "14     ABA005          2         1\n",
              "15     ABA006          4         2\n",
              "27     ABA037          3         1\n",
              "31     ABA045          2         1\n",
              "33     ABA047          2         2\n",
              "...       ...        ...       ...\n",
              "17456   ZR041          2         1\n",
              "17459   ZR044          2         1\n",
              "17467   ZR052          2         1\n",
              "17477   ZR062          2         1\n",
              "17479   ZR064          2         2\n",
              "\n",
              "[4499 rows x 3 columns]"
            ]
          },
          "metadata": {},
          "execution_count": 16
        }
      ]
    },
    {
      "cell_type": "code",
      "metadata": {
        "colab": {
          "base_uri": "https://localhost:8080/",
          "height": 197
        },
        "id": "F12zu_cae809",
        "outputId": "30830421-22a7-4c14-dec2-c7ba06aaa072"
      },
      "source": [
        "#check uniqueness of data values in relations to the 'customer_session_id' column\n",
        "df_cust_sess_id = df_json_concat.groupby('customerSessionId')['price','name','hits.eventType.category'].nunique().add_prefix('num_').reset_index()\n",
        "filter_cust_sess = df_cust_sess_id[df_cust_sess_id['num_price']>1]\n",
        "df_cust_sess_id.head()"
      ],
      "execution_count": null,
      "outputs": [
        {
          "output_type": "execute_result",
          "data": {
            "text/html": [
              "<div>\n",
              "<style scoped>\n",
              "    .dataframe tbody tr th:only-of-type {\n",
              "        vertical-align: middle;\n",
              "    }\n",
              "\n",
              "    .dataframe tbody tr th {\n",
              "        vertical-align: top;\n",
              "    }\n",
              "\n",
              "    .dataframe thead th {\n",
              "        text-align: right;\n",
              "    }\n",
              "</style>\n",
              "<table border=\"1\" class=\"dataframe\">\n",
              "  <thead>\n",
              "    <tr style=\"text-align: right;\">\n",
              "      <th></th>\n",
              "      <th>customerSessionId</th>\n",
              "      <th>num_price</th>\n",
              "      <th>num_name</th>\n",
              "      <th>num_hits.eventType.category</th>\n",
              "    </tr>\n",
              "  </thead>\n",
              "  <tbody>\n",
              "    <tr>\n",
              "      <th>0</th>\n",
              "      <td>cjo06cah000013ea3jqwotb8g1606873564</td>\n",
              "      <td>1</td>\n",
              "      <td>1</td>\n",
              "      <td>2</td>\n",
              "    </tr>\n",
              "    <tr>\n",
              "      <th>1</th>\n",
              "      <td>cjo06cah000013ea3jqwotb8g1606885819</td>\n",
              "      <td>0</td>\n",
              "      <td>0</td>\n",
              "      <td>1</td>\n",
              "    </tr>\n",
              "    <tr>\n",
              "      <th>2</th>\n",
              "      <td>cjo06cah000013ea3jqwotb8g1606920471</td>\n",
              "      <td>0</td>\n",
              "      <td>0</td>\n",
              "      <td>1</td>\n",
              "    </tr>\n",
              "    <tr>\n",
              "      <th>3</th>\n",
              "      <td>cjo06esrd00013gblo1n3haw71606927978</td>\n",
              "      <td>1</td>\n",
              "      <td>1</td>\n",
              "      <td>1</td>\n",
              "    </tr>\n",
              "    <tr>\n",
              "      <th>4</th>\n",
              "      <td>cjo071cbe00014kbixrluiaso1606871144</td>\n",
              "      <td>3</td>\n",
              "      <td>3</td>\n",
              "      <td>3</td>\n",
              "    </tr>\n",
              "  </tbody>\n",
              "</table>\n",
              "</div>"
            ],
            "text/plain": [
              "                     customerSessionId  ...  num_hits.eventType.category\n",
              "0  cjo06cah000013ea3jqwotb8g1606873564  ...                            2\n",
              "1  cjo06cah000013ea3jqwotb8g1606885819  ...                            1\n",
              "2  cjo06cah000013ea3jqwotb8g1606920471  ...                            1\n",
              "3  cjo06esrd00013gblo1n3haw71606927978  ...                            1\n",
              "4  cjo071cbe00014kbixrluiaso1606871144  ...                            3\n",
              "\n",
              "[5 rows x 4 columns]"
            ]
          },
          "metadata": {},
          "execution_count": 17
        }
      ]
    },
    {
      "cell_type": "code",
      "metadata": {
        "id": "6EoFXk2HTJBx"
      },
      "source": [
        ""
      ],
      "execution_count": null,
      "outputs": []
    },
    {
      "cell_type": "markdown",
      "metadata": {
        "id": "rUyLgM2ohaaA"
      },
      "source": [
        "### Update or Drop Column Names"
      ]
    },
    {
      "cell_type": "code",
      "metadata": {
        "id": "kzSHB9-khePA"
      },
      "source": [
        "#drop uneccessary columns\n",
        "df_json_drop_cols = df_json_concat.drop(columns=['sku','attributedSearches','listLocation', 'listPosition',\n",
        "                            'customerArea','totals','bounce', 'totalSearches','totalNavigations',\n",
        "                            'totalRefinements', 'totalNullSearches', 'totalAddToCartQty',\n",
        "                            'uniqueSearches', 'queriesSearched','uniqueRefinements','uniqueNavigations',\n",
        "                            'totalOrderQty','hits.totalquantity','customerLoginId','hits.totalquantity','customerId'])"
      ],
      "execution_count": null,
      "outputs": []
    },
    {
      "cell_type": "code",
      "metadata": {
        "id": "k4nWuwYqheqb"
      },
      "source": [
        "#rename columns\n",
        "df_json_concat = df_json_drop_cols.rename(columns = {'ID': 'product_id','name':'product_name', 'price': 'product_price',\n",
        "                                                'collection':'product_brand','hits.isExit':'last_session_event', 'hits.isEntrance':'first_session_event',\n",
        "                                                'hits.totalprice': 'total_price_cart', 'events':'totals_events',\n",
        "                                                'hits.serverTime': 'event_time'})"
      ],
      "execution_count": null,
      "outputs": []
    },
    {
      "cell_type": "code",
      "metadata": {
        "id": "iiKNYNOthfCE"
      },
      "source": [
        "#one hot coding for event type\n",
        "categorical_columns = ['hits.eventType.category']\n",
        "df_json_concat = pd.get_dummies(df_json_concat, columns=categorical_columns)"
      ],
      "execution_count": null,
      "outputs": []
    },
    {
      "cell_type": "code",
      "metadata": {
        "id": "UmqrKipfhfZP"
      },
      "source": [
        "#rename columns\n",
        "df_json_concat = df_json_concat.rename(columns = {'hits.eventType.category_addToCart': 'event_type_cart',\n",
        "                                                  'hits.eventType.category_order': 'event_type_purchase',\n",
        "                                                  'hits.eventType.category_viewProduct': 'event_type_view',\n",
        "                                                  'hits.hitSequence': 'hitSequence'})"
      ],
      "execution_count": null,
      "outputs": []
    },
    {
      "cell_type": "code",
      "metadata": {
        "id": "j7J7932Sidq6"
      },
      "source": [
        "# copy dataframe for addressing missing values\n",
        "df_json_clean = df_json_concat"
      ],
      "execution_count": null,
      "outputs": []
    },
    {
      "cell_type": "markdown",
      "metadata": {
        "id": "_0Q9yXvBfUZb"
      },
      "source": [
        "### Address Missing Values"
      ]
    },
    {
      "cell_type": "markdown",
      "metadata": {
        "id": "jBB1BIdnYjAL"
      },
      "source": [
        "##### Missing values for Product Price"
      ]
    },
    {
      "cell_type": "code",
      "metadata": {
        "id": "quNqD1y5fW9d"
      },
      "source": [
        "##### Reduce missing values for  Product Price #####\n",
        "\n",
        "# create dataframe without nan values and use it for later mapping\n",
        "df_no_nan_prod_price = df_json_clean.dropna(subset=['product_price'])\n",
        "\n",
        "# create groupby dataframe with product_price and product_id\n",
        "group_prod_id = df_no_nan_prod_price.groupby('product_id')['product_price'].agg(pd.Series.mean).to_frame()\n",
        "group_prod_id = group_prod_id.reset_index(drop=False)\n",
        "\n",
        "# create mapping dictionaty for price\n",
        "price_dict = pd.Series(group_prod_id.product_price.values, index = group_prod_id.product_id).to_dict()\n",
        "\n",
        "#fill in missing values for category code\n",
        "df_json_clean.product_price = df_json_clean.product_price.fillna(df_json_clean.product_id.map(price_dict))"
      ],
      "execution_count": null,
      "outputs": []
    },
    {
      "cell_type": "markdown",
      "metadata": {
        "id": "LFPHB_AEUfki"
      },
      "source": [
        "###### Missing values for Product Name"
      ]
    },
    {
      "cell_type": "code",
      "metadata": {
        "id": "Gdp9-HZTUbxf"
      },
      "source": [
        "##### Reduce missing values for  Product Name #####\n",
        "\n",
        "# create dataframe without nan values for product_name column\n",
        "df_no_nan_prod_name = df_json_clean.dropna(subset=['product_name'])\n",
        "\n",
        "# create dataframe that's grouped by the category id column and selects the most common value for product_name column\n",
        "group_prod_id_2 = df_no_nan_prod_name.groupby('product_id')['product_name'].agg(pd.Series.mode).to_frame()\n",
        "group_prod_id_2 = group_prod_id_2.reset_index(drop=False)\n",
        "\n",
        "# create a dictionary for reference mapping that uses the category_id column as key and the brand column as values\n",
        "prod_name_dict = pd.Series(group_prod_id_2.product_name.values, index = group_prod_id_2.product_id).to_dict()\n",
        "\n",
        "# fill in missing values for brand using reference dictionary \n",
        "df_json_clean.product_name = df_json_clean.product_name.fillna(df_json_clean.product_id.map(prod_name_dict))"
      ],
      "execution_count": null,
      "outputs": []
    },
    {
      "cell_type": "markdown",
      "metadata": {
        "id": "4X-vpdyfuZpn"
      },
      "source": [
        "###### Missing values for numerical columns \n",
        "\n",
        "      Columns should have a NaN value. Consquently, the NaN values can be replaced with  0"
      ]
    },
    {
      "cell_type": "code",
      "metadata": {
        "id": "qphef-NhY7U7"
      },
      "source": [
        "# columns with misisng values that can be filled in with 0\n",
        "cols_fill_0 = ['totalViewProducts','totalViewProductRevenue','totalAddToCarts','totalAddToCartRevenue', 'total_price_cart','totalOrders','totalOrderRevenue','uniqueViewProducts', 'uniqueAddToCarts', 'uniqueOrders']\n",
        "\n",
        "# replace missing values with 0\n",
        "df_json_clean[cols_fill_0] = df_json_clean[cols_fill_0].fillna(0)"
      ],
      "execution_count": null,
      "outputs": []
    },
    {
      "cell_type": "markdown",
      "metadata": {
        "id": "EHnybsqDu17h"
      },
      "source": [
        "###### Final updates to address missing values"
      ]
    },
    {
      "cell_type": "code",
      "metadata": {
        "colab": {
          "base_uri": "https://localhost:8080/"
        },
        "id": "6zimxVAgYE1q",
        "outputId": "40e0ddec-010f-48cd-a00f-5bc119986049"
      },
      "source": [
        "# re-check address missing values\n",
        "null_columns= df_json_clean.columns[df_json_clean.isnull().any()]\n",
        "df_json_clean[null_columns].isnull().sum()"
      ],
      "execution_count": null,
      "outputs": [
        {
          "output_type": "execute_result",
          "data": {
            "text/plain": [
              "product_name        135457\n",
              "product_price       135457\n",
              "quantity           1674638\n",
              "hits.totalitems    1674638\n",
              "dtype: int64"
            ]
          },
          "metadata": {},
          "execution_count": 26
        }
      ]
    },
    {
      "cell_type": "code",
      "metadata": {
        "id": "t_ZqNoT_JY6F",
        "colab": {
          "base_uri": "https://localhost:8080/"
        },
        "outputId": "379aed9c-e13e-4e1f-e0f8-1c3a6e23a9b7"
      },
      "source": [
        "#re-check percentage of missing values\n",
        "percent_missing = round(df_json_clean.isnull().sum() * 100 / len(df_json_clean),2)\n",
        "percent_missing"
      ],
      "execution_count": null,
      "outputs": [
        {
          "output_type": "execute_result",
          "data": {
            "text/plain": [
              "product_id                         0.00\n",
              "product_name                       7.90\n",
              "product_price                      7.90\n",
              "product_brand                      0.00\n",
              "quantity                          97.69\n",
              "event_time                         0.00\n",
              "hitSequence                        0.00\n",
              "first_session_event                0.00\n",
              "last_session_event                 0.00\n",
              "hits.totalitems                   97.69\n",
              "total_price_cart                   0.00\n",
              "customerVisitorId                  0.00\n",
              "customerSessionId                  0.00\n",
              "sessionStartTime                   0.00\n",
              "sessionEndTime                     0.00\n",
              "customerSessionNumber              0.00\n",
              "timeOnSite                         0.00\n",
              "totals_events                      0.00\n",
              "newSession                         0.00\n",
              "totalViewProducts                  0.00\n",
              "totalViewProductRevenue            0.00\n",
              "uniqueViewProducts                 0.00\n",
              "totalAddToCarts                    0.00\n",
              "totalAddToCartRevenue              0.00\n",
              "uniqueAddToCarts                   0.00\n",
              "totalOrders                        0.00\n",
              "totalOrderRevenue                  0.00\n",
              "uniqueOrders                       0.00\n",
              "event_type_cart                    0.00\n",
              "event_type_purchase                0.00\n",
              "hits.eventType.category_search     0.00\n",
              "event_type_view                    0.00\n",
              "dtype: float64"
            ]
          },
          "metadata": {},
          "execution_count": 27
        }
      ]
    },
    {
      "cell_type": "code",
      "metadata": {
        "id": "F-oQOEOvfYDf"
      },
      "source": [
        "# drop rows with missing values for  product_name\n",
        "df_json_clean = df_json_clean.dropna(subset=['product_name'])\n",
        "\n",
        "# drop rows with missing values for  product_price\n",
        "df_json_clean = df_json_clean.dropna(subset=['product_price'])\n",
        "\n",
        "# drop columns with significant amount of missing data\n",
        "df_json_clean = df_json_clean.drop(['quantity'], axis = 1)"
      ],
      "execution_count": null,
      "outputs": []
    },
    {
      "cell_type": "code",
      "metadata": {
        "id": "vYkbn-P6wq2Y",
        "colab": {
          "base_uri": "https://localhost:8080/"
        },
        "outputId": "13972615-aff0-4c0e-f241-e284e7695329"
      },
      "source": [
        "# re-check address missing values\n",
        "null_columns= df_json_clean.columns[df_json_clean.isnull().any()]\n",
        "df_json_clean[null_columns].isnull().sum()"
      ],
      "execution_count": null,
      "outputs": [
        {
          "output_type": "execute_result",
          "data": {
            "text/plain": [
              "hits.totalitems    1539181\n",
              "dtype: int64"
            ]
          },
          "metadata": {},
          "execution_count": 29
        }
      ]
    },
    {
      "cell_type": "code",
      "metadata": {
        "id": "SciRTPB6wsRf"
      },
      "source": [
        "#transition into final dataframe\n",
        "df_json_final = df_json_clean"
      ],
      "execution_count": null,
      "outputs": []
    },
    {
      "cell_type": "markdown",
      "metadata": {
        "id": "h0-yGYJGwA1F"
      },
      "source": [
        "### Create Time Based Features"
      ]
    },
    {
      "cell_type": "code",
      "metadata": {
        "id": "oCs_7zkYwRql"
      },
      "source": [
        "#convert timestamps\n",
        "df_json_final['event_time'] = df_json_final['event_time'].str.split(\".\").str.get(0)\n",
        "df_json_final['sessionStartTime'] = df_json_final['sessionStartTime'].str.split(\".\").str.get(0)\n",
        "df_json_final['sessionEndTime'] = df_json_final['sessionEndTime'].str.split(\".\").str.get(0)\n",
        "\n",
        "#convert event_time columns to date_time data type\n",
        "df_json_final['event_time'] = pd.to_datetime(df_json_final['event_time'])\n",
        "df_json_final['sessionStartTime'] = pd.to_datetime(df_json_final['sessionStartTime'])\n",
        "df_json_final['sessionEndTime'] = pd.to_datetime(df_json_final['sessionEndTime'])"
      ],
      "execution_count": null,
      "outputs": []
    },
    {
      "cell_type": "code",
      "metadata": {
        "id": "CgC3KmKZVZhs"
      },
      "source": [
        "#drop 'timeOnSite' column\n",
        "df_json_final = df_json_final.drop(columns=['timeOnSite']) \n",
        "\n",
        "#re-create timeOnSite\n",
        "df_json_final['timeOnSite'] = df_json_final['sessionEndTime']- df_json_final['sessionStartTime']\n",
        "df_json_final['timeOnSite'] = df_json_final['timeOnSite']/np.timedelta64(1,'s')"
      ],
      "execution_count": null,
      "outputs": []
    },
    {
      "cell_type": "code",
      "metadata": {
        "id": "ePR_C4Q7rg3N"
      },
      "source": [
        "#create feature: year\n",
        "df_json_final['event_year'] = df_json_final.event_time.dt.year\n",
        "\n",
        "#create feature: month\n",
        "df_json_final['event_month'] = df_json_final.event_time.dt.month\n",
        "\n",
        "#create feature: day of the week\n",
        "df_json_final['event_day_of_week'] = df_json_final.event_time.dt.dayofweek\n",
        "\n",
        "#create feature: day of the month\n",
        "df_json_final['event_day_of_month'] = df_json_final.event_time.dt.day\n",
        "\n",
        "#create feature: day of the year\n",
        "df_json_final['event_day_of_year'] = df_json_final.event_time.dt.dayofyear\n",
        "\n",
        "#create feature: hour\n",
        "df_json_final['event_hour'] = df_json_final.event_time.dt.hour\n",
        "\n",
        "#create feature: minute\n",
        "df_json_final['event_minute'] = df_json_final.event_time.dt.minute\n",
        "\n",
        "#create feature: second\n",
        "df_json_final['event_second'] = df_json_final.event_time.dt.second\n",
        "\n",
        "#create feature: micorsecond\n",
        "df_json_final['event_micorsecond'] = df_json_final.event_time.dt.microsecond"
      ],
      "execution_count": null,
      "outputs": []
    },
    {
      "cell_type": "code",
      "metadata": {
        "id": "OB1ouLygrg9q"
      },
      "source": [
        "#create feature: weekend flag\n",
        "day_names = df_json_final.event_time.dt.day_name()\n",
        "df_json_final['weekend']  = day_names.apply(lambda x : 1 if x in ['Saturday','Sunday'] else 0)"
      ],
      "execution_count": null,
      "outputs": []
    },
    {
      "cell_type": "code",
      "metadata": {
        "id": "OPaUydyPBzwo"
      },
      "source": [
        "#create feature: holiday\n",
        "import holidays\n",
        "us_holidays = holidays.US()\n",
        "df_json_final['holiday']  = df_json_final['event_time'].apply(lambda x : x in us_holidays)"
      ],
      "execution_count": null,
      "outputs": []
    },
    {
      "cell_type": "code",
      "metadata": {
        "id": "eiCED8t41YgX",
        "colab": {
          "base_uri": "https://localhost:8080/",
          "height": 417
        },
        "outputId": "8e775f41-cd7b-487d-b692-44004c5ad121"
      },
      "source": [
        "#check data\n",
        "df_json_final.head()"
      ],
      "execution_count": null,
      "outputs": [
        {
          "output_type": "execute_result",
          "data": {
            "text/html": [
              "<div>\n",
              "<style scoped>\n",
              "    .dataframe tbody tr th:only-of-type {\n",
              "        vertical-align: middle;\n",
              "    }\n",
              "\n",
              "    .dataframe tbody tr th {\n",
              "        vertical-align: top;\n",
              "    }\n",
              "\n",
              "    .dataframe thead th {\n",
              "        text-align: right;\n",
              "    }\n",
              "</style>\n",
              "<table border=\"1\" class=\"dataframe\">\n",
              "  <thead>\n",
              "    <tr style=\"text-align: right;\">\n",
              "      <th></th>\n",
              "      <th>product_id</th>\n",
              "      <th>product_name</th>\n",
              "      <th>product_price</th>\n",
              "      <th>product_brand</th>\n",
              "      <th>event_time</th>\n",
              "      <th>hitSequence</th>\n",
              "      <th>first_session_event</th>\n",
              "      <th>last_session_event</th>\n",
              "      <th>hits.totalitems</th>\n",
              "      <th>total_price_cart</th>\n",
              "      <th>customerVisitorId</th>\n",
              "      <th>customerSessionId</th>\n",
              "      <th>sessionStartTime</th>\n",
              "      <th>sessionEndTime</th>\n",
              "      <th>customerSessionNumber</th>\n",
              "      <th>totals_events</th>\n",
              "      <th>newSession</th>\n",
              "      <th>totalViewProducts</th>\n",
              "      <th>totalViewProductRevenue</th>\n",
              "      <th>uniqueViewProducts</th>\n",
              "      <th>totalAddToCarts</th>\n",
              "      <th>totalAddToCartRevenue</th>\n",
              "      <th>uniqueAddToCarts</th>\n",
              "      <th>totalOrders</th>\n",
              "      <th>totalOrderRevenue</th>\n",
              "      <th>uniqueOrders</th>\n",
              "      <th>event_type_cart</th>\n",
              "      <th>event_type_purchase</th>\n",
              "      <th>hits.eventType.category_search</th>\n",
              "      <th>event_type_view</th>\n",
              "      <th>timeOnSite</th>\n",
              "      <th>event_year</th>\n",
              "      <th>event_month</th>\n",
              "      <th>event_day_of_week</th>\n",
              "      <th>event_day_of_month</th>\n",
              "      <th>event_day_of_year</th>\n",
              "      <th>event_hour</th>\n",
              "      <th>event_minute</th>\n",
              "      <th>event_second</th>\n",
              "      <th>event_micorsecond</th>\n",
              "      <th>weekend</th>\n",
              "      <th>holiday</th>\n",
              "    </tr>\n",
              "  </thead>\n",
              "  <tbody>\n",
              "    <tr>\n",
              "      <th>0</th>\n",
              "      <td>BR013</td>\n",
              "      <td>nutritional yeast seasoning</td>\n",
              "      <td>4.99</td>\n",
              "      <td>Bragg</td>\n",
              "      <td>2020-12-02 03:03:04</td>\n",
              "      <td>1</td>\n",
              "      <td>True</td>\n",
              "      <td>True</td>\n",
              "      <td>NaN</td>\n",
              "      <td>0.0</td>\n",
              "      <td>cki6s4tr200013bdpkaye9mdn</td>\n",
              "      <td>cki6s4tr200013bdpkaye9mdn1606878184</td>\n",
              "      <td>2020-12-02 03:03:04</td>\n",
              "      <td>2020-12-02 03:03:04</td>\n",
              "      <td>1</td>\n",
              "      <td>1</td>\n",
              "      <td>True</td>\n",
              "      <td>1</td>\n",
              "      <td>4.99</td>\n",
              "      <td>1</td>\n",
              "      <td>0</td>\n",
              "      <td>0.0</td>\n",
              "      <td>0</td>\n",
              "      <td>0</td>\n",
              "      <td>0.0</td>\n",
              "      <td>0</td>\n",
              "      <td>0</td>\n",
              "      <td>0</td>\n",
              "      <td>0</td>\n",
              "      <td>1</td>\n",
              "      <td>0.0</td>\n",
              "      <td>2020</td>\n",
              "      <td>12</td>\n",
              "      <td>2</td>\n",
              "      <td>2</td>\n",
              "      <td>337</td>\n",
              "      <td>3</td>\n",
              "      <td>3</td>\n",
              "      <td>4</td>\n",
              "      <td>0</td>\n",
              "      <td>0</td>\n",
              "      <td>False</td>\n",
              "    </tr>\n",
              "    <tr>\n",
              "      <th>1</th>\n",
              "      <td>DRB004</td>\n",
              "      <td>pure castile bar soap peppermint</td>\n",
              "      <td>4.50</td>\n",
              "      <td>Dr. Bronner's</td>\n",
              "      <td>2020-12-02 02:06:37</td>\n",
              "      <td>1</td>\n",
              "      <td>True</td>\n",
              "      <td>True</td>\n",
              "      <td>NaN</td>\n",
              "      <td>0.0</td>\n",
              "      <td>cki6rrijb000125c5cdol7ahd</td>\n",
              "      <td>cki6rrijb000125c5cdol7ahd1606874797</td>\n",
              "      <td>2020-12-02 02:06:37</td>\n",
              "      <td>2020-12-02 02:06:37</td>\n",
              "      <td>1</td>\n",
              "      <td>1</td>\n",
              "      <td>True</td>\n",
              "      <td>1</td>\n",
              "      <td>4.50</td>\n",
              "      <td>1</td>\n",
              "      <td>0</td>\n",
              "      <td>0.0</td>\n",
              "      <td>0</td>\n",
              "      <td>0</td>\n",
              "      <td>0.0</td>\n",
              "      <td>0</td>\n",
              "      <td>0</td>\n",
              "      <td>0</td>\n",
              "      <td>0</td>\n",
              "      <td>1</td>\n",
              "      <td>0.0</td>\n",
              "      <td>2020</td>\n",
              "      <td>12</td>\n",
              "      <td>2</td>\n",
              "      <td>2</td>\n",
              "      <td>337</td>\n",
              "      <td>2</td>\n",
              "      <td>6</td>\n",
              "      <td>37</td>\n",
              "      <td>0</td>\n",
              "      <td>0</td>\n",
              "      <td>False</td>\n",
              "    </tr>\n",
              "    <tr>\n",
              "      <th>2</th>\n",
              "      <td>SUS022</td>\n",
              "      <td>100% daily value multi-vitamin</td>\n",
              "      <td>8.39</td>\n",
              "      <td>Superior Source</td>\n",
              "      <td>2020-12-02 03:16:23</td>\n",
              "      <td>1</td>\n",
              "      <td>True</td>\n",
              "      <td>True</td>\n",
              "      <td>NaN</td>\n",
              "      <td>0.0</td>\n",
              "      <td>cki6uboil00013he8jwwj434w</td>\n",
              "      <td>cki6uboil00013he8jwwj434w1606878983</td>\n",
              "      <td>2020-12-02 03:16:23</td>\n",
              "      <td>2020-12-02 03:16:23</td>\n",
              "      <td>1</td>\n",
              "      <td>1</td>\n",
              "      <td>True</td>\n",
              "      <td>1</td>\n",
              "      <td>8.39</td>\n",
              "      <td>1</td>\n",
              "      <td>0</td>\n",
              "      <td>0.0</td>\n",
              "      <td>0</td>\n",
              "      <td>0</td>\n",
              "      <td>0.0</td>\n",
              "      <td>0</td>\n",
              "      <td>0</td>\n",
              "      <td>0</td>\n",
              "      <td>0</td>\n",
              "      <td>1</td>\n",
              "      <td>0.0</td>\n",
              "      <td>2020</td>\n",
              "      <td>12</td>\n",
              "      <td>2</td>\n",
              "      <td>2</td>\n",
              "      <td>337</td>\n",
              "      <td>3</td>\n",
              "      <td>16</td>\n",
              "      <td>23</td>\n",
              "      <td>0</td>\n",
              "      <td>0</td>\n",
              "      <td>False</td>\n",
              "    </tr>\n",
              "    <tr>\n",
              "      <th>3</th>\n",
              "      <td>NLS002</td>\n",
              "      <td>natural elderberry concentrate blend</td>\n",
              "      <td>11.99</td>\n",
              "      <td>Natural Sources</td>\n",
              "      <td>2020-12-02 03:47:05</td>\n",
              "      <td>1</td>\n",
              "      <td>True</td>\n",
              "      <td>True</td>\n",
              "      <td>NaN</td>\n",
              "      <td>0.0</td>\n",
              "      <td>cki6vcrm500013vcysh1hk38z</td>\n",
              "      <td>cki6vcrm500013vcysh1hk38z1606880825</td>\n",
              "      <td>2020-12-02 03:47:05</td>\n",
              "      <td>2020-12-02 03:47:05</td>\n",
              "      <td>1</td>\n",
              "      <td>1</td>\n",
              "      <td>True</td>\n",
              "      <td>1</td>\n",
              "      <td>11.99</td>\n",
              "      <td>1</td>\n",
              "      <td>0</td>\n",
              "      <td>0.0</td>\n",
              "      <td>0</td>\n",
              "      <td>0</td>\n",
              "      <td>0.0</td>\n",
              "      <td>0</td>\n",
              "      <td>0</td>\n",
              "      <td>0</td>\n",
              "      <td>0</td>\n",
              "      <td>1</td>\n",
              "      <td>0.0</td>\n",
              "      <td>2020</td>\n",
              "      <td>12</td>\n",
              "      <td>2</td>\n",
              "      <td>2</td>\n",
              "      <td>337</td>\n",
              "      <td>3</td>\n",
              "      <td>47</td>\n",
              "      <td>5</td>\n",
              "      <td>0</td>\n",
              "      <td>0</td>\n",
              "      <td>False</td>\n",
              "    </tr>\n",
              "    <tr>\n",
              "      <th>4</th>\n",
              "      <td>MOM002</td>\n",
              "      <td>organic hair remover with tea tree refill jar</td>\n",
              "      <td>10.49</td>\n",
              "      <td>Moom</td>\n",
              "      <td>2020-12-02 03:49:57</td>\n",
              "      <td>1</td>\n",
              "      <td>True</td>\n",
              "      <td>True</td>\n",
              "      <td>NaN</td>\n",
              "      <td>0.0</td>\n",
              "      <td>cki6vggk900013xe68nl4dao3</td>\n",
              "      <td>cki6vggk900013xe68nl4dao31606880997</td>\n",
              "      <td>2020-12-02 03:49:57</td>\n",
              "      <td>2020-12-02 03:49:57</td>\n",
              "      <td>1</td>\n",
              "      <td>1</td>\n",
              "      <td>True</td>\n",
              "      <td>1</td>\n",
              "      <td>10.49</td>\n",
              "      <td>1</td>\n",
              "      <td>0</td>\n",
              "      <td>0.0</td>\n",
              "      <td>0</td>\n",
              "      <td>0</td>\n",
              "      <td>0.0</td>\n",
              "      <td>0</td>\n",
              "      <td>0</td>\n",
              "      <td>0</td>\n",
              "      <td>0</td>\n",
              "      <td>1</td>\n",
              "      <td>0.0</td>\n",
              "      <td>2020</td>\n",
              "      <td>12</td>\n",
              "      <td>2</td>\n",
              "      <td>2</td>\n",
              "      <td>337</td>\n",
              "      <td>3</td>\n",
              "      <td>49</td>\n",
              "      <td>57</td>\n",
              "      <td>0</td>\n",
              "      <td>0</td>\n",
              "      <td>False</td>\n",
              "    </tr>\n",
              "  </tbody>\n",
              "</table>\n",
              "</div>"
            ],
            "text/plain": [
              "  product_id                                   product_name  ...  weekend holiday\n",
              "0      BR013                    nutritional yeast seasoning  ...        0   False\n",
              "1     DRB004               pure castile bar soap peppermint  ...        0   False\n",
              "2     SUS022                 100% daily value multi-vitamin  ...        0   False\n",
              "3     NLS002           natural elderberry concentrate blend  ...        0   False\n",
              "4     MOM002  organic hair remover with tea tree refill jar  ...        0   False\n",
              "\n",
              "[5 rows x 42 columns]"
            ]
          },
          "metadata": {},
          "execution_count": 36
        }
      ]
    },
    {
      "cell_type": "markdown",
      "metadata": {
        "id": "4iJUYmArn-fb"
      },
      "source": [
        "### Final Updates"
      ]
    },
    {
      "cell_type": "code",
      "metadata": {
        "id": "5dDXPcX7oAmr"
      },
      "source": [
        "#drop uneccessary columns\n",
        "df_json_final = df_json_final.drop(columns=['event_time','sessionStartTime', 'sessionEndTime'])"
      ],
      "execution_count": null,
      "outputs": []
    },
    {
      "cell_type": "code",
      "metadata": {
        "id": "taTMqk_94OaY"
      },
      "source": [
        "#Encode 'newSession' boolean columns\n",
        "df_json_final.loc[df_json_final['newSession'] == True, 'newSession'] = 1\n",
        "df_json_final.loc[df_json_final['newSession'] == False, 'newSession'] = 0\n",
        "\n",
        "#Encode 'holiday' boolean columns\n",
        "df_json_final.loc[df_json_final['holiday'] == True, 'holiday'] = 1\n",
        "df_json_final.loc[df_json_final['holiday'] == False, 'holiday'] = 0 \n",
        "\n",
        "#Encode 'first_session_event' boolean columns\n",
        "df_json_final.loc[df_json_final['first_session_event'] == True, 'first_session_event'] = 1\n",
        "df_json_final.loc[df_json_final['first_session_event'] == False, 'first_session_event'] = 0\n",
        "\n",
        "#Encode 'last_session_event' boolean columns\n",
        "df_json_final.loc[df_json_final['last_session_event'] == True, 'last_session_event'] = 1\n",
        "df_json_final.loc[df_json_final['last_session_event'] == False, 'last_session_event'] = 0"
      ],
      "execution_count": null,
      "outputs": []
    },
    {
      "cell_type": "code",
      "metadata": {
        "colab": {
          "base_uri": "https://localhost:8080/",
          "height": 417
        },
        "id": "DtV8UAaf4igU",
        "outputId": "05ee7888-1689-43f1-9e65-582ea5e3e5c6"
      },
      "source": [
        "df_json_final.head()"
      ],
      "execution_count": null,
      "outputs": [
        {
          "output_type": "execute_result",
          "data": {
            "text/html": [
              "<div>\n",
              "<style scoped>\n",
              "    .dataframe tbody tr th:only-of-type {\n",
              "        vertical-align: middle;\n",
              "    }\n",
              "\n",
              "    .dataframe tbody tr th {\n",
              "        vertical-align: top;\n",
              "    }\n",
              "\n",
              "    .dataframe thead th {\n",
              "        text-align: right;\n",
              "    }\n",
              "</style>\n",
              "<table border=\"1\" class=\"dataframe\">\n",
              "  <thead>\n",
              "    <tr style=\"text-align: right;\">\n",
              "      <th></th>\n",
              "      <th>product_id</th>\n",
              "      <th>product_name</th>\n",
              "      <th>product_price</th>\n",
              "      <th>product_brand</th>\n",
              "      <th>hitSequence</th>\n",
              "      <th>first_session_event</th>\n",
              "      <th>last_session_event</th>\n",
              "      <th>hits.totalitems</th>\n",
              "      <th>total_price_cart</th>\n",
              "      <th>customerVisitorId</th>\n",
              "      <th>customerSessionId</th>\n",
              "      <th>customerSessionNumber</th>\n",
              "      <th>totals_events</th>\n",
              "      <th>newSession</th>\n",
              "      <th>totalViewProducts</th>\n",
              "      <th>totalViewProductRevenue</th>\n",
              "      <th>uniqueViewProducts</th>\n",
              "      <th>totalAddToCarts</th>\n",
              "      <th>totalAddToCartRevenue</th>\n",
              "      <th>uniqueAddToCarts</th>\n",
              "      <th>totalOrders</th>\n",
              "      <th>totalOrderRevenue</th>\n",
              "      <th>uniqueOrders</th>\n",
              "      <th>event_type_cart</th>\n",
              "      <th>event_type_purchase</th>\n",
              "      <th>hits.eventType.category_search</th>\n",
              "      <th>event_type_view</th>\n",
              "      <th>timeOnSite</th>\n",
              "      <th>event_year</th>\n",
              "      <th>event_month</th>\n",
              "      <th>event_day_of_week</th>\n",
              "      <th>event_day_of_month</th>\n",
              "      <th>event_day_of_year</th>\n",
              "      <th>event_hour</th>\n",
              "      <th>event_minute</th>\n",
              "      <th>event_second</th>\n",
              "      <th>event_micorsecond</th>\n",
              "      <th>weekend</th>\n",
              "      <th>holiday</th>\n",
              "    </tr>\n",
              "  </thead>\n",
              "  <tbody>\n",
              "    <tr>\n",
              "      <th>0</th>\n",
              "      <td>BR013</td>\n",
              "      <td>nutritional yeast seasoning</td>\n",
              "      <td>4.99</td>\n",
              "      <td>Bragg</td>\n",
              "      <td>1</td>\n",
              "      <td>1</td>\n",
              "      <td>1</td>\n",
              "      <td>NaN</td>\n",
              "      <td>0.0</td>\n",
              "      <td>cki6s4tr200013bdpkaye9mdn</td>\n",
              "      <td>cki6s4tr200013bdpkaye9mdn1606878184</td>\n",
              "      <td>1</td>\n",
              "      <td>1</td>\n",
              "      <td>1</td>\n",
              "      <td>1</td>\n",
              "      <td>4.99</td>\n",
              "      <td>1</td>\n",
              "      <td>0</td>\n",
              "      <td>0.0</td>\n",
              "      <td>0</td>\n",
              "      <td>0</td>\n",
              "      <td>0.0</td>\n",
              "      <td>0</td>\n",
              "      <td>0</td>\n",
              "      <td>0</td>\n",
              "      <td>0</td>\n",
              "      <td>1</td>\n",
              "      <td>0.0</td>\n",
              "      <td>2020</td>\n",
              "      <td>12</td>\n",
              "      <td>2</td>\n",
              "      <td>2</td>\n",
              "      <td>337</td>\n",
              "      <td>3</td>\n",
              "      <td>3</td>\n",
              "      <td>4</td>\n",
              "      <td>0</td>\n",
              "      <td>0</td>\n",
              "      <td>0</td>\n",
              "    </tr>\n",
              "    <tr>\n",
              "      <th>1</th>\n",
              "      <td>DRB004</td>\n",
              "      <td>pure castile bar soap peppermint</td>\n",
              "      <td>4.50</td>\n",
              "      <td>Dr. Bronner's</td>\n",
              "      <td>1</td>\n",
              "      <td>1</td>\n",
              "      <td>1</td>\n",
              "      <td>NaN</td>\n",
              "      <td>0.0</td>\n",
              "      <td>cki6rrijb000125c5cdol7ahd</td>\n",
              "      <td>cki6rrijb000125c5cdol7ahd1606874797</td>\n",
              "      <td>1</td>\n",
              "      <td>1</td>\n",
              "      <td>1</td>\n",
              "      <td>1</td>\n",
              "      <td>4.50</td>\n",
              "      <td>1</td>\n",
              "      <td>0</td>\n",
              "      <td>0.0</td>\n",
              "      <td>0</td>\n",
              "      <td>0</td>\n",
              "      <td>0.0</td>\n",
              "      <td>0</td>\n",
              "      <td>0</td>\n",
              "      <td>0</td>\n",
              "      <td>0</td>\n",
              "      <td>1</td>\n",
              "      <td>0.0</td>\n",
              "      <td>2020</td>\n",
              "      <td>12</td>\n",
              "      <td>2</td>\n",
              "      <td>2</td>\n",
              "      <td>337</td>\n",
              "      <td>2</td>\n",
              "      <td>6</td>\n",
              "      <td>37</td>\n",
              "      <td>0</td>\n",
              "      <td>0</td>\n",
              "      <td>0</td>\n",
              "    </tr>\n",
              "    <tr>\n",
              "      <th>2</th>\n",
              "      <td>SUS022</td>\n",
              "      <td>100% daily value multi-vitamin</td>\n",
              "      <td>8.39</td>\n",
              "      <td>Superior Source</td>\n",
              "      <td>1</td>\n",
              "      <td>1</td>\n",
              "      <td>1</td>\n",
              "      <td>NaN</td>\n",
              "      <td>0.0</td>\n",
              "      <td>cki6uboil00013he8jwwj434w</td>\n",
              "      <td>cki6uboil00013he8jwwj434w1606878983</td>\n",
              "      <td>1</td>\n",
              "      <td>1</td>\n",
              "      <td>1</td>\n",
              "      <td>1</td>\n",
              "      <td>8.39</td>\n",
              "      <td>1</td>\n",
              "      <td>0</td>\n",
              "      <td>0.0</td>\n",
              "      <td>0</td>\n",
              "      <td>0</td>\n",
              "      <td>0.0</td>\n",
              "      <td>0</td>\n",
              "      <td>0</td>\n",
              "      <td>0</td>\n",
              "      <td>0</td>\n",
              "      <td>1</td>\n",
              "      <td>0.0</td>\n",
              "      <td>2020</td>\n",
              "      <td>12</td>\n",
              "      <td>2</td>\n",
              "      <td>2</td>\n",
              "      <td>337</td>\n",
              "      <td>3</td>\n",
              "      <td>16</td>\n",
              "      <td>23</td>\n",
              "      <td>0</td>\n",
              "      <td>0</td>\n",
              "      <td>0</td>\n",
              "    </tr>\n",
              "    <tr>\n",
              "      <th>3</th>\n",
              "      <td>NLS002</td>\n",
              "      <td>natural elderberry concentrate blend</td>\n",
              "      <td>11.99</td>\n",
              "      <td>Natural Sources</td>\n",
              "      <td>1</td>\n",
              "      <td>1</td>\n",
              "      <td>1</td>\n",
              "      <td>NaN</td>\n",
              "      <td>0.0</td>\n",
              "      <td>cki6vcrm500013vcysh1hk38z</td>\n",
              "      <td>cki6vcrm500013vcysh1hk38z1606880825</td>\n",
              "      <td>1</td>\n",
              "      <td>1</td>\n",
              "      <td>1</td>\n",
              "      <td>1</td>\n",
              "      <td>11.99</td>\n",
              "      <td>1</td>\n",
              "      <td>0</td>\n",
              "      <td>0.0</td>\n",
              "      <td>0</td>\n",
              "      <td>0</td>\n",
              "      <td>0.0</td>\n",
              "      <td>0</td>\n",
              "      <td>0</td>\n",
              "      <td>0</td>\n",
              "      <td>0</td>\n",
              "      <td>1</td>\n",
              "      <td>0.0</td>\n",
              "      <td>2020</td>\n",
              "      <td>12</td>\n",
              "      <td>2</td>\n",
              "      <td>2</td>\n",
              "      <td>337</td>\n",
              "      <td>3</td>\n",
              "      <td>47</td>\n",
              "      <td>5</td>\n",
              "      <td>0</td>\n",
              "      <td>0</td>\n",
              "      <td>0</td>\n",
              "    </tr>\n",
              "    <tr>\n",
              "      <th>4</th>\n",
              "      <td>MOM002</td>\n",
              "      <td>organic hair remover with tea tree refill jar</td>\n",
              "      <td>10.49</td>\n",
              "      <td>Moom</td>\n",
              "      <td>1</td>\n",
              "      <td>1</td>\n",
              "      <td>1</td>\n",
              "      <td>NaN</td>\n",
              "      <td>0.0</td>\n",
              "      <td>cki6vggk900013xe68nl4dao3</td>\n",
              "      <td>cki6vggk900013xe68nl4dao31606880997</td>\n",
              "      <td>1</td>\n",
              "      <td>1</td>\n",
              "      <td>1</td>\n",
              "      <td>1</td>\n",
              "      <td>10.49</td>\n",
              "      <td>1</td>\n",
              "      <td>0</td>\n",
              "      <td>0.0</td>\n",
              "      <td>0</td>\n",
              "      <td>0</td>\n",
              "      <td>0.0</td>\n",
              "      <td>0</td>\n",
              "      <td>0</td>\n",
              "      <td>0</td>\n",
              "      <td>0</td>\n",
              "      <td>1</td>\n",
              "      <td>0.0</td>\n",
              "      <td>2020</td>\n",
              "      <td>12</td>\n",
              "      <td>2</td>\n",
              "      <td>2</td>\n",
              "      <td>337</td>\n",
              "      <td>3</td>\n",
              "      <td>49</td>\n",
              "      <td>57</td>\n",
              "      <td>0</td>\n",
              "      <td>0</td>\n",
              "      <td>0</td>\n",
              "    </tr>\n",
              "  </tbody>\n",
              "</table>\n",
              "</div>"
            ],
            "text/plain": [
              "  product_id                                   product_name  ...  weekend holiday\n",
              "0      BR013                    nutritional yeast seasoning  ...        0       0\n",
              "1     DRB004               pure castile bar soap peppermint  ...        0       0\n",
              "2     SUS022                 100% daily value multi-vitamin  ...        0       0\n",
              "3     NLS002           natural elderberry concentrate blend  ...        0       0\n",
              "4     MOM002  organic hair remover with tea tree refill jar  ...        0       0\n",
              "\n",
              "[5 rows x 39 columns]"
            ]
          },
          "metadata": {},
          "execution_count": 39
        }
      ]
    },
    {
      "cell_type": "markdown",
      "metadata": {
        "id": "A3ISGp_mbVUb"
      },
      "source": [
        "### Store in CSV File\n"
      ]
    },
    {
      "cell_type": "code",
      "metadata": {
        "id": "8iOVI1N_FODa"
      },
      "source": [
        "#save to csv\n",
        "df_json_final.to_csv('df_json_final.csv', index=False)"
      ],
      "execution_count": null,
      "outputs": []
    }
  ]
}