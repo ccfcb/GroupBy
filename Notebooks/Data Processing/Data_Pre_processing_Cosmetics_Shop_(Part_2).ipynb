{
  "nbformat": 4,
  "nbformat_minor": 0,
  "metadata": {
    "colab": {
      "name": "Data Pre-processing Cosmetics Shop (Part 2)",
      "provenance": [],
      "collapsed_sections": [],
      "machine_shape": "hm"
    },
    "kernelspec": {
      "display_name": "Python 3",
      "language": "python",
      "name": "python3"
    },
    "language_info": {
      "codemirror_mode": {
        "name": "ipython",
        "version": 3
      },
      "file_extension": ".py",
      "mimetype": "text/x-python",
      "name": "python",
      "nbconvert_exporter": "python",
      "pygments_lexer": "ipython3",
      "version": "3.7.0"
    },
    "accelerator": "GPU"
  },
  "cells": [
    {
      "cell_type": "markdown",
      "metadata": {
        "id": "wNF54bdd9GLw"
      },
      "source": [
        "### Drive Set Up"
      ]
    },
    {
      "cell_type": "code",
      "metadata": {
        "id": "PHUjCLng9GL2",
        "colab": {
          "base_uri": "https://localhost:8080/"
        },
        "outputId": "32a7bd82-8c94-4f42-d757-b4b9e0e8e9ef"
      },
      "source": [
        "#Mount the RAW session level data: \n",
        "from google.colab import drive\n",
        "drive.mount('/content/drive')"
      ],
      "execution_count": null,
      "outputs": [
        {
          "output_type": "stream",
          "name": "stdout",
          "text": [
            "Drive already mounted at /content/drive; to attempt to forcibly remount, call drive.mount(\"/content/drive\", force_remount=True).\n"
          ]
        }
      ]
    },
    {
      "cell_type": "code",
      "metadata": {
        "id": "hmecc4xG9GL3"
      },
      "source": [
        "import os\n",
        "# The path below should point to the directory containing this notebook and the associated utility files\n",
        "# Change it if necessary\n",
        "os.chdir('/content/drive/MyDrive/GroupBy/')"
      ],
      "execution_count": null,
      "outputs": []
    },
    {
      "cell_type": "markdown",
      "metadata": {
        "id": "ll95PalQ9GL3"
      },
      "source": [
        "### Import Library"
      ]
    },
    {
      "cell_type": "code",
      "metadata": {
        "id": "zFnn30qm9GL3"
      },
      "source": [
        "import pandas as pd\n",
        "import numpy as np\n",
        "import matplotlib.pyplot as plt\n",
        "import seaborn as sns\n",
        "%matplotlib inline\n",
        "import warnings\n",
        "warnings.filterwarnings('ignore')\n",
        "import numpy as np\n",
        "import matplotlib.pyplot as plt\n",
        "from datetime import timedelta\n",
        "from datetime import datetime\n",
        "from time import strftime\n",
        "from time import gmtime\n",
        "import holidays"
      ],
      "execution_count": null,
      "outputs": []
    },
    {
      "cell_type": "markdown",
      "metadata": {
        "id": "Ipvqic7g9GL4"
      },
      "source": [
        "### Import Data"
      ]
    },
    {
      "cell_type": "code",
      "metadata": {
        "id": "LFvXrVmO9GL5"
      },
      "source": [
        "#load the 'eCommerce Events History in Cosmetics Shop' data set \n",
        "temp_df = pd.read_csv('df_ec_final_0.csv')"
      ],
      "execution_count": null,
      "outputs": []
    },
    {
      "cell_type": "code",
      "metadata": {
        "id": "0jOEJ8pDiipO"
      },
      "source": [
        "# reset\n",
        "df_ec_coded = temp_df"
      ],
      "execution_count": null,
      "outputs": []
    },
    {
      "cell_type": "markdown",
      "metadata": {
        "id": "9trQULg7QEHl"
      },
      "source": [
        "### Explore Data"
      ]
    },
    {
      "cell_type": "code",
      "metadata": {
        "colab": {
          "base_uri": "https://localhost:8080/",
          "height": 467
        },
        "id": "srIR7NiJyYBl",
        "outputId": "6b2bdb37-eaa8-460b-8add-46f0bace5980"
      },
      "source": [
        "#preview data\n",
        "df_ec_coded.head(5)"
      ],
      "execution_count": null,
      "outputs": [
        {
          "output_type": "execute_result",
          "data": {
            "text/html": [
              "<div>\n",
              "<style scoped>\n",
              "    .dataframe tbody tr th:only-of-type {\n",
              "        vertical-align: middle;\n",
              "    }\n",
              "\n",
              "    .dataframe tbody tr th {\n",
              "        vertical-align: top;\n",
              "    }\n",
              "\n",
              "    .dataframe thead th {\n",
              "        text-align: right;\n",
              "    }\n",
              "</style>\n",
              "<table border=\"1\" class=\"dataframe\">\n",
              "  <thead>\n",
              "    <tr style=\"text-align: right;\">\n",
              "      <th></th>\n",
              "      <th>event_time</th>\n",
              "      <th>product_id</th>\n",
              "      <th>category_id</th>\n",
              "      <th>product_brand</th>\n",
              "      <th>product_price</th>\n",
              "      <th>customerVisitorId</th>\n",
              "      <th>customerSessionId</th>\n",
              "      <th>unique_key</th>\n",
              "      <th>unique_sess_event</th>\n",
              "      <th>unique_sess</th>\n",
              "      <th>totals_events</th>\n",
              "      <th>event_type_original</th>\n",
              "      <th>event_type_cart</th>\n",
              "      <th>event_type_purchase</th>\n",
              "      <th>event_type_remove_from_cart</th>\n",
              "      <th>event_type_view</th>\n",
              "      <th>totalViewProducts</th>\n",
              "      <th>totalViewProductRevenue</th>\n",
              "      <th>totalAddToCarts</th>\n",
              "      <th>totalAddToCartRevenue</th>\n",
              "      <th>totalRemoveFromCarts</th>\n",
              "      <th>totalRemoveFromCartRevenue</th>\n",
              "      <th>totalOrders</th>\n",
              "      <th>totalOrderRevenue</th>\n",
              "      <th>uniqueViewProducts</th>\n",
              "      <th>uniqueAddToCarts</th>\n",
              "      <th>uniqueRemoveFromCarts</th>\n",
              "      <th>uniqueOrders</th>\n",
              "    </tr>\n",
              "  </thead>\n",
              "  <tbody>\n",
              "    <tr>\n",
              "      <th>0</th>\n",
              "      <td>2020-02-29 23:59:59</td>\n",
              "      <td>5927709</td>\n",
              "      <td>1487580013950664926</td>\n",
              "      <td>de.lux</td>\n",
              "      <td>3.17</td>\n",
              "      <td>621669991</td>\n",
              "      <td>daa3c677-5360-4327-847e-d29658716b99</td>\n",
              "      <td>daa3c677-5360-4327-847e-d29658716b99view2020-0...</td>\n",
              "      <td>view2020-02-29 23:59:59</td>\n",
              "      <td>621669991daa3c677-5360-4327-847e-d29658716b99</td>\n",
              "      <td>0.0</td>\n",
              "      <td>view</td>\n",
              "      <td>0</td>\n",
              "      <td>0</td>\n",
              "      <td>0</td>\n",
              "      <td>1</td>\n",
              "      <td>44.0</td>\n",
              "      <td>43.81</td>\n",
              "      <td>10.0</td>\n",
              "      <td>8.10</td>\n",
              "      <td>10.0</td>\n",
              "      <td>9.77</td>\n",
              "      <td>0.0</td>\n",
              "      <td>0.0</td>\n",
              "      <td>23.0</td>\n",
              "      <td>9.0</td>\n",
              "      <td>5.0</td>\n",
              "      <td>0.0</td>\n",
              "    </tr>\n",
              "    <tr>\n",
              "      <th>1</th>\n",
              "      <td>2020-02-29 23:59:54</td>\n",
              "      <td>5716351</td>\n",
              "      <td>1487580010872045658</td>\n",
              "      <td>irisk</td>\n",
              "      <td>0.79</td>\n",
              "      <td>619841242</td>\n",
              "      <td>18af673b-7fb9-4202-a66d-5c855bc0fd2d</td>\n",
              "      <td>18af673b-7fb9-4202-a66d-5c855bc0fd2dview2020-0...</td>\n",
              "      <td>view2020-02-29 23:59:54</td>\n",
              "      <td>61984124218af673b-7fb9-4202-a66d-5c855bc0fd2d</td>\n",
              "      <td>0.0</td>\n",
              "      <td>view</td>\n",
              "      <td>0</td>\n",
              "      <td>0</td>\n",
              "      <td>0</td>\n",
              "      <td>1</td>\n",
              "      <td>2.0</td>\n",
              "      <td>1.58</td>\n",
              "      <td>0.0</td>\n",
              "      <td>0.00</td>\n",
              "      <td>0.0</td>\n",
              "      <td>0.00</td>\n",
              "      <td>0.0</td>\n",
              "      <td>0.0</td>\n",
              "      <td>2.0</td>\n",
              "      <td>0.0</td>\n",
              "      <td>0.0</td>\n",
              "      <td>0.0</td>\n",
              "    </tr>\n",
              "    <tr>\n",
              "      <th>2</th>\n",
              "      <td>2020-02-29 23:59:45</td>\n",
              "      <td>5850628</td>\n",
              "      <td>1602943681873052386</td>\n",
              "      <td>grattol</td>\n",
              "      <td>5.24</td>\n",
              "      <td>622090043</td>\n",
              "      <td>ab7d349f-db5d-4790-8ab1-31e5c894459d</td>\n",
              "      <td>ab7d349f-db5d-4790-8ab1-31e5c894459dview2020-0...</td>\n",
              "      <td>view2020-02-29 23:59:45</td>\n",
              "      <td>622090043ab7d349f-db5d-4790-8ab1-31e5c894459d</td>\n",
              "      <td>0.0</td>\n",
              "      <td>view</td>\n",
              "      <td>0</td>\n",
              "      <td>0</td>\n",
              "      <td>0</td>\n",
              "      <td>1</td>\n",
              "      <td>2.0</td>\n",
              "      <td>10.00</td>\n",
              "      <td>1.0</td>\n",
              "      <td>5.24</td>\n",
              "      <td>0.0</td>\n",
              "      <td>0.00</td>\n",
              "      <td>0.0</td>\n",
              "      <td>0.0</td>\n",
              "      <td>2.0</td>\n",
              "      <td>1.0</td>\n",
              "      <td>0.0</td>\n",
              "      <td>0.0</td>\n",
              "    </tr>\n",
              "    <tr>\n",
              "      <th>3</th>\n",
              "      <td>2020-02-29 23:59:39</td>\n",
              "      <td>5550686</td>\n",
              "      <td>1487580008145748965</td>\n",
              "      <td>roubloff</td>\n",
              "      <td>1.11</td>\n",
              "      <td>459705611</td>\n",
              "      <td>05d2add3-01f7-47ee-8364-27341673227f</td>\n",
              "      <td>05d2add3-01f7-47ee-8364-27341673227fcart2020-0...</td>\n",
              "      <td>cart2020-02-29 23:59:39</td>\n",
              "      <td>45970561105d2add3-01f7-47ee-8364-27341673227f</td>\n",
              "      <td>0.0</td>\n",
              "      <td>cart</td>\n",
              "      <td>1</td>\n",
              "      <td>0</td>\n",
              "      <td>0</td>\n",
              "      <td>0</td>\n",
              "      <td>1.0</td>\n",
              "      <td>1.11</td>\n",
              "      <td>1.0</td>\n",
              "      <td>1.11</td>\n",
              "      <td>0.0</td>\n",
              "      <td>0.00</td>\n",
              "      <td>0.0</td>\n",
              "      <td>0.0</td>\n",
              "      <td>1.0</td>\n",
              "      <td>1.0</td>\n",
              "      <td>0.0</td>\n",
              "      <td>0.0</td>\n",
              "    </tr>\n",
              "    <tr>\n",
              "      <th>4</th>\n",
              "      <td>2020-02-29 23:59:32</td>\n",
              "      <td>5885416</td>\n",
              "      <td>1487580005092295511</td>\n",
              "      <td>grattol</td>\n",
              "      <td>6.27</td>\n",
              "      <td>622082947</td>\n",
              "      <td>fb29909b-6ef5-4662-b4ee-288e73e5dc10</td>\n",
              "      <td>fb29909b-6ef5-4662-b4ee-288e73e5dc10view2020-0...</td>\n",
              "      <td>view2020-02-29 23:59:32</td>\n",
              "      <td>622082947fb29909b-6ef5-4662-b4ee-288e73e5dc10</td>\n",
              "      <td>0.0</td>\n",
              "      <td>view</td>\n",
              "      <td>0</td>\n",
              "      <td>0</td>\n",
              "      <td>0</td>\n",
              "      <td>1</td>\n",
              "      <td>9.0</td>\n",
              "      <td>34.38</td>\n",
              "      <td>35.0</td>\n",
              "      <td>117.27</td>\n",
              "      <td>0.0</td>\n",
              "      <td>0.00</td>\n",
              "      <td>0.0</td>\n",
              "      <td>0.0</td>\n",
              "      <td>9.0</td>\n",
              "      <td>30.0</td>\n",
              "      <td>0.0</td>\n",
              "      <td>0.0</td>\n",
              "    </tr>\n",
              "  </tbody>\n",
              "</table>\n",
              "</div>"
            ],
            "text/plain": [
              "            event_time  product_id  ...  uniqueRemoveFromCarts uniqueOrders\n",
              "0  2020-02-29 23:59:59     5927709  ...                    5.0          0.0\n",
              "1  2020-02-29 23:59:54     5716351  ...                    0.0          0.0\n",
              "2  2020-02-29 23:59:45     5850628  ...                    0.0          0.0\n",
              "3  2020-02-29 23:59:39     5550686  ...                    0.0          0.0\n",
              "4  2020-02-29 23:59:32     5885416  ...                    0.0          0.0\n",
              "\n",
              "[5 rows x 28 columns]"
            ]
          },
          "metadata": {},
          "execution_count": 6
        }
      ]
    },
    {
      "cell_type": "code",
      "metadata": {
        "colab": {
          "base_uri": "https://localhost:8080/"
        },
        "id": "k0-ECR97AVHP",
        "outputId": "f53b6db7-22ed-403d-8a15-867704cd1342"
      },
      "source": [
        "# check missing values to determine next teps\n",
        "null_columns= df_ec_coded.columns[df_ec_coded.isnull().any()]\n",
        "df_ec_coded[null_columns].isnull().sum()"
      ],
      "execution_count": null,
      "outputs": [
        {
          "output_type": "execute_result",
          "data": {
            "text/plain": [
              "Series([], dtype: float64)"
            ]
          },
          "metadata": {},
          "execution_count": 7
        }
      ]
    },
    {
      "cell_type": "code",
      "metadata": {
        "colab": {
          "base_uri": "https://localhost:8080/"
        },
        "id": "QEJSCDqhRd1p",
        "outputId": "c80c94fe-d83a-4012-80bb-4ba7a4337c0e"
      },
      "source": [
        "#check percentage of missing values\n",
        "percent_missing = round(df_ec_coded.isnull().sum() * 100 / len(df_ec_coded),2)\n",
        "percent_missing"
      ],
      "execution_count": null,
      "outputs": [
        {
          "output_type": "execute_result",
          "data": {
            "text/plain": [
              "event_time                     0.0\n",
              "product_id                     0.0\n",
              "category_id                    0.0\n",
              "product_brand                  0.0\n",
              "product_price                  0.0\n",
              "customerVisitorId              0.0\n",
              "customerSessionId              0.0\n",
              "unique_key                     0.0\n",
              "unique_sess_event              0.0\n",
              "unique_sess                    0.0\n",
              "totals_events                  0.0\n",
              "event_type_original            0.0\n",
              "event_type_cart                0.0\n",
              "event_type_purchase            0.0\n",
              "event_type_remove_from_cart    0.0\n",
              "event_type_view                0.0\n",
              "totalViewProducts              0.0\n",
              "totalViewProductRevenue        0.0\n",
              "totalAddToCarts                0.0\n",
              "totalAddToCartRevenue          0.0\n",
              "totalRemoveFromCarts           0.0\n",
              "totalRemoveFromCartRevenue     0.0\n",
              "totalOrders                    0.0\n",
              "totalOrderRevenue              0.0\n",
              "uniqueViewProducts             0.0\n",
              "uniqueAddToCarts               0.0\n",
              "uniqueRemoveFromCarts          0.0\n",
              "uniqueOrders                   0.0\n",
              "dtype: float64"
            ]
          },
          "metadata": {},
          "execution_count": 8
        }
      ]
    },
    {
      "cell_type": "markdown",
      "metadata": {
        "id": "I54nXc1XMKVu"
      },
      "source": [
        "### Create the Time Based Features"
      ]
    },
    {
      "cell_type": "code",
      "metadata": {
        "id": "p_04owqAGJjk"
      },
      "source": [
        "#convert event_time columns to date_time data type\n",
        "df_ec_coded['event_time'] = df_ec_coded['event_time'].apply(lambda x : x[:-4])\n",
        "df_ec_coded['event_time'] = pd.to_datetime(df_ec_coded['event_time'])"
      ],
      "execution_count": null,
      "outputs": []
    },
    {
      "cell_type": "code",
      "metadata": {
        "id": "HGGuzpVf7FIz"
      },
      "source": [
        "#create feature: year\n",
        "df_ec_coded['event_year'] = df_ec_coded.event_time.dt.year\n",
        "\n",
        "#create feature: month\n",
        "df_ec_coded['event_month'] = df_ec_coded.event_time.dt.month\n",
        "\n",
        "#create feature: day of the week\n",
        "df_ec_coded['event_day_of_week'] = df_ec_coded.event_time.dt.dayofweek\n",
        "\n",
        "#create feature: day of the month\n",
        "df_ec_coded['event_day_of_month'] = df_ec_coded.event_time.dt.day\n",
        "\n",
        "#create feature: day of the year\n",
        "df_ec_coded['event_day_of_year'] = df_ec_coded.event_time.dt.dayofyear\n",
        "\n",
        "#create feature: hour\n",
        "df_ec_coded['event_hour'] = df_ec_coded.event_time.dt.hour\n",
        "\n",
        "#create feature: minute\n",
        "df_ec_coded['event_minute'] = df_ec_coded.event_time.dt.minute\n",
        "\n",
        "#create feature: second\n",
        "df_ec_coded['event_second'] = df_ec_coded.event_time.dt.second\n",
        "\n",
        "#create feature: micorsecond\n",
        "df_ec_coded['event_micorsecond'] = df_ec_coded.event_time.dt.microsecond"
      ],
      "execution_count": null,
      "outputs": []
    },
    {
      "cell_type": "code",
      "metadata": {
        "id": "RSCZssGf3xaW"
      },
      "source": [
        "#create feature: day name\n",
        "#df_ec_coded['_'] = df_ec_coded.event_time.dt.day_name()\n",
        "#df_ec_coded = pd.get_dummies(df_ec_coded,columns=['_'])"
      ],
      "execution_count": null,
      "outputs": []
    },
    {
      "cell_type": "code",
      "metadata": {
        "id": "oDcPpgmXPadW"
      },
      "source": [
        "#create feature: weekend flag\n",
        "day_names = df_ec_coded.event_time.dt.day_name()\n",
        "df_ec_coded['weekend']  = day_names.apply(lambda x : 1 if x in ['Saturday','Sunday'] else 0)"
      ],
      "execution_count": null,
      "outputs": []
    },
    {
      "cell_type": "code",
      "metadata": {
        "id": "Ut8yiLPZoQ48"
      },
      "source": [
        "#create feature: holiday\n",
        "import holidays\n",
        "us_holidays = holidays.US()\n",
        "df_ec_coded['holiday']  = df_ec_coded['event_time'].apply(lambda x : x in us_holidays)"
      ],
      "execution_count": null,
      "outputs": []
    },
    {
      "cell_type": "code",
      "metadata": {
        "id": "a1s36YX2uqz4"
      },
      "source": [
        "#re-create feature: sessionStartTime\n",
        "df_ec_coded = df_ec_coded.join(df_ec_coded.groupby('customerSessionId')['event_time'].agg(['min']), on ='customerSessionId')\n",
        "\n",
        "#re-create feature: sessionEndTime\n",
        "df_ec_coded = df_ec_coded.join(df_ec_coded.groupby('customerSessionId')['event_time'].agg(['max']), on ='customerSessionId')"
      ],
      "execution_count": null,
      "outputs": []
    },
    {
      "cell_type": "code",
      "metadata": {
        "id": "lZ7clXlD_X-p"
      },
      "source": [
        "#re-create feature: timeOnSite\n",
        "import time\n",
        "df_ec_coded['timeOnSite'] = df_ec_coded['max']-df_ec_coded['min']\n",
        "df_ec_coded['timeOnSite'] = df_ec_coded['timeOnSite']/np.timedelta64(1,'s')\n",
        "#df_ec_coded['timeOnSite'] = df_ec_coded['timeOnSite'].apply(lambda x : time.strftime(\"%H:%M:%S\", time.gmtime(x)))"
      ],
      "execution_count": null,
      "outputs": []
    },
    {
      "cell_type": "markdown",
      "metadata": {
        "id": "DjMRUCElVSes"
      },
      "source": [
        "### Recreate feature for Session meta data"
      ]
    },
    {
      "cell_type": "code",
      "metadata": {
        "id": "UJYQgCyQuyht"
      },
      "source": [
        "### re-create feature: newSession  ###\n",
        "\n",
        "#create dataframe with with no duplicate user_id records and set 'newSession' to True\n",
        "df_user_id = df_ec_coded.drop_duplicates(subset=['customerVisitorId'], keep='last')\n",
        "df_user_id['newSession'] = 1\n",
        "\n",
        "# create a dictionary for reference mapping that uses the category_id column as key and the brand column as values\n",
        "new_sess_dict = pd.Series(df_user_id.newSession.values,index=df_user_id.customerSessionId).to_dict()\n",
        "\n",
        "#fill the new_session column using reference mapping \n",
        "df_ec_coded['newSession'] = np.nan\n",
        "df_ec_coded.newSession = df_ec_coded.newSession.fillna(df_ec_coded.customerSessionId.map(new_sess_dict))\n",
        "\n",
        "#fill the rest of the new_session values with False\n",
        "df_ec_coded.newSession = df_ec_coded.newSession.fillna(0)"
      ],
      "execution_count": null,
      "outputs": []
    },
    {
      "cell_type": "code",
      "metadata": {
        "id": "qg3kaSBWWBqz"
      },
      "source": [
        "### re-create feature: hit.isEntrance ###\n",
        "\n",
        "#create dataframe that contains only the most recent event for each customerSessionId\n",
        "df_user_sesss = df_ec_coded.drop_duplicates(subset=['customerSessionId'], keep='last')\n",
        "#add column 'isEntrance' column and set value to True for the first event in the customerSessionId\n",
        "df_user_sesss['isEntrance'] = 1\n",
        "\n",
        "#create a unique key for dictionary reference mapping\n",
        "df_user_sesss['unique_key'] = df_user_sesss['customerSessionId'].map(str)  + df_user_sesss['event_type_original'].map(str)  + df_user_sesss['event_time'].map(str)\n",
        "# create a dictionary for reference mapping that uses the  column 'unique_key' as the key and the 'isEntrance' column as the values\n",
        "entry_event = pd.Series(df_user_sesss.isEntrance.values, index = df_user_sesss.unique_key).to_dict()\n",
        "\n",
        "#add an empty 'isEntrance' column \n",
        "df_ec_coded['isEntrance'] = np.nan\n",
        "#fill the hit.isEntrance column using reference mapping \n",
        "df_ec_coded.isEntrance = df_ec_coded.isEntrance.fillna(df_ec_coded.unique_key.map(entry_event))\n",
        "#fill the rest of the hit.isEntrance values with False\n",
        "df_ec_coded.isEntrance = df_ec_coded.isEntrance.fillna(0)"
      ],
      "execution_count": null,
      "outputs": []
    },
    {
      "cell_type": "code",
      "metadata": {
        "id": "YyCh_ojNcNfB"
      },
      "source": [
        "### re-create feature: hit.isExit ###\n",
        "\n",
        "#create dataframe that contains only the most recent event for each customerSessionId\n",
        "df_user_sesss_2 = df_ec_coded.drop_duplicates(subset=['customerSessionId'], keep='first')\n",
        "#add column 'isExit' column and set value to True for the last event in the customerSessionId\n",
        "df_user_sesss_2['isExit'] = 1\n",
        "\n",
        "#create a unique key for dictionary reference mapping\n",
        "df_user_sesss_2['unique_key'] = df_user_sesss_2['customerSessionId'].map(str)  + df_user_sesss_2['event_type_original'].map(str)  + df_user_sesss_2['event_time'].map(str)\n",
        "# create a dictionary for reference mapping that uses the  column 'unique_key_exit' as the key and the 'isExit' column as the values\n",
        "exit_event = pd.Series(df_user_sesss_2.isExit.values,index=df_user_sesss_2.unique_key).to_dict()\n",
        "\n",
        "#add an empty 'isExit' column \n",
        "df_ec_coded['isExit'] = np.nan\n",
        "#fill the hit.isExit column using reference mapping \n",
        "df_ec_coded.isExit = df_ec_coded.isExit.fillna(df_ec_coded.unique_key.map(exit_event))\n",
        "#fill the rest of the hit.isExit values with False\n",
        "df_ec_coded.isExit = df_ec_coded.isExit.fillna(0)"
      ],
      "execution_count": null,
      "outputs": []
    },
    {
      "cell_type": "code",
      "metadata": {
        "id": "XHcNUEjmmPYt"
      },
      "source": [
        "### re-create feature: hitSequence ###\n",
        "df_ec_coded = df_ec_coded.sort_values('event_time',ascending=True)\n",
        "\n",
        "#create groupby dataframe\n",
        "df_ec_coded['hits.isEntrance'] = df_ec_coded.groupby(['customerSessionId','customerSessionId']).cumcount()+1"
      ],
      "execution_count": null,
      "outputs": []
    },
    {
      "cell_type": "code",
      "metadata": {
        "id": "pzuN8R-xn0MW"
      },
      "source": [
        "### re-create feature: customerSessionNumber ###\n",
        "\n",
        "#create empty 'ccustomerSessionNumber' column\n",
        "df_ec_coded['customerSessionNumber'] = np.nan\n",
        "\n",
        "#create a dataframe without duplicate customerSessionId\n",
        "df_unqiue_sess = df_ec_coded.drop_duplicates(subset='customerSessionId', keep=\"first\")\n",
        "\n",
        "#create sequence count for customerSessionId\n",
        "df_unqiue_sess['customerSessionNumber'] = df_unqiue_sess.groupby('customerVisitorId').cumcount()+1\n",
        "\n",
        "#create a reference mapping dictionary\n",
        "sess_num_dict = dict(zip(df_unqiue_sess.customerSessionId, df_unqiue_sess.customerSessionNumber.values))\n",
        "\n",
        "#fill in customerSessionNumber with mapping dictionary\n",
        "df_ec_coded.customerSessionNumber = df_ec_coded.customerSessionNumber.fillna(df_ec_coded.customerSessionId.map(sess_num_dict))\n"
      ],
      "execution_count": null,
      "outputs": []
    },
    {
      "cell_type": "code",
      "metadata": {
        "id": "YICxa_TJRYi8"
      },
      "source": [
        "#transition into final dataframe\n",
        "df_ec_final = df_ec_coded"
      ],
      "execution_count": null,
      "outputs": []
    },
    {
      "cell_type": "markdown",
      "metadata": {
        "id": "OPDzOE7Y_F_n"
      },
      "source": [
        "### Update or Drop Column Names\n",
        "\n",
        "\n"
      ]
    },
    {
      "cell_type": "code",
      "metadata": {
        "id": "ZMm75p-SJT7S",
        "colab": {
          "base_uri": "https://localhost:8080/"
        },
        "outputId": "f2950590-32ba-48de-f882-63aab1418a2f"
      },
      "source": [
        "#check columns and datat types\n",
        "df_ec_final.info()"
      ],
      "execution_count": null,
      "outputs": [
        {
          "output_type": "stream",
          "name": "stdout",
          "text": [
            "<class 'pandas.core.frame.DataFrame'>\n",
            "Int64Index: 25323266 entries, 25323265 to 0\n",
            "Data columns (total 47 columns):\n",
            " #   Column                       Dtype         \n",
            "---  ------                       -----         \n",
            " 0   event_time                   datetime64[ns]\n",
            " 1   product_id                   int64         \n",
            " 2   category_id                  int64         \n",
            " 3   product_brand                object        \n",
            " 4   product_price                float64       \n",
            " 5   customerVisitorId            int64         \n",
            " 6   customerSessionId            object        \n",
            " 7   unique_key                   object        \n",
            " 8   unique_sess_event            object        \n",
            " 9   unique_sess                  object        \n",
            " 10  totals_events                float64       \n",
            " 11  event_type_original          object        \n",
            " 12  event_type_cart              int64         \n",
            " 13  event_type_purchase          int64         \n",
            " 14  event_type_remove_from_cart  int64         \n",
            " 15  event_type_view              int64         \n",
            " 16  totalViewProducts            float64       \n",
            " 17  totalViewProductRevenue      float64       \n",
            " 18  totalAddToCarts              float64       \n",
            " 19  totalAddToCartRevenue        float64       \n",
            " 20  totalRemoveFromCarts         float64       \n",
            " 21  totalRemoveFromCartRevenue   float64       \n",
            " 22  totalOrders                  float64       \n",
            " 23  totalOrderRevenue            float64       \n",
            " 24  uniqueViewProducts           float64       \n",
            " 25  uniqueAddToCarts             float64       \n",
            " 26  uniqueRemoveFromCarts        float64       \n",
            " 27  uniqueOrders                 float64       \n",
            " 28  event_year                   int64         \n",
            " 29  event_month                  int64         \n",
            " 30  event_day_of_week            int64         \n",
            " 31  event_day_of_month           int64         \n",
            " 32  event_day_of_year            int64         \n",
            " 33  event_hour                   int64         \n",
            " 34  event_minute                 int64         \n",
            " 35  event_second                 int64         \n",
            " 36  event_micorsecond            int64         \n",
            " 37  weekend                      int64         \n",
            " 38  holiday                      bool          \n",
            " 39  min                          datetime64[ns]\n",
            " 40  max                          datetime64[ns]\n",
            " 41  timeOnSite                   float64       \n",
            " 42  newSession                   float64       \n",
            " 43  isEntrance                   float64       \n",
            " 44  isExit                       float64       \n",
            " 45  hits.isEntrance              int64         \n",
            " 46  customerSessionNumber        float64       \n",
            "dtypes: bool(1), datetime64[ns](3), float64(19), int64(18), object(6)\n",
            "memory usage: 8.9+ GB\n"
          ]
        }
      ]
    },
    {
      "cell_type": "code",
      "metadata": {
        "id": "FStIUiGpMPWK"
      },
      "source": [
        "#rename columns\n",
        "df_ec_final = df_ec_coded.rename(columns={\n",
        "     'isExit': 'last_session_event',\n",
        "     'isEntrance': 'first_session_event'\n",
        "})"
      ],
      "execution_count": null,
      "outputs": []
    },
    {
      "cell_type": "code",
      "metadata": {
        "id": "sp6noZBCgDsC"
      },
      "source": [
        "#drop uneccessary columns\n",
        "df_ec_final = df_ec_final.drop(columns=['unique_key', 'unique_sess_event', 'event_type_original','min','max'])"
      ],
      "execution_count": null,
      "outputs": []
    },
    {
      "cell_type": "markdown",
      "metadata": {
        "id": "cy1jrTW5xUnG"
      },
      "source": [
        "### Address Missing Values for New Featurees"
      ]
    },
    {
      "cell_type": "code",
      "metadata": {
        "id": "gb-IMeb9xbHn",
        "colab": {
          "base_uri": "https://localhost:8080/"
        },
        "outputId": "118b56f3-0697-4f61-e21d-7ecacc72a77f"
      },
      "source": [
        "# check missing values to determine next teps\n",
        "null_columns= df_ec_final.columns[df_ec_final.isnull().any()]\n",
        "df_ec_final[null_columns].isnull().sum()"
      ],
      "execution_count": null,
      "outputs": [
        {
          "output_type": "execute_result",
          "data": {
            "text/plain": [
              "Series([], dtype: float64)"
            ]
          },
          "metadata": {},
          "execution_count": 25
        }
      ]
    },
    {
      "cell_type": "code",
      "metadata": {
        "id": "rZlha1RmLyj0",
        "colab": {
          "base_uri": "https://localhost:8080/",
          "height": 384
        },
        "outputId": "80011837-2ddb-4d82-f848-b7ca8e6e0cfa"
      },
      "source": [
        "#check data\n",
        "df_ec_final.head()"
      ],
      "execution_count": null,
      "outputs": [
        {
          "output_type": "execute_result",
          "data": {
            "text/html": [
              "<div>\n",
              "<style scoped>\n",
              "    .dataframe tbody tr th:only-of-type {\n",
              "        vertical-align: middle;\n",
              "    }\n",
              "\n",
              "    .dataframe tbody tr th {\n",
              "        vertical-align: top;\n",
              "    }\n",
              "\n",
              "    .dataframe thead th {\n",
              "        text-align: right;\n",
              "    }\n",
              "</style>\n",
              "<table border=\"1\" class=\"dataframe\">\n",
              "  <thead>\n",
              "    <tr style=\"text-align: right;\">\n",
              "      <th></th>\n",
              "      <th>event_time</th>\n",
              "      <th>product_id</th>\n",
              "      <th>category_id</th>\n",
              "      <th>product_brand</th>\n",
              "      <th>product_price</th>\n",
              "      <th>customerVisitorId</th>\n",
              "      <th>customerSessionId</th>\n",
              "      <th>unique_sess</th>\n",
              "      <th>totals_events</th>\n",
              "      <th>event_type_cart</th>\n",
              "      <th>event_type_purchase</th>\n",
              "      <th>event_type_remove_from_cart</th>\n",
              "      <th>event_type_view</th>\n",
              "      <th>totalViewProducts</th>\n",
              "      <th>totalViewProductRevenue</th>\n",
              "      <th>totalAddToCarts</th>\n",
              "      <th>totalAddToCartRevenue</th>\n",
              "      <th>totalRemoveFromCarts</th>\n",
              "      <th>totalRemoveFromCartRevenue</th>\n",
              "      <th>totalOrders</th>\n",
              "      <th>totalOrderRevenue</th>\n",
              "      <th>uniqueViewProducts</th>\n",
              "      <th>uniqueAddToCarts</th>\n",
              "      <th>uniqueRemoveFromCarts</th>\n",
              "      <th>uniqueOrders</th>\n",
              "      <th>event_year</th>\n",
              "      <th>event_month</th>\n",
              "      <th>event_day_of_week</th>\n",
              "      <th>event_day_of_month</th>\n",
              "      <th>event_day_of_year</th>\n",
              "      <th>event_hour</th>\n",
              "      <th>event_minute</th>\n",
              "      <th>event_second</th>\n",
              "      <th>event_micorsecond</th>\n",
              "      <th>weekend</th>\n",
              "      <th>holiday</th>\n",
              "      <th>timeOnSite</th>\n",
              "      <th>newSession</th>\n",
              "      <th>first_session_event</th>\n",
              "      <th>last_session_event</th>\n",
              "      <th>hits.isEntrance</th>\n",
              "      <th>customerSessionNumber</th>\n",
              "    </tr>\n",
              "  </thead>\n",
              "  <tbody>\n",
              "    <tr>\n",
              "      <th>25323265</th>\n",
              "      <td>2019-10-01</td>\n",
              "      <td>5773203</td>\n",
              "      <td>1487580005134238553</td>\n",
              "      <td>runail</td>\n",
              "      <td>2.62</td>\n",
              "      <td>463240011</td>\n",
              "      <td>26dd6e6e-4dac-4778-8d2c-92e149dab885</td>\n",
              "      <td>46324001126dd6e6e-4dac-4778-8d2c-92e149dab885</td>\n",
              "      <td>0.0</td>\n",
              "      <td>1</td>\n",
              "      <td>0</td>\n",
              "      <td>0</td>\n",
              "      <td>0</td>\n",
              "      <td>0.0</td>\n",
              "      <td>0.00</td>\n",
              "      <td>7.0</td>\n",
              "      <td>16.67</td>\n",
              "      <td>1.0</td>\n",
              "      <td>0.95</td>\n",
              "      <td>19.0</td>\n",
              "      <td>39.21</td>\n",
              "      <td>0.0</td>\n",
              "      <td>7.0</td>\n",
              "      <td>1.0</td>\n",
              "      <td>19.0</td>\n",
              "      <td>2019</td>\n",
              "      <td>10</td>\n",
              "      <td>1</td>\n",
              "      <td>1</td>\n",
              "      <td>274</td>\n",
              "      <td>0</td>\n",
              "      <td>0</td>\n",
              "      <td>0</td>\n",
              "      <td>0</td>\n",
              "      <td>0</td>\n",
              "      <td>False</td>\n",
              "      <td>60.0</td>\n",
              "      <td>1.0</td>\n",
              "      <td>1.0</td>\n",
              "      <td>0.0</td>\n",
              "      <td>1</td>\n",
              "      <td>1.0</td>\n",
              "    </tr>\n",
              "    <tr>\n",
              "      <th>25323045</th>\n",
              "      <td>2019-10-01</td>\n",
              "      <td>5842144</td>\n",
              "      <td>1487580006317032337</td>\n",
              "      <td>irisk</td>\n",
              "      <td>1.59</td>\n",
              "      <td>385985999</td>\n",
              "      <td>d30965e8-1101-44ab-b45d-cc1bb9fae694</td>\n",
              "      <td>385985999d30965e8-1101-44ab-b45d-cc1bb9fae694</td>\n",
              "      <td>0.0</td>\n",
              "      <td>0</td>\n",
              "      <td>0</td>\n",
              "      <td>1</td>\n",
              "      <td>0</td>\n",
              "      <td>4.0</td>\n",
              "      <td>17.72</td>\n",
              "      <td>40.0</td>\n",
              "      <td>97.86</td>\n",
              "      <td>26.0</td>\n",
              "      <td>50.18</td>\n",
              "      <td>4.0</td>\n",
              "      <td>14.89</td>\n",
              "      <td>2.0</td>\n",
              "      <td>10.0</td>\n",
              "      <td>9.0</td>\n",
              "      <td>4.0</td>\n",
              "      <td>2019</td>\n",
              "      <td>10</td>\n",
              "      <td>1</td>\n",
              "      <td>1</td>\n",
              "      <td>274</td>\n",
              "      <td>0</td>\n",
              "      <td>0</td>\n",
              "      <td>0</td>\n",
              "      <td>0</td>\n",
              "      <td>0</td>\n",
              "      <td>False</td>\n",
              "      <td>120.0</td>\n",
              "      <td>1.0</td>\n",
              "      <td>0.0</td>\n",
              "      <td>0.0</td>\n",
              "      <td>1</td>\n",
              "      <td>1.0</td>\n",
              "    </tr>\n",
              "    <tr>\n",
              "      <th>25323046</th>\n",
              "      <td>2019-10-01</td>\n",
              "      <td>5842144</td>\n",
              "      <td>1487580006317032337</td>\n",
              "      <td>irisk</td>\n",
              "      <td>1.59</td>\n",
              "      <td>385985999</td>\n",
              "      <td>d30965e8-1101-44ab-b45d-cc1bb9fae694</td>\n",
              "      <td>385985999d30965e8-1101-44ab-b45d-cc1bb9fae694</td>\n",
              "      <td>0.0</td>\n",
              "      <td>0</td>\n",
              "      <td>0</td>\n",
              "      <td>1</td>\n",
              "      <td>0</td>\n",
              "      <td>4.0</td>\n",
              "      <td>17.72</td>\n",
              "      <td>40.0</td>\n",
              "      <td>97.86</td>\n",
              "      <td>26.0</td>\n",
              "      <td>50.18</td>\n",
              "      <td>4.0</td>\n",
              "      <td>14.89</td>\n",
              "      <td>2.0</td>\n",
              "      <td>10.0</td>\n",
              "      <td>9.0</td>\n",
              "      <td>4.0</td>\n",
              "      <td>2019</td>\n",
              "      <td>10</td>\n",
              "      <td>1</td>\n",
              "      <td>1</td>\n",
              "      <td>274</td>\n",
              "      <td>0</td>\n",
              "      <td>0</td>\n",
              "      <td>0</td>\n",
              "      <td>0</td>\n",
              "      <td>0</td>\n",
              "      <td>False</td>\n",
              "      <td>120.0</td>\n",
              "      <td>1.0</td>\n",
              "      <td>0.0</td>\n",
              "      <td>0.0</td>\n",
              "      <td>2</td>\n",
              "      <td>1.0</td>\n",
              "    </tr>\n",
              "    <tr>\n",
              "      <th>25323047</th>\n",
              "      <td>2019-10-01</td>\n",
              "      <td>5773351</td>\n",
              "      <td>1487580005134238553</td>\n",
              "      <td>runail</td>\n",
              "      <td>2.62</td>\n",
              "      <td>430174032</td>\n",
              "      <td>73dea1e7-664e-43f4-8b30-d32b9d5af04f</td>\n",
              "      <td>43017403273dea1e7-664e-43f4-8b30-d32b9d5af04f</td>\n",
              "      <td>0.0</td>\n",
              "      <td>0</td>\n",
              "      <td>0</td>\n",
              "      <td>1</td>\n",
              "      <td>0</td>\n",
              "      <td>13.0</td>\n",
              "      <td>32.78</td>\n",
              "      <td>2.0</td>\n",
              "      <td>5.24</td>\n",
              "      <td>2.0</td>\n",
              "      <td>5.40</td>\n",
              "      <td>0.0</td>\n",
              "      <td>0.00</td>\n",
              "      <td>9.0</td>\n",
              "      <td>2.0</td>\n",
              "      <td>2.0</td>\n",
              "      <td>0.0</td>\n",
              "      <td>2019</td>\n",
              "      <td>10</td>\n",
              "      <td>1</td>\n",
              "      <td>1</td>\n",
              "      <td>274</td>\n",
              "      <td>0</td>\n",
              "      <td>0</td>\n",
              "      <td>0</td>\n",
              "      <td>0</td>\n",
              "      <td>0</td>\n",
              "      <td>False</td>\n",
              "      <td>60.0</td>\n",
              "      <td>1.0</td>\n",
              "      <td>0.0</td>\n",
              "      <td>0.0</td>\n",
              "      <td>1</td>\n",
              "      <td>1.0</td>\n",
              "    </tr>\n",
              "    <tr>\n",
              "      <th>25323048</th>\n",
              "      <td>2019-10-01</td>\n",
              "      <td>5698989</td>\n",
              "      <td>1487580006317032337</td>\n",
              "      <td>irisk</td>\n",
              "      <td>1.27</td>\n",
              "      <td>385985999</td>\n",
              "      <td>d30965e8-1101-44ab-b45d-cc1bb9fae694</td>\n",
              "      <td>385985999d30965e8-1101-44ab-b45d-cc1bb9fae694</td>\n",
              "      <td>0.0</td>\n",
              "      <td>0</td>\n",
              "      <td>0</td>\n",
              "      <td>1</td>\n",
              "      <td>0</td>\n",
              "      <td>4.0</td>\n",
              "      <td>17.72</td>\n",
              "      <td>40.0</td>\n",
              "      <td>97.86</td>\n",
              "      <td>26.0</td>\n",
              "      <td>50.18</td>\n",
              "      <td>4.0</td>\n",
              "      <td>14.89</td>\n",
              "      <td>2.0</td>\n",
              "      <td>10.0</td>\n",
              "      <td>9.0</td>\n",
              "      <td>4.0</td>\n",
              "      <td>2019</td>\n",
              "      <td>10</td>\n",
              "      <td>1</td>\n",
              "      <td>1</td>\n",
              "      <td>274</td>\n",
              "      <td>0</td>\n",
              "      <td>0</td>\n",
              "      <td>0</td>\n",
              "      <td>0</td>\n",
              "      <td>0</td>\n",
              "      <td>False</td>\n",
              "      <td>120.0</td>\n",
              "      <td>1.0</td>\n",
              "      <td>0.0</td>\n",
              "      <td>0.0</td>\n",
              "      <td>3</td>\n",
              "      <td>1.0</td>\n",
              "    </tr>\n",
              "  </tbody>\n",
              "</table>\n",
              "</div>"
            ],
            "text/plain": [
              "         event_time  product_id  ...  hits.isEntrance customerSessionNumber\n",
              "25323265 2019-10-01     5773203  ...                1                   1.0\n",
              "25323045 2019-10-01     5842144  ...                1                   1.0\n",
              "25323046 2019-10-01     5842144  ...                2                   1.0\n",
              "25323047 2019-10-01     5773351  ...                1                   1.0\n",
              "25323048 2019-10-01     5698989  ...                3                   1.0\n",
              "\n",
              "[5 rows x 42 columns]"
            ]
          },
          "metadata": {},
          "execution_count": 26
        }
      ]
    },
    {
      "cell_type": "markdown",
      "metadata": {
        "id": "2YujOVZs9GMB"
      },
      "source": [
        "### Save to CSV"
      ]
    },
    {
      "cell_type": "code",
      "metadata": {
        "id": "kvKfPqr4aET8"
      },
      "source": [
        "#save to csv\n",
        "df_ec_final.to_csv('df_ec_final.csv',index =False)"
      ],
      "execution_count": null,
      "outputs": []
    }
  ]
}