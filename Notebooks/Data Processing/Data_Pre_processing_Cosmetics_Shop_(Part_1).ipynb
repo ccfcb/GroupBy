{
  "nbformat": 4,
  "nbformat_minor": 0,
  "metadata": {
    "colab": {
      "name": "Data Pre-processing Cosmetics Shop (Part 1)",
      "provenance": [],
      "collapsed_sections": [],
      "machine_shape": "hm"
    },
    "kernelspec": {
      "display_name": "Python 3",
      "language": "python",
      "name": "python3"
    },
    "language_info": {
      "codemirror_mode": {
        "name": "ipython",
        "version": 3
      },
      "file_extension": ".py",
      "mimetype": "text/x-python",
      "name": "python",
      "nbconvert_exporter": "python",
      "pygments_lexer": "ipython3",
      "version": "3.7.0"
    }
  },
  "cells": [
    {
      "cell_type": "markdown",
      "metadata": {
        "id": "wNF54bdd9GLw"
      },
      "source": [
        "### Drive Set Up"
      ]
    },
    {
      "cell_type": "code",
      "metadata": {
        "id": "PHUjCLng9GL2",
        "colab": {
          "base_uri": "https://localhost:8080/"
        },
        "outputId": "b9689b60-bdfc-4fdd-f478-19b9a298b79f"
      },
      "source": [
        "#Mount the RAW session level data: \n",
        "from google.colab import drive\n",
        "drive.mount('/content/drive')"
      ],
      "execution_count": null,
      "outputs": [
        {
          "output_type": "stream",
          "name": "stdout",
          "text": [
            "Mounted at /content/drive\n"
          ]
        }
      ]
    },
    {
      "cell_type": "code",
      "metadata": {
        "id": "hmecc4xG9GL3"
      },
      "source": [
        "import os\n",
        "# The path below should point to the directory containing this notebook and the associated utility files\n",
        "# Change it if necessary\n",
        "os.chdir('/content/drive/MyDrive/GroupBy/')"
      ],
      "execution_count": null,
      "outputs": []
    },
    {
      "cell_type": "code",
      "metadata": {
        "colab": {
          "base_uri": "https://localhost:8080/"
        },
        "id": "tCyW3e5a18hR",
        "outputId": "c0179817-a8fc-4300-9def-d4624093fac1"
      },
      "source": [
        "df_ec = pd.read_csv('Copy of df_ec_final_ver_2.csv')\n",
        "df_ec.shape"
      ],
      "execution_count": null,
      "outputs": [
        {
          "output_type": "execute_result",
          "data": {
            "text/plain": [
              "(25323266, 41)"
            ]
          },
          "metadata": {},
          "execution_count": 37
        }
      ]
    },
    {
      "cell_type": "code",
      "metadata": {
        "colab": {
          "base_uri": "https://localhost:8080/"
        },
        "id": "5PPg8yeQ8Lop",
        "outputId": "9e4d0f59-002f-47f7-fa18-7c530ca5d44e"
      },
      "source": [
        "df_json = pd.read_csv('Copy of df_json_final_ver_2.csv')\n",
        "df_json.shape"
      ],
      "execution_count": null,
      "outputs": [
        {
          "output_type": "execute_result",
          "data": {
            "text/plain": [
              "(1578809, 35)"
            ]
          },
          "metadata": {},
          "execution_count": 38
        }
      ]
    },
    {
      "cell_type": "code",
      "metadata": {
        "id": "uHFk-sER18IF"
      },
      "source": [
        ""
      ],
      "execution_count": null,
      "outputs": []
    },
    {
      "cell_type": "markdown",
      "metadata": {
        "id": "ll95PalQ9GL3"
      },
      "source": [
        "### Import Library"
      ]
    },
    {
      "cell_type": "code",
      "metadata": {
        "id": "zFnn30qm9GL3"
      },
      "source": [
        "import pandas as pd\n",
        "import numpy as np\n",
        "import matplotlib.pyplot as plt\n",
        "import seaborn as sns\n",
        "%matplotlib inline\n",
        "import warnings\n",
        "warnings.filterwarnings('ignore')\n",
        "import numpy as np\n",
        "import matplotlib.pyplot as plt\n",
        "from datetime import timedelta\n",
        "from datetime import datetime\n",
        "from time import strftime\n",
        "from time import gmtime\n",
        "import holidays"
      ],
      "execution_count": null,
      "outputs": []
    },
    {
      "cell_type": "markdown",
      "metadata": {
        "id": "Ipvqic7g9GL4"
      },
      "source": [
        "### Import Data"
      ]
    },
    {
      "cell_type": "code",
      "metadata": {
        "id": "LFvXrVmO9GL5"
      },
      "source": [
        "#load the 'eCommerce Events History in Cosmetics Shop' data set\n",
        "oct_2019_ec = pd.read_csv('2019-Oct.csv')\n",
        "nov_2019_ec = pd.read_csv('2019-Nov.csv')\n",
        "dec_2019_ec = pd.read_csv('2019-Dec.csv')\n",
        "jan_2020_ec = pd.read_csv('2020-Jan.csv')\n",
        "feb_2020_ec = pd.read_csv('2020-Feb.csv')\n",
        "\n",
        "### merge all data sets from Commerce Events History in Cosmetics Shop' \n",
        "pdList = [oct_2019_ec, nov_2019_ec, nov_2019_ec, dec_2019_ec, jan_2020_ec, feb_2020_ec]"
      ],
      "execution_count": null,
      "outputs": []
    },
    {
      "cell_type": "code",
      "metadata": {
        "id": "5aXrnDLh9GL5"
      },
      "source": [
        "#combine and create one dataframe\n",
        "df_ec = pd.concat(pdList).sort_values(by=['event_time'], ascending=False)"
      ],
      "execution_count": null,
      "outputs": []
    },
    {
      "cell_type": "code",
      "metadata": {
        "id": "9X7HU3R11KxA"
      },
      "source": [
        ""
      ],
      "execution_count": null,
      "outputs": []
    },
    {
      "cell_type": "markdown",
      "metadata": {
        "id": "9trQULg7QEHl"
      },
      "source": [
        "### Explore Data"
      ]
    },
    {
      "cell_type": "code",
      "metadata": {
        "colab": {
          "base_uri": "https://localhost:8080/",
          "height": 197
        },
        "id": "srIR7NiJyYBl",
        "outputId": "4f09da7e-0a04-499f-a0e1-cb4d94ce6676"
      },
      "source": [
        "#preview data\n",
        "df_ec.head(5)"
      ],
      "execution_count": null,
      "outputs": [
        {
          "output_type": "execute_result",
          "data": {
            "text/html": [
              "<div>\n",
              "<style scoped>\n",
              "    .dataframe tbody tr th:only-of-type {\n",
              "        vertical-align: middle;\n",
              "    }\n",
              "\n",
              "    .dataframe tbody tr th {\n",
              "        vertical-align: top;\n",
              "    }\n",
              "\n",
              "    .dataframe thead th {\n",
              "        text-align: right;\n",
              "    }\n",
              "</style>\n",
              "<table border=\"1\" class=\"dataframe\">\n",
              "  <thead>\n",
              "    <tr style=\"text-align: right;\">\n",
              "      <th></th>\n",
              "      <th>event_time</th>\n",
              "      <th>event_type</th>\n",
              "      <th>product_id</th>\n",
              "      <th>category_id</th>\n",
              "      <th>category_code</th>\n",
              "      <th>brand</th>\n",
              "      <th>price</th>\n",
              "      <th>user_id</th>\n",
              "      <th>user_session</th>\n",
              "    </tr>\n",
              "  </thead>\n",
              "  <tbody>\n",
              "    <tr>\n",
              "      <th>4156681</th>\n",
              "      <td>2020-02-29 23:59:59 UTC</td>\n",
              "      <td>view</td>\n",
              "      <td>5927709</td>\n",
              "      <td>1487580013950664926</td>\n",
              "      <td>NaN</td>\n",
              "      <td>de.lux</td>\n",
              "      <td>3.17</td>\n",
              "      <td>621669991</td>\n",
              "      <td>daa3c677-5360-4327-847e-d29658716b99</td>\n",
              "    </tr>\n",
              "    <tr>\n",
              "      <th>4156680</th>\n",
              "      <td>2020-02-29 23:59:54 UTC</td>\n",
              "      <td>view</td>\n",
              "      <td>5716351</td>\n",
              "      <td>1487580010872045658</td>\n",
              "      <td>NaN</td>\n",
              "      <td>irisk</td>\n",
              "      <td>0.79</td>\n",
              "      <td>619841242</td>\n",
              "      <td>18af673b-7fb9-4202-a66d-5c855bc0fd2d</td>\n",
              "    </tr>\n",
              "    <tr>\n",
              "      <th>4156679</th>\n",
              "      <td>2020-02-29 23:59:45 UTC</td>\n",
              "      <td>view</td>\n",
              "      <td>5850628</td>\n",
              "      <td>1602943681873052386</td>\n",
              "      <td>NaN</td>\n",
              "      <td>grattol</td>\n",
              "      <td>5.24</td>\n",
              "      <td>622090043</td>\n",
              "      <td>ab7d349f-db5d-4790-8ab1-31e5c894459d</td>\n",
              "    </tr>\n",
              "    <tr>\n",
              "      <th>4156678</th>\n",
              "      <td>2020-02-29 23:59:39 UTC</td>\n",
              "      <td>cart</td>\n",
              "      <td>5550686</td>\n",
              "      <td>1487580008145748965</td>\n",
              "      <td>NaN</td>\n",
              "      <td>NaN</td>\n",
              "      <td>1.11</td>\n",
              "      <td>459705611</td>\n",
              "      <td>05d2add3-01f7-47ee-8364-27341673227f</td>\n",
              "    </tr>\n",
              "    <tr>\n",
              "      <th>4156677</th>\n",
              "      <td>2020-02-29 23:59:32 UTC</td>\n",
              "      <td>view</td>\n",
              "      <td>5885416</td>\n",
              "      <td>1487580005092295511</td>\n",
              "      <td>NaN</td>\n",
              "      <td>grattol</td>\n",
              "      <td>6.27</td>\n",
              "      <td>622082947</td>\n",
              "      <td>fb29909b-6ef5-4662-b4ee-288e73e5dc10</td>\n",
              "    </tr>\n",
              "  </tbody>\n",
              "</table>\n",
              "</div>"
            ],
            "text/plain": [
              "                      event_time  ...                          user_session\n",
              "4156681  2020-02-29 23:59:59 UTC  ...  daa3c677-5360-4327-847e-d29658716b99\n",
              "4156680  2020-02-29 23:59:54 UTC  ...  18af673b-7fb9-4202-a66d-5c855bc0fd2d\n",
              "4156679  2020-02-29 23:59:45 UTC  ...  ab7d349f-db5d-4790-8ab1-31e5c894459d\n",
              "4156678  2020-02-29 23:59:39 UTC  ...  05d2add3-01f7-47ee-8364-27341673227f\n",
              "4156677  2020-02-29 23:59:32 UTC  ...  fb29909b-6ef5-4662-b4ee-288e73e5dc10\n",
              "\n",
              "[5 rows x 9 columns]"
            ]
          },
          "metadata": {},
          "execution_count": 6
        }
      ]
    },
    {
      "cell_type": "code",
      "metadata": {
        "colab": {
          "base_uri": "https://localhost:8080/"
        },
        "id": "nfJMwB8P2PYe",
        "outputId": "5674c94d-140b-4027-ebe1-adf224189fbb"
      },
      "source": [
        "#check data info\n",
        "df_ec.info()"
      ],
      "execution_count": null,
      "outputs": [
        {
          "output_type": "stream",
          "name": "stdout",
          "text": [
            "<class 'pandas.core.frame.DataFrame'>\n",
            "Int64Index: 25328677 entries, 4156681 to 0\n",
            "Data columns (total 9 columns):\n",
            " #   Column         Dtype  \n",
            "---  ------         -----  \n",
            " 0   event_time     object \n",
            " 1   event_type     object \n",
            " 2   product_id     int64  \n",
            " 3   category_id    int64  \n",
            " 4   category_code  object \n",
            " 5   brand          object \n",
            " 6   price          float64\n",
            " 7   user_id        int64  \n",
            " 8   user_session   object \n",
            "dtypes: float64(1), int64(3), object(5)\n",
            "memory usage: 1.9+ GB\n"
          ]
        }
      ]
    },
    {
      "cell_type": "code",
      "metadata": {
        "id": "YzJeIBmeNVk8"
      },
      "source": [
        ""
      ],
      "execution_count": null,
      "outputs": []
    },
    {
      "cell_type": "code",
      "metadata": {
        "id": "xSdRMRHiNVcH"
      },
      "source": [
        "# create missing values dataframe\n",
        "missing_values = df_ec.isnull().sum() / len(df_ec)\n",
        "missing_values.sort_values(inplace=True)\n",
        "\n",
        "missing_values = missing_values.to_frame()\n",
        "missing_values.columns = ['count']\n",
        "missing_values.index.names = ['Name']\n",
        "missing_values['Name'] = missing_values.index"
      ],
      "execution_count": null,
      "outputs": []
    },
    {
      "cell_type": "code",
      "metadata": {
        "colab": {
          "base_uri": "https://localhost:8080/",
          "height": 359
        },
        "id": "GIJMNhnMQrkD",
        "outputId": "23cade8d-828c-44ac-d582-be79750f3ea7"
      },
      "source": [
        "missing_values"
      ],
      "execution_count": null,
      "outputs": [
        {
          "output_type": "execute_result",
          "data": {
            "text/html": [
              "<div>\n",
              "<style scoped>\n",
              "    .dataframe tbody tr th:only-of-type {\n",
              "        vertical-align: middle;\n",
              "    }\n",
              "\n",
              "    .dataframe tbody tr th {\n",
              "        vertical-align: top;\n",
              "    }\n",
              "\n",
              "    .dataframe thead th {\n",
              "        text-align: right;\n",
              "    }\n",
              "</style>\n",
              "<table border=\"1\" class=\"dataframe\">\n",
              "  <thead>\n",
              "    <tr style=\"text-align: right;\">\n",
              "      <th></th>\n",
              "      <th>count</th>\n",
              "      <th>Name</th>\n",
              "    </tr>\n",
              "    <tr>\n",
              "      <th>Name</th>\n",
              "      <th></th>\n",
              "      <th></th>\n",
              "    </tr>\n",
              "  </thead>\n",
              "  <tbody>\n",
              "    <tr>\n",
              "      <th>event_time</th>\n",
              "      <td>0.000000</td>\n",
              "      <td>event_time</td>\n",
              "    </tr>\n",
              "    <tr>\n",
              "      <th>event_type</th>\n",
              "      <td>0.000000</td>\n",
              "      <td>event_type</td>\n",
              "    </tr>\n",
              "    <tr>\n",
              "      <th>product_id</th>\n",
              "      <td>0.000000</td>\n",
              "      <td>product_id</td>\n",
              "    </tr>\n",
              "    <tr>\n",
              "      <th>category_id</th>\n",
              "      <td>0.000000</td>\n",
              "      <td>category_id</td>\n",
              "    </tr>\n",
              "    <tr>\n",
              "      <th>price</th>\n",
              "      <td>0.000000</td>\n",
              "      <td>price</td>\n",
              "    </tr>\n",
              "    <tr>\n",
              "      <th>user_id</th>\n",
              "      <td>0.000000</td>\n",
              "      <td>user_id</td>\n",
              "    </tr>\n",
              "    <tr>\n",
              "      <th>user_session</th>\n",
              "      <td>0.000214</td>\n",
              "      <td>user_session</td>\n",
              "    </tr>\n",
              "    <tr>\n",
              "      <th>brand</th>\n",
              "      <td>0.424150</td>\n",
              "      <td>brand</td>\n",
              "    </tr>\n",
              "    <tr>\n",
              "      <th>category_code</th>\n",
              "      <td>0.983049</td>\n",
              "      <td>category_code</td>\n",
              "    </tr>\n",
              "  </tbody>\n",
              "</table>\n",
              "</div>"
            ],
            "text/plain": [
              "                  count           Name\n",
              "Name                                  \n",
              "event_time     0.000000     event_time\n",
              "event_type     0.000000     event_type\n",
              "product_id     0.000000     product_id\n",
              "category_id    0.000000    category_id\n",
              "price          0.000000          price\n",
              "user_id        0.000000        user_id\n",
              "user_session   0.000214   user_session\n",
              "brand          0.424150          brand\n",
              "category_code  0.983049  category_code"
            ]
          },
          "metadata": {},
          "execution_count": 36
        }
      ]
    },
    {
      "cell_type": "code",
      "metadata": {
        "colab": {
          "base_uri": "https://localhost:8080/",
          "height": 356
        },
        "id": "BhNzFoJDNVSF",
        "outputId": "a1011542-9a62-4c91-9a1f-0444cdb307cc"
      },
      "source": [
        "#visualize missing values\n",
        "sns.set(style=\"whitegrid\", color_codes=True)\n",
        "sns.barplot(x = 'Name', y = 'count', data=missing_values)\n",
        "plt.xticks(rotation = 90)\n",
        "plt.show()"
      ],
      "execution_count": null,
      "outputs": [
        {
          "output_type": "display_data",
          "data": {
            "image/png": "[encoded data removed]",
            "text/plain": [
              "<Figure size 432x288 with 1 Axes>"
            ]
          },
          "metadata": {}
        }
      ]
    },
    {
      "cell_type": "code",
      "metadata": {
        "id": "76ElexSPNVBG"
      },
      "source": [
        ""
      ],
      "execution_count": null,
      "outputs": []
    },
    {
      "cell_type": "code",
      "metadata": {
        "colab": {
          "base_uri": "https://localhost:8080/"
        },
        "id": "k0-ECR97AVHP",
        "outputId": "1e8ba993-ec17-4c23-eb13-a6db7dd4723d"
      },
      "source": [
        "# check missing values to determine next teps\n",
        "null_columns= df_ec.columns[df_ec.isnull().any()]\n",
        "df_ec[null_columns].isnull().sum()"
      ],
      "execution_count": null,
      "outputs": [
        {
          "output_type": "execute_result",
          "data": {
            "text/plain": [
              "category_code    24899335\n",
              "brand            10743146\n",
              "user_session         5411\n",
              "dtype: int64"
            ]
          },
          "metadata": {},
          "execution_count": 8
        }
      ]
    },
    {
      "cell_type": "code",
      "metadata": {
        "colab": {
          "base_uri": "https://localhost:8080/"
        },
        "id": "QEJSCDqhRd1p",
        "outputId": "3bef3c03-b505-464a-c4f5-4117087c99f0"
      },
      "source": [
        "#check percentage of missing values\n",
        "percent_missing = round(df_ec.isnull().sum() * 100 / len(df_ec),2)\n",
        "percent_missing"
      ],
      "execution_count": null,
      "outputs": [
        {
          "output_type": "execute_result",
          "data": {
            "text/plain": [
              "event_time        0.00\n",
              "event_type        0.00\n",
              "product_id        0.00\n",
              "category_id       0.00\n",
              "category_code    98.30\n",
              "brand            42.41\n",
              "price             0.00\n",
              "user_id           0.00\n",
              "user_session      0.02\n",
              "dtype: float64"
            ]
          },
          "metadata": {},
          "execution_count": 9
        }
      ]
    },
    {
      "cell_type": "code",
      "metadata": {
        "colab": {
          "base_uri": "https://localhost:8080/",
          "height": 407
        },
        "id": "hR7i38tDV-qs",
        "outputId": "5882312c-5078-475a-d448-f067c3fa03fd"
      },
      "source": [
        "#check uniqueness of data values in relations to the category_code column\n",
        "df_unique_category_code =df_ec.groupby('category_code')['category_id','product_id','brand'].nunique().add_prefix('num_').reset_index()\n",
        "df_unique_category_code"
      ],
      "execution_count": null,
      "outputs": [
        {
          "output_type": "execute_result",
          "data": {
            "text/html": [
              "<div>\n",
              "<style scoped>\n",
              "    .dataframe tbody tr th:only-of-type {\n",
              "        vertical-align: middle;\n",
              "    }\n",
              "\n",
              "    .dataframe tbody tr th {\n",
              "        vertical-align: top;\n",
              "    }\n",
              "\n",
              "    .dataframe thead th {\n",
              "        text-align: right;\n",
              "    }\n",
              "</style>\n",
              "<table border=\"1\" class=\"dataframe\">\n",
              "  <thead>\n",
              "    <tr style=\"text-align: right;\">\n",
              "      <th></th>\n",
              "      <th>category_code</th>\n",
              "      <th>num_category_id</th>\n",
              "      <th>num_product_id</th>\n",
              "      <th>num_brand</th>\n",
              "    </tr>\n",
              "  </thead>\n",
              "  <tbody>\n",
              "    <tr>\n",
              "      <th>0</th>\n",
              "      <td>accessories.bag</td>\n",
              "      <td>1</td>\n",
              "      <td>44</td>\n",
              "      <td>2</td>\n",
              "    </tr>\n",
              "    <tr>\n",
              "      <th>1</th>\n",
              "      <td>accessories.cosmetic_bag</td>\n",
              "      <td>1</td>\n",
              "      <td>21</td>\n",
              "      <td>3</td>\n",
              "    </tr>\n",
              "    <tr>\n",
              "      <th>2</th>\n",
              "      <td>apparel.glove</td>\n",
              "      <td>2</td>\n",
              "      <td>111</td>\n",
              "      <td>9</td>\n",
              "    </tr>\n",
              "    <tr>\n",
              "      <th>3</th>\n",
              "      <td>appliances.environment.air_conditioner</td>\n",
              "      <td>2</td>\n",
              "      <td>33</td>\n",
              "      <td>11</td>\n",
              "    </tr>\n",
              "    <tr>\n",
              "      <th>4</th>\n",
              "      <td>appliances.environment.vacuum</td>\n",
              "      <td>1</td>\n",
              "      <td>93</td>\n",
              "      <td>7</td>\n",
              "    </tr>\n",
              "    <tr>\n",
              "      <th>5</th>\n",
              "      <td>appliances.personal.hair_cutter</td>\n",
              "      <td>1</td>\n",
              "      <td>53</td>\n",
              "      <td>5</td>\n",
              "    </tr>\n",
              "    <tr>\n",
              "      <th>6</th>\n",
              "      <td>appliances.personal.massager</td>\n",
              "      <td>1</td>\n",
              "      <td>47</td>\n",
              "      <td>1</td>\n",
              "    </tr>\n",
              "    <tr>\n",
              "      <th>7</th>\n",
              "      <td>furniture.bathroom.bath</td>\n",
              "      <td>5</td>\n",
              "      <td>73</td>\n",
              "      <td>12</td>\n",
              "    </tr>\n",
              "    <tr>\n",
              "      <th>8</th>\n",
              "      <td>furniture.living_room.cabinet</td>\n",
              "      <td>1</td>\n",
              "      <td>6</td>\n",
              "      <td>3</td>\n",
              "    </tr>\n",
              "    <tr>\n",
              "      <th>9</th>\n",
              "      <td>furniture.living_room.chair</td>\n",
              "      <td>1</td>\n",
              "      <td>2</td>\n",
              "      <td>0</td>\n",
              "    </tr>\n",
              "    <tr>\n",
              "      <th>10</th>\n",
              "      <td>sport.diving</td>\n",
              "      <td>1</td>\n",
              "      <td>1</td>\n",
              "      <td>0</td>\n",
              "    </tr>\n",
              "    <tr>\n",
              "      <th>11</th>\n",
              "      <td>stationery.cartrige</td>\n",
              "      <td>1</td>\n",
              "      <td>140</td>\n",
              "      <td>5</td>\n",
              "    </tr>\n",
              "  </tbody>\n",
              "</table>\n",
              "</div>"
            ],
            "text/plain": [
              "                             category_code  ...  num_brand\n",
              "0                          accessories.bag  ...          2\n",
              "1                 accessories.cosmetic_bag  ...          3\n",
              "2                            apparel.glove  ...          9\n",
              "3   appliances.environment.air_conditioner  ...         11\n",
              "4            appliances.environment.vacuum  ...          7\n",
              "5          appliances.personal.hair_cutter  ...          5\n",
              "6             appliances.personal.massager  ...          1\n",
              "7                  furniture.bathroom.bath  ...         12\n",
              "8            furniture.living_room.cabinet  ...          3\n",
              "9              furniture.living_room.chair  ...          0\n",
              "10                            sport.diving  ...          0\n",
              "11                     stationery.cartrige  ...          5\n",
              "\n",
              "[12 rows x 4 columns]"
            ]
          },
          "metadata": {},
          "execution_count": 10
        }
      ]
    },
    {
      "cell_type": "code",
      "metadata": {
        "colab": {
          "base_uri": "https://localhost:8080/",
          "height": 167
        },
        "id": "yYG5PoSdbcAm",
        "outputId": "4d5e4704-2fcd-4a2b-92b9-44f49609a6fa"
      },
      "source": [
        "#check uniqueness of data values in relations to the product_id column\n",
        "df_unique_product_id = df_ec.groupby('product_id')['category_id','price','brand'].nunique().add_prefix('num_').reset_index()\n",
        "\n",
        "#confirm that category_id and brand remains static product_id's\n",
        "product_id_filter_non_unique = df_unique_product_id[(df_unique_product_id.num_category_id>1) & (df_unique_product_id.num_brand>1)]\n",
        "product_id_filter_non_unique                                                                         "
      ],
      "execution_count": null,
      "outputs": [
        {
          "output_type": "execute_result",
          "data": {
            "text/html": [
              "<div>\n",
              "<style scoped>\n",
              "    .dataframe tbody tr th:only-of-type {\n",
              "        vertical-align: middle;\n",
              "    }\n",
              "\n",
              "    .dataframe tbody tr th {\n",
              "        vertical-align: top;\n",
              "    }\n",
              "\n",
              "    .dataframe thead th {\n",
              "        text-align: right;\n",
              "    }\n",
              "</style>\n",
              "<table border=\"1\" class=\"dataframe\">\n",
              "  <thead>\n",
              "    <tr style=\"text-align: right;\">\n",
              "      <th></th>\n",
              "      <th>product_id</th>\n",
              "      <th>num_category_id</th>\n",
              "      <th>num_price</th>\n",
              "      <th>num_brand</th>\n",
              "    </tr>\n",
              "  </thead>\n",
              "  <tbody>\n",
              "    <tr>\n",
              "      <th>1778</th>\n",
              "      <td>37042</td>\n",
              "      <td>2</td>\n",
              "      <td>4</td>\n",
              "      <td>2</td>\n",
              "    </tr>\n",
              "    <tr>\n",
              "      <th>1783</th>\n",
              "      <td>37072</td>\n",
              "      <td>2</td>\n",
              "      <td>4</td>\n",
              "      <td>2</td>\n",
              "    </tr>\n",
              "    <tr>\n",
              "      <th>7417</th>\n",
              "      <td>5683272</td>\n",
              "      <td>2</td>\n",
              "      <td>2</td>\n",
              "      <td>2</td>\n",
              "    </tr>\n",
              "    <tr>\n",
              "      <th>36401</th>\n",
              "      <td>5861706</td>\n",
              "      <td>2</td>\n",
              "      <td>5</td>\n",
              "      <td>2</td>\n",
              "    </tr>\n",
              "  </tbody>\n",
              "</table>\n",
              "</div>"
            ],
            "text/plain": [
              "       product_id  num_category_id  num_price  num_brand\n",
              "1778        37042                2          4          2\n",
              "1783        37072                2          4          2\n",
              "7417      5683272                2          2          2\n",
              "36401     5861706                2          5          2"
            ]
          },
          "metadata": {},
          "execution_count": 11
        }
      ]
    },
    {
      "cell_type": "code",
      "metadata": {
        "colab": {
          "base_uri": "https://localhost:8080/",
          "height": 197
        },
        "id": "Wi_j8VY4ChN8",
        "outputId": "6870cfe5-0d41-4903-c214-2670309a6afa"
      },
      "source": [
        "#check uniqueness of data values in relations to the category_id column\n",
        "df_unique_category_id = df_ec.groupby('category_id')['brand','price'].nunique().add_prefix('num_').reset_index()\n",
        "df_unique_category_id.head()"
      ],
      "execution_count": null,
      "outputs": [
        {
          "output_type": "execute_result",
          "data": {
            "text/html": [
              "<div>\n",
              "<style scoped>\n",
              "    .dataframe tbody tr th:only-of-type {\n",
              "        vertical-align: middle;\n",
              "    }\n",
              "\n",
              "    .dataframe tbody tr th {\n",
              "        vertical-align: top;\n",
              "    }\n",
              "\n",
              "    .dataframe thead th {\n",
              "        text-align: right;\n",
              "    }\n",
              "</style>\n",
              "<table border=\"1\" class=\"dataframe\">\n",
              "  <thead>\n",
              "    <tr style=\"text-align: right;\">\n",
              "      <th></th>\n",
              "      <th>category_id</th>\n",
              "      <th>num_brand</th>\n",
              "      <th>num_price</th>\n",
              "    </tr>\n",
              "  </thead>\n",
              "  <tbody>\n",
              "    <tr>\n",
              "      <th>0</th>\n",
              "      <td>1487580004807082827</td>\n",
              "      <td>1</td>\n",
              "      <td>3</td>\n",
              "    </tr>\n",
              "    <tr>\n",
              "      <th>1</th>\n",
              "      <td>1487580004832248652</td>\n",
              "      <td>1</td>\n",
              "      <td>23</td>\n",
              "    </tr>\n",
              "    <tr>\n",
              "      <th>2</th>\n",
              "      <td>1487580004857414477</td>\n",
              "      <td>2</td>\n",
              "      <td>37</td>\n",
              "    </tr>\n",
              "    <tr>\n",
              "      <th>3</th>\n",
              "      <td>1487580004882580302</td>\n",
              "      <td>0</td>\n",
              "      <td>15</td>\n",
              "    </tr>\n",
              "    <tr>\n",
              "      <th>4</th>\n",
              "      <td>1487580004916134735</td>\n",
              "      <td>0</td>\n",
              "      <td>59</td>\n",
              "    </tr>\n",
              "  </tbody>\n",
              "</table>\n",
              "</div>"
            ],
            "text/plain": [
              "           category_id  num_brand  num_price\n",
              "0  1487580004807082827          1          3\n",
              "1  1487580004832248652          1         23\n",
              "2  1487580004857414477          2         37\n",
              "3  1487580004882580302          0         15\n",
              "4  1487580004916134735          0         59"
            ]
          },
          "metadata": {},
          "execution_count": 12
        }
      ]
    },
    {
      "cell_type": "markdown",
      "metadata": {
        "id": "1DHx3fj7l1Zy"
      },
      "source": [
        "### Update Data Types"
      ]
    },
    {
      "cell_type": "code",
      "metadata": {
        "id": "8mLYjq05lx4W"
      },
      "source": [
        "#update data types\n",
        "df_ec['user_id'] = df_ec['user_id'].astype(str)\n",
        "df_ec['product_id'] = df_ec['product_id'].astype(str)"
      ],
      "execution_count": null,
      "outputs": []
    },
    {
      "cell_type": "code",
      "metadata": {
        "id": "BJvFqo3HlyBV"
      },
      "source": [
        "#convert event_time columns to date_time data type\n",
        "df_ec['event_time'] = df_ec['event_time'].apply(lambda x : x[:-4])\n",
        "df_ec['event_time'] = pd.to_datetime(df_ec['event_time'])"
      ],
      "execution_count": null,
      "outputs": []
    },
    {
      "cell_type": "markdown",
      "metadata": {
        "id": "pyb4CZtEeuug"
      },
      "source": [
        "### Create Unique Keys for Data Pre-processing"
      ]
    },
    {
      "cell_type": "code",
      "metadata": {
        "id": "c3fEZo9Hev_W"
      },
      "source": [
        "#create unique key for reference mapping dictionaries\n",
        "df_ec['unique_key'] = df_ec['user_session'].map(str) + df_ec['event_type'] + df_ec['event_time'].map(str)\n",
        "\n",
        "#create unique key for reference mapping dictionaries\n",
        "df_ec['unique_sess_event'] = df_ec['event_type'] + df_ec['event_time'].map(str)\n",
        "\n",
        "#create unique key for reference mapping dictionaries\n",
        "df_ec['unique_sess'] = df_ec['user_id'].map(str) + df_ec['user_session'].map(str)\n"
      ],
      "execution_count": null,
      "outputs": []
    },
    {
      "cell_type": "markdown",
      "metadata": {
        "id": "j4yXePWMIO8W"
      },
      "source": [
        "### Address Missing Values"
      ]
    },
    {
      "cell_type": "markdown",
      "metadata": {
        "id": "XJOHZ88pPH-U"
      },
      "source": [
        "##### Column: Use_Session"
      ]
    },
    {
      "cell_type": "code",
      "metadata": {
        "id": "WWonfB1mPKGw"
      },
      "source": [
        "# drop rows with missing values (ie: user_id)\n",
        "df_ec = df_ec.dropna(subset=['user_session'])"
      ],
      "execution_count": null,
      "outputs": []
    },
    {
      "cell_type": "markdown",
      "metadata": {
        "id": "Ji8iUsPlO1jn"
      },
      "source": [
        "##### Column: Brand"
      ]
    },
    {
      "cell_type": "code",
      "metadata": {
        "id": "jjSuTh4r54Vh"
      },
      "source": [
        "# create dataframe without nan values and use it for later mapping\n",
        "df_brand_nan = df_ec.dropna(subset=['brand'])\n",
        "# replace missing values for brand\n",
        "brand_dict = pd.Series(df_brand_nan.brand.values,index=df_brand_nan.product_id).to_dict()\n",
        "# fill in missing values for brand\n",
        "df_ec.brand = df_ec.brand.fillna(df_ec.product_id.map(brand_dict))"
      ],
      "execution_count": null,
      "outputs": []
    },
    {
      "cell_type": "code",
      "metadata": {
        "id": "KyKVoMcyRM94"
      },
      "source": [
        "# create dataframe without nan values for brand column\n",
        "df_brand_nan = df_ec[df_ec['brand'].notnull()]\n",
        "\n",
        "# create dataframe that's grouped by the category id column and selects the most common value for brand column\n",
        "df_group_categ = df_brand_nan.groupby('category_id')['brand'].agg(pd.Series.mode).to_frame()\n",
        "df_group_categ = df_group_categ.reset_index(drop=False)\n",
        "\n",
        "# create a dictionary for reference mapping that uses the category_id column as key and the brand column as values\n",
        "brand_dict = pd.Series(df_group_categ.brand.values,index=df_group_categ.category_id).to_dict()\n",
        "\n",
        "# fill in missing values for brand using reference dictionary \n",
        "df_ec.brand = df_ec.brand.fillna(df_ec.category_id.map(brand_dict))"
      ],
      "execution_count": null,
      "outputs": []
    },
    {
      "cell_type": "code",
      "metadata": {
        "colab": {
          "base_uri": "https://localhost:8080/"
        },
        "id": "NeNJh6ILAKKu",
        "outputId": "056668df-1cb2-4dc2-8f89-95cb3d5357cf"
      },
      "source": [
        "# re-check missing values to determine next teps\n",
        "null_columns= df_ec.columns[df_ec.isnull().any()]\n",
        "df_ec[null_columns].isnull().sum()"
      ],
      "execution_count": null,
      "outputs": [
        {
          "output_type": "execute_result",
          "data": {
            "text/plain": [
              "category_code    24893983\n",
              "brand             3398801\n",
              "dtype: int64"
            ]
          },
          "metadata": {},
          "execution_count": 19
        }
      ]
    },
    {
      "cell_type": "code",
      "metadata": {
        "id": "0g1V7a7ABOcM"
      },
      "source": [
        "#fill the rest of the missing values with the value 'unknown'\n",
        "df_ec.brand = df_ec.brand.fillna('unknown')"
      ],
      "execution_count": null,
      "outputs": []
    },
    {
      "cell_type": "markdown",
      "metadata": {
        "id": "tYqpncEQO5MZ"
      },
      "source": [
        "##### Column: Category Code"
      ]
    },
    {
      "cell_type": "code",
      "metadata": {
        "id": "bmQQ_jZkponl"
      },
      "source": [
        "# drop columns with significant amount of missing data\n",
        "df_ec = df_ec.drop(['category_code'], axis = 1)"
      ],
      "execution_count": null,
      "outputs": []
    },
    {
      "cell_type": "markdown",
      "metadata": {
        "id": "6kt7nZpl9GL5"
      },
      "source": [
        "### Re-create the Total Sum and Revenue Features\n"
      ]
    },
    {
      "cell_type": "code",
      "metadata": {
        "id": "uEqRCJVsTXes"
      },
      "source": [
        "# re-create features from GroupBy dataset (total_event)\n",
        "df_ec['totals_events'] = df_ec.groupby(['user_session'])['unique_sess_event'].nunique()"
      ],
      "execution_count": null,
      "outputs": []
    },
    {
      "cell_type": "code",
      "metadata": {
        "id": "0wGDRxi9SiGO"
      },
      "source": [
        "#make copy 'event_type' before one hot coding (ie: copy is needed for later use)\n",
        "df_ec['event_type_original'] = df_ec['event_type']\n",
        "\n",
        "#one hot endoding 'event type'\n",
        "categorical_columns = ['event_type']\n",
        "df_ec_coded = pd.get_dummies(df_ec, columns=categorical_columns)"
      ],
      "execution_count": null,
      "outputs": []
    },
    {
      "cell_type": "code",
      "metadata": {
        "id": "l-DXjGtF9GL7"
      },
      "source": [
        "# re-create features from GroupBy dataset (totalViewProducts)\n",
        "df_ec_coded['totals. totalViewProducts'] = df_ec_coded.groupby(['user_session'])['event_type_view'].transform('sum')"
      ],
      "execution_count": null,
      "outputs": []
    },
    {
      "cell_type": "code",
      "metadata": {
        "id": "KnBo-Lae9GL8"
      },
      "source": [
        "# re-create features from GroupBy dataset (totalViewProductRevenue)\n",
        "df_viewed = df_ec_coded[df_ec_coded['event_type_view'] == 1] \n",
        "grouped_viewed = df_viewed.groupby(['user_session'])\n",
        "df_viewed_price = grouped_viewed.agg({'price': 'sum'})\n",
        "df_viewed_price = df_viewed_price.rename(columns={\"price\": \"totals. totalViewProductRevenue\"})\n",
        "df_ec_coded = pd.merge(df_ec_coded,\n",
        "                 df_viewed_price['totals. totalViewProductRevenue'],\n",
        "                 on='user_session', \n",
        "                 how='left')"
      ],
      "execution_count": null,
      "outputs": []
    },
    {
      "cell_type": "code",
      "metadata": {
        "id": "KK92yBLE9GL8"
      },
      "source": [
        "# re-create features from GroupBy dataset (totalAddToCarts)\n",
        "df_ec_coded['totals. totalAddToCarts'] = df_ec_coded.groupby(['user_session'])['event_type_cart'].transform('sum')"
      ],
      "execution_count": null,
      "outputs": []
    },
    {
      "cell_type": "code",
      "metadata": {
        "id": "vAZ8SD3EaAVN"
      },
      "source": [
        "# re-create features from GroupBy dataset (totalAddToCartRevenue)\n",
        "df_cart = df_ec_coded[df_ec_coded['event_type_cart'] == 1]\n",
        "grouped_cart = df_cart.groupby(['user_session'])\n",
        "df_cart_price = grouped_cart.agg({'price': 'sum'})\n",
        "df_cart_price = df_cart_price.rename(columns={\"price\": \"totals. totalAddToCartRevenue\"})\n",
        "df_ec_coded = pd.merge(df_ec_coded,\n",
        "                 df_cart_price['totals. totalAddToCartRevenue'],\n",
        "                 on='user_session', \n",
        "                 how='left')"
      ],
      "execution_count": null,
      "outputs": []
    },
    {
      "cell_type": "code",
      "metadata": {
        "id": "pQxvxnW-9GL9"
      },
      "source": [
        "# re-create features from GroupBy dataset (totalRemoveFromCarts)\n",
        "df_ec_coded['totals. totalRemoveFromCarts'] = df_ec_coded.groupby(['user_session'])['event_type_remove_from_cart'].transform('sum')"
      ],
      "execution_count": null,
      "outputs": []
    },
    {
      "cell_type": "code",
      "metadata": {
        "id": "1fEgQO3k9GL-"
      },
      "source": [
        "# re-create features from GroupBy dataset (totalRemoveFromCartsRevenue)\n",
        "df_remove_cart = df_ec_coded[df_ec_coded['event_type_remove_from_cart'] == 1]\n",
        "grouped_remove_cart = df_remove_cart.groupby(['user_session'])\n",
        "df_remove_cart_price = grouped_remove_cart.agg({'price': 'sum'})\n",
        "df_remove_cart_price = df_remove_cart_price.rename(columns={\"price\": \"totals. totalRemoveFromCartRevenue\"})\n",
        "df_ec_coded = pd.merge(df_ec_coded,\n",
        "                 df_remove_cart_price['totals. totalRemoveFromCartRevenue'],\n",
        "                 on='user_session', \n",
        "                 how='left')"
      ],
      "execution_count": null,
      "outputs": []
    },
    {
      "cell_type": "code",
      "metadata": {
        "id": "CfQ-cmX59GL-"
      },
      "source": [
        "# re-create features from GroupBy dataset (totalOrders)\n",
        "df_ec_coded['totals. totalOrders'] = df_ec_coded.groupby(['user_session'])['event_type_purchase'].transform('sum')"
      ],
      "execution_count": null,
      "outputs": []
    },
    {
      "cell_type": "code",
      "metadata": {
        "id": "FBg36_fO9GL-"
      },
      "source": [
        "# re-create features from GroupBy dataset (totalOrderRevenue)\n",
        "df_orders = df_ec_coded[df_ec_coded['event_type_purchase'] == 1]\n",
        "grouped_orders = df_orders.groupby(['user_session'])\n",
        "df_orders_price = grouped_orders.agg({'price': 'sum'})\n",
        "df_orders_price = df_orders_price.rename(columns={\"price\": \"totals. totalOrderRevenue\"})\n",
        "df_ec_coded = pd.merge(df_ec_coded,\n",
        "                 df_orders_price['totals. totalOrderRevenue'],\n",
        "                 on='user_session', \n",
        "                 how='left')"
      ],
      "execution_count": null,
      "outputs": []
    },
    {
      "cell_type": "code",
      "metadata": {
        "id": "aa1Ef8P6kioI"
      },
      "source": [
        "# re-create features from GroupBy dataset (totalprice)\n",
        "#df_ec_coded['totalprice'] = df_ec_coded.apply(lambda x: x['totalOrderRevenue'] if x['event_type_purchase'] == 1  < x['col2'] else x['col1'], axis=1)\n"
      ],
      "execution_count": null,
      "outputs": []
    },
    {
      "cell_type": "markdown",
      "metadata": {
        "id": "sOLaL6agLqE9"
      },
      "source": [
        "### Re-create the Total Unqiue Features"
      ]
    },
    {
      "cell_type": "code",
      "metadata": {
        "id": "ajk8plM59GL_"
      },
      "source": [
        "# re-create features from GroupBy dataset (uniqueViewProducts)\n",
        "df_uniq_view = df_ec_coded[df_ec_coded['event_type_view'] == 1]\n",
        "grouped_uniq_view = df_uniq_view.groupby(['user_session'])\n",
        "df_uniq_view_prod = grouped_uniq_view.agg({'product_id': 'nunique'})\n",
        "df_uniq_view_prod = df_uniq_view_prod.rename(columns={\"product_id\": \"totals. uniqueViewProducts\"})\n",
        "df_ec_coded = pd.merge(df_ec_coded,\n",
        "                 df_uniq_view_prod['totals. uniqueViewProducts'],\n",
        "                 on='user_session', \n",
        "                 how='left')"
      ],
      "execution_count": null,
      "outputs": []
    },
    {
      "cell_type": "code",
      "metadata": {
        "id": "iWSJ5201MEHw"
      },
      "source": [
        "# re-create features from GroupBy dataset (uniqueAddToCarts)\n",
        "df_uniq_cart = df_ec_coded[df_ec_coded['event_type_cart'] == 1]\n",
        "grouped_uniq_cart = df_uniq_cart.groupby(['user_session'])\n",
        "df_uniq_cart_prod = grouped_uniq_cart.agg({'product_id': 'nunique'})\n",
        "df_uniq_cart_prod = df_uniq_cart_prod.rename(columns={\"product_id\": \"totals. uniqueAddToCarts\"})\n",
        "df_ec_coded = pd.merge(df_ec_coded,\n",
        "                 df_uniq_cart_prod['totals. uniqueAddToCarts'],\n",
        "                 on='user_session', \n",
        "                 how='left')"
      ],
      "execution_count": null,
      "outputs": []
    },
    {
      "cell_type": "code",
      "metadata": {
        "id": "6FSCRyPDQjCn"
      },
      "source": [
        "# re-create features from GroupBy dataset (uniqueRemoveFromCarts)\n",
        "df_uniq_remove = df_ec_coded[df_ec_coded['event_type_remove_from_cart'] == 1]\n",
        "grouped_uniq_remove = df_uniq_remove.groupby(['user_session'])\n",
        "df_uniq_remove_prod = grouped_uniq_remove.agg({'product_id': 'nunique'})\n",
        "df_uniq_remove_prod = df_uniq_remove_prod.rename(columns={\"product_id\": \"totals. uniqueRemoveFromCarts\"})\n",
        "df_ec_coded = pd.merge(df_ec_coded,\n",
        "                 df_uniq_remove_prod['totals. uniqueRemoveFromCarts'],\n",
        "                 on='user_session', \n",
        "                 how='left')"
      ],
      "execution_count": null,
      "outputs": []
    },
    {
      "cell_type": "code",
      "metadata": {
        "id": "cBxt7dfYQjLA"
      },
      "source": [
        "# re-create features from GroupBy dataset (uniqueOrders)\n",
        "df_uniq_order = df_ec_coded[df_ec_coded['event_type_purchase'] == 1]\n",
        "grouped_uniq_order = df_uniq_order.groupby(['user_session'])\n",
        "df_uniq_order_prod = grouped_uniq_order.agg({'product_id': 'nunique'})\n",
        "df_uniq_order_prod = df_uniq_order_prod.rename(columns={\"product_id\": \"totals. uniqueOrders\"})\n",
        "df_ec_coded = pd.merge(df_ec_coded,\n",
        "                 df_uniq_order_prod['totals. uniqueOrders'],\n",
        "                 on='user_session', \n",
        "                 how='left')"
      ],
      "execution_count": null,
      "outputs": []
    },
    {
      "cell_type": "markdown",
      "metadata": {
        "id": "OPDzOE7Y_F_n"
      },
      "source": [
        "### Update or Drop Column Names\n",
        "\n",
        "\n"
      ]
    },
    {
      "cell_type": "code",
      "metadata": {
        "id": "8GEg6f4fSsrY"
      },
      "source": [
        "#transition into final dataframe\n",
        "df_ec_final = df_ec_coded"
      ],
      "execution_count": null,
      "outputs": []
    },
    {
      "cell_type": "code",
      "metadata": {
        "id": "ZMm75p-SJT7S",
        "colab": {
          "base_uri": "https://localhost:8080/"
        },
        "outputId": "1c042fbb-1062-442a-9462-770831c634a1"
      },
      "source": [
        "#check columns and datat types\n",
        "df_ec_final.info()"
      ],
      "execution_count": null,
      "outputs": [
        {
          "output_type": "stream",
          "name": "stdout",
          "text": [
            "<class 'pandas.core.frame.DataFrame'>\n",
            "Int64Index: 25323266 entries, 0 to 25323265\n",
            "Data columns (total 28 columns):\n",
            " #   Column                              Dtype         \n",
            "---  ------                              -----         \n",
            " 0   event_time                          datetime64[ns]\n",
            " 1   product_id                          object        \n",
            " 2   category_id                         int64         \n",
            " 3   brand                               object        \n",
            " 4   price                               float64       \n",
            " 5   user_id                             object        \n",
            " 6   user_session                        object        \n",
            " 7   unique_key                          object        \n",
            " 8   unique_sess_event                   object        \n",
            " 9   unique_sess                         object        \n",
            " 10  totals_events                       float64       \n",
            " 11  event_type_original                 object        \n",
            " 12  event_type_cart                     uint8         \n",
            " 13  event_type_purchase                 uint8         \n",
            " 14  event_type_remove_from_cart         uint8         \n",
            " 15  event_type_view                     uint8         \n",
            " 16  totals. totalViewProducts           float64       \n",
            " 17  totals. totalViewProductRevenue     float64       \n",
            " 18  totals. totalAddToCarts             float64       \n",
            " 19  totals. totalAddToCartRevenue       float64       \n",
            " 20  totals. totalRemoveFromCarts        float64       \n",
            " 21  totals. totalRemoveFromCartRevenue  float64       \n",
            " 22  totals. totalOrders                 float64       \n",
            " 23  totals. totalOrderRevenue           float64       \n",
            " 24  totals. uniqueViewProducts          float64       \n",
            " 25  totals. uniqueAddToCarts            float64       \n",
            " 26  totals. uniqueRemoveFromCarts       float64       \n",
            " 27  totals. uniqueOrders                float64       \n",
            "dtypes: datetime64[ns](1), float64(14), int64(1), object(8), uint8(4)\n",
            "memory usage: 4.8+ GB\n"
          ]
        }
      ]
    },
    {
      "cell_type": "code",
      "metadata": {
        "id": "FStIUiGpMPWK"
      },
      "source": [
        "#rename columns\n",
        "df_ec_final = df_ec_coded.rename(columns={\n",
        "     'brand': 'product_brand',\n",
        "     'price' : 'product_price',\n",
        "     'user_session' : 'customerSessionId',\n",
        "     'totals. totalViewProducts': 'totalViewProducts',\n",
        "     'user_id':'customerVisitorId',\n",
        "     'totals. totalViewProductRevenue':'totalViewProductRevenue',\n",
        "     'totals. totalAddToCarts': 'totalAddToCarts',\n",
        "     'totals. totalAddToCartRevenue': 'totalAddToCartRevenue',\n",
        "     'totals. totalRemoveFromCarts':'totalRemoveFromCarts',\n",
        "     'totals. totalRemoveFromCartRevenue':'totalRemoveFromCartRevenue',\n",
        "     'totals. totalOrders': 'totalOrders',\n",
        "     'totals. totalOrderRevenue':'totalOrderRevenue',\n",
        "     'totals. uniqueViewProducts':'uniqueViewProducts',\n",
        "     'totals. uniqueAddToCarts':'uniqueAddToCarts',\n",
        "     'totals. uniqueRemoveFromCarts':'uniqueRemoveFromCarts',\n",
        "     'totals. uniqueOrders':'uniqueOrders',\n",
        "     'min': 'sessionStartTime',\n",
        "     'max': 'sessionEndTime',\n",
        "})"
      ],
      "execution_count": null,
      "outputs": []
    },
    {
      "cell_type": "markdown",
      "metadata": {
        "id": "cy1jrTW5xUnG"
      },
      "source": [
        "### Address Missing Values for New Featurees"
      ]
    },
    {
      "cell_type": "code",
      "metadata": {
        "id": "gb-IMeb9xbHn",
        "colab": {
          "base_uri": "https://localhost:8080/"
        },
        "outputId": "0525e32d-1347-4d34-9e20-7115b10a5672"
      },
      "source": [
        "# check missing values to determine next teps\n",
        "null_columns= df_ec_final.columns[df_ec_final.isnull().any()]\n",
        "df_ec_final[null_columns].isnull().sum()"
      ],
      "execution_count": null,
      "outputs": [
        {
          "output_type": "execute_result",
          "data": {
            "text/plain": [
              "totals_events                 25323266\n",
              "totalViewProductRevenue        2435933\n",
              "totalAddToCartRevenue          7397549\n",
              "totalRemoveFromCartRevenue    10907869\n",
              "totalOrderRevenue             19945845\n",
              "uniqueViewProducts             2435933\n",
              "uniqueAddToCarts               7397549\n",
              "uniqueRemoveFromCarts         10907869\n",
              "uniqueOrders                  19945845\n",
              "dtype: int64"
            ]
          },
          "metadata": {},
          "execution_count": 40
        }
      ]
    },
    {
      "cell_type": "code",
      "metadata": {
        "id": "KFPeyKdoexBY"
      },
      "source": [
        "# columns with misisng values that can be filled in with 0\n",
        "cols_fill_0 = ['totalViewProducts','totalViewProductRevenue','totalAddToCarts',\n",
        "        'totalAddToCartRevenue', 'totalRemoveFromCarts', 'totalRemoveFromCartRevenue',\n",
        "        'totalOrders','totalOrderRevenue','uniqueViewProducts', 'uniqueAddToCarts', 'uniqueRemoveFromCarts', 'uniqueOrders', 'totals_events']\n",
        "\n",
        "# replace missing values with 0\n",
        "df_ec_final[cols_fill_0] = df_ec_final[cols_fill_0].fillna(0)"
      ],
      "execution_count": null,
      "outputs": []
    },
    {
      "cell_type": "code",
      "metadata": {
        "id": "9zBeBj_gEhO7",
        "colab": {
          "base_uri": "https://localhost:8080/"
        },
        "outputId": "ab99839c-9e89-43bb-e624-1bdbada87685"
      },
      "source": [
        "# re-check missing values to determine next teps\n",
        "null_columns= df_ec_final.columns[df_ec_final.isnull().any()]\n",
        "df_ec_final[null_columns].isnull().sum()"
      ],
      "execution_count": null,
      "outputs": [
        {
          "output_type": "execute_result",
          "data": {
            "text/plain": [
              "Series([], dtype: float64)"
            ]
          },
          "metadata": {},
          "execution_count": 42
        }
      ]
    },
    {
      "cell_type": "markdown",
      "metadata": {
        "id": "2YujOVZs9GMB"
      },
      "source": [
        "### Save to CSV"
      ]
    },
    {
      "cell_type": "code",
      "metadata": {
        "id": "kvKfPqr4aET8"
      },
      "source": [
        "#save to csv\n",
        "df_ec_final.to_csv('df_ec_final_0.csv',index =False)"
      ],
      "execution_count": null,
      "outputs": []
    }
  ]
}