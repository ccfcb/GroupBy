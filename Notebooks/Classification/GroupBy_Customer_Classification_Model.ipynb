{
  "nbformat": 4,
  "nbformat_minor": 0,
  "metadata": {
    "accelerator": "GPU",
    "colab": {
      "name": "GroupBy: Customer Classification Model",
      "provenance": [],
      "collapsed_sections": [],
      "machine_shape": "hm"
    },
    "kernelspec": {
      "display_name": "Python 3",
      "name": "python3"
    },
    "language_info": {
      "name": "python"
    }
  },
  "cells": [
    {
      "cell_type": "markdown",
      "metadata": {
        "id": "wiYpZuEtovwG"
      },
      "source": [
        "## GroupBy: Customer Classification Model"
      ]
    },
    {
      "cell_type": "markdown",
      "metadata": {
        "id": "X0DTHdT9QcOX"
      },
      "source": [
        "### Drive Set Up\n"
      ]
    },
    {
      "cell_type": "code",
      "metadata": {
        "colab": {
          "base_uri": "https://localhost:8080/"
        },
        "id": "3aMXwHtnngZp",
        "outputId": "ae8c66e4-d6f5-4651-c742-5d1d0c389fde"
      },
      "source": [
        "#Mount the RAW session level data: \n",
        "from google.colab import drive\n",
        "drive.mount('/content/drive')"
      ],
      "execution_count": null,
      "outputs": [
        {
          "output_type": "stream",
          "name": "stdout",
          "text": [
            "Mounted at /content/drive\n"
          ]
        }
      ]
    },
    {
      "cell_type": "code",
      "metadata": {
        "id": "VemA-89cngcq"
      },
      "source": [
        "import os\n",
        "# The path below should point to the directory containing this notebook and the associated utility files\n",
        "# Change it if necessary\n",
        "os.chdir('/content/drive/MyDrive/GroupBy/')"
      ],
      "execution_count": null,
      "outputs": []
    },
    {
      "cell_type": "code",
      "metadata": {
        "colab": {
          "base_uri": "https://localhost:8080/"
        },
        "id": "MJqrE3utFh_j",
        "outputId": "6018d0a6-e752-4617-f192-bdba1e23a140"
      },
      "source": [
        "!pip install -U yellowbrick"
      ],
      "execution_count": null,
      "outputs": [
        {
          "output_type": "stream",
          "name": "stdout",
          "text": [
            "Requirement already satisfied: yellowbrick in /usr/local/lib/python3.7/dist-packages (0.9.1)\n",
            "Collecting yellowbrick\n",
            "  Downloading yellowbrick-1.3.post1-py3-none-any.whl (271 kB)\n",
            "\u001b[K     |████████████████████████████████| 271 kB 15.7 MB/s \n",
            "\u001b[?25hRequirement already satisfied: cycler>=0.10.0 in /usr/local/lib/python3.7/dist-packages (from yellowbrick) (0.10.0)\n",
            "Requirement already satisfied: numpy<1.20,>=1.16.0 in /usr/local/lib/python3.7/dist-packages (from yellowbrick) (1.19.5)\n",
            "Requirement already satisfied: scipy>=1.0.0 in /usr/local/lib/python3.7/dist-packages (from yellowbrick) (1.4.1)\n",
            "Requirement already satisfied: matplotlib!=3.0.0,>=2.0.2 in /usr/local/lib/python3.7/dist-packages (from yellowbrick) (3.2.2)\n",
            "Requirement already satisfied: scikit-learn>=0.20 in /usr/local/lib/python3.7/dist-packages (from yellowbrick) (0.22.2.post1)\n",
            "Requirement already satisfied: six in /usr/local/lib/python3.7/dist-packages (from cycler>=0.10.0->yellowbrick) (1.15.0)\n",
            "Requirement already satisfied: pyparsing!=2.0.4,!=2.1.2,!=2.1.6,>=2.0.1 in /usr/local/lib/python3.7/dist-packages (from matplotlib!=3.0.0,>=2.0.2->yellowbrick) (2.4.7)\n",
            "Requirement already satisfied: kiwisolver>=1.0.1 in /usr/local/lib/python3.7/dist-packages (from matplotlib!=3.0.0,>=2.0.2->yellowbrick) (1.3.2)\n",
            "Requirement already satisfied: python-dateutil>=2.1 in /usr/local/lib/python3.7/dist-packages (from matplotlib!=3.0.0,>=2.0.2->yellowbrick) (2.8.2)\n",
            "Requirement already satisfied: joblib>=0.11 in /usr/local/lib/python3.7/dist-packages (from scikit-learn>=0.20->yellowbrick) (1.0.1)\n",
            "Installing collected packages: yellowbrick\n",
            "  Attempting uninstall: yellowbrick\n",
            "    Found existing installation: yellowbrick 0.9.1\n",
            "    Uninstalling yellowbrick-0.9.1:\n",
            "      Successfully uninstalled yellowbrick-0.9.1\n",
            "Successfully installed yellowbrick-1.3.post1\n"
          ]
        }
      ]
    },
    {
      "cell_type": "code",
      "metadata": {
        "id": "8HbkHY_FFne_"
      },
      "source": [
        ""
      ],
      "execution_count": null,
      "outputs": []
    },
    {
      "cell_type": "markdown",
      "metadata": {
        "id": "_T9EFjJ7QyJq"
      },
      "source": [
        "### Import Library"
      ]
    },
    {
      "cell_type": "code",
      "metadata": {
        "id": "avvn2rq6sGL7"
      },
      "source": [
        "import pandas as pd\n",
        "import numpy as np\n",
        "import matplotlib.pyplot as plt\n",
        "import seaborn as sns\n",
        "%matplotlib inline\n",
        "import warnings\n",
        "warnings.filterwarnings('ignore')\n",
        "import numpy as np\n",
        "import matplotlib.pyplot as plt\n",
        "from sklearn.cluster import KMeans\n",
        "from sklearn.datasets import make_blobs\n",
        "from sklearn.decomposition import PCA\n",
        "from yellowbrick.cluster import KElbowVisualizer"
      ],
      "execution_count": null,
      "outputs": []
    },
    {
      "cell_type": "markdown",
      "metadata": {
        "id": "hTkutE-ssHaD"
      },
      "source": [
        "### Load Data"
      ]
    },
    {
      "cell_type": "code",
      "metadata": {
        "id": "C98-0XMesOm-"
      },
      "source": [
        "#load the 'eCommerce Events History in Cosmetics Shop' data set\n",
        "json_data = pd.read_csv('df_json_cluster.csv')\n",
        "\n",
        "#copy for other use\n",
        "original_data = json_data"
      ],
      "execution_count": null,
      "outputs": []
    },
    {
      "cell_type": "markdown",
      "metadata": {
        "id": "BhWT0098AafP"
      },
      "source": [
        "### Explore Data"
      ]
    },
    {
      "cell_type": "markdown",
      "metadata": {
        "id": "by8r1NlRAPTh"
      },
      "source": [
        "### Data Pre-processing"
      ]
    },
    {
      "cell_type": "markdown",
      "metadata": {
        "id": "Jfozrj6gDrjh"
      },
      "source": [
        "##### Address Missing Values"
      ]
    },
    {
      "cell_type": "code",
      "metadata": {
        "colab": {
          "base_uri": "https://localhost:8080/"
        },
        "id": "1bZF8TeT-4ML",
        "outputId": "5e15acbd-aae4-49e1-8cbb-875707d54fbb"
      },
      "source": [
        "# re-check address missing values\n",
        "null_columns= json_data.columns[json_data.isnull().any()]\n",
        "json_data[null_columns].isnull().sum()"
      ],
      "execution_count": null,
      "outputs": [
        {
          "output_type": "execute_result",
          "data": {
            "text/plain": [
              "product_name              216\n",
              "listLocation           140737\n",
              "listPosition           140737\n",
              "hits.totalitems       1539181\n",
              "hits.totalquantity    1539181\n",
              "totalAddToCartQty      625984\n",
              "uniqueSearches          48522\n",
              "queriesSearched        259452\n",
              "uniqueRefinements     1454237\n",
              "uniqueNavigations     1454237\n",
              "totalOrderQty         1061582\n",
              "dtype: int64"
            ]
          },
          "metadata": {},
          "execution_count": 6
        }
      ]
    },
    {
      "cell_type": "code",
      "metadata": {
        "id": "eUGmBLFe_QMk"
      },
      "source": [
        "#remove values with missing rows\n",
        "json_data = json_data.dropna(subset=['product_name'])"
      ],
      "execution_count": null,
      "outputs": []
    },
    {
      "cell_type": "code",
      "metadata": {
        "id": "nRpYCkbw_-sG"
      },
      "source": [
        "# columns with misisng values that can be filled in with 0\n",
        "cols_fill_0 = ['totalAddToCartQty','totalOrderQty']\n",
        "\n",
        "# replace missing values with 0\n",
        "json_data[cols_fill_0] = json_data[cols_fill_0].fillna(0)"
      ],
      "execution_count": null,
      "outputs": []
    },
    {
      "cell_type": "code",
      "metadata": {
        "id": "SE4iQCOb9Fr_"
      },
      "source": [
        "#drop columns with siginifican missign data \n",
        "json_data = json_data.drop(columns=['queriesSearched', 'uniqueRefinements','uniqueNavigations', 'hits.totalitems','hits.totalquantity','listLocation','listPosition','uniqueSearches'])"
      ],
      "execution_count": null,
      "outputs": []
    },
    {
      "cell_type": "code",
      "metadata": {
        "colab": {
          "base_uri": "https://localhost:8080/"
        },
        "id": "uzIDr3sZDoyq",
        "outputId": "3ee16913-271b-48cf-a497-4edd42e79931"
      },
      "source": [
        "# re-check address missing values\n",
        "null_columns= json_data.columns[json_data.isnull().any()]\n",
        "json_data[null_columns].isnull().sum()"
      ],
      "execution_count": null,
      "outputs": [
        {
          "output_type": "execute_result",
          "data": {
            "text/plain": [
              "Series([], dtype: float64)"
            ]
          },
          "metadata": {},
          "execution_count": 10
        }
      ]
    },
    {
      "cell_type": "markdown",
      "metadata": {
        "id": "MosE8hQ0AOxI"
      },
      "source": [
        "##### Convert Non-Numeric Columns"
      ]
    },
    {
      "cell_type": "code",
      "metadata": {
        "id": "L1yVBtylouX5"
      },
      "source": [
        "#create pd.series for customer visitor id for later use\n",
        "original_cust_id = original_data['customerVisitorId']"
      ],
      "execution_count": null,
      "outputs": []
    },
    {
      "cell_type": "code",
      "metadata": {
        "id": "TnowXQsi_aMr"
      },
      "source": [
        "#filter for non-numeric columns\n",
        "df_json_numeric = json_data.select_dtypes(exclude=['int64','float64'])"
      ],
      "execution_count": null,
      "outputs": []
    },
    {
      "cell_type": "code",
      "metadata": {
        "id": "hLWgs7TuD15X"
      },
      "source": [
        "non_numeric_cols= ['product_id', 'product_name', 'product_brand','customerId', 'customerArea', 'customerVisitorId', 'customerLoginId',\n",
        "       'customerSessionId']"
      ],
      "execution_count": null,
      "outputs": []
    },
    {
      "cell_type": "code",
      "metadata": {
        "id": "OxbyRPavWyid"
      },
      "source": [
        "#import ordinal encoder\n",
        "from sklearn.preprocessing import OrdinalEncoder\n",
        "\n",
        "# function apply encoder\n",
        "def ord_encode(data):\n",
        "\toe = OrdinalEncoder()\n",
        "\toe.fit(data)\n",
        "\tdata_encoded = oe.transform(data)\n",
        "\treturn data_encoded"
      ],
      "execution_count": null,
      "outputs": []
    },
    {
      "cell_type": "code",
      "metadata": {
        "id": "o9UPM13lXC5c"
      },
      "source": [
        "json_data[non_numeric_cols] = ord_encode(json_data[non_numeric_cols])"
      ],
      "execution_count": null,
      "outputs": []
    },
    {
      "cell_type": "code",
      "metadata": {
        "colab": {
          "base_uri": "https://localhost:8080/"
        },
        "id": "DgH1_RKgMSud",
        "outputId": "bbd57c78-e22c-480a-aae0-40e877a94bb9"
      },
      "source": [
        "test_non_numeric = json_data.select_dtypes(exclude=['int64','float64'])\n",
        "test_non_numeric.columns"
      ],
      "execution_count": null,
      "outputs": [
        {
          "output_type": "execute_result",
          "data": {
            "text/plain": [
              "Index([], dtype='object')"
            ]
          },
          "metadata": {},
          "execution_count": 15
        }
      ]
    },
    {
      "cell_type": "code",
      "metadata": {
        "id": "LDuC295Ohnlq"
      },
      "source": [
        "#add total session\n",
        "json_data['total_session'] = json_data.groupby(['customerVisitorId'])['customerSessionNumber'].transform('sum')"
      ],
      "execution_count": null,
      "outputs": []
    },
    {
      "cell_type": "markdown",
      "metadata": {
        "id": "KvV3vq48WcM7"
      },
      "source": [
        "### KMeans Clustering: User Behavior"
      ]
    },
    {
      "cell_type": "markdown",
      "metadata": {
        "id": "UdTihKrrW0Nv"
      },
      "source": [
        "##### Dimensionality Reduction"
      ]
    },
    {
      "cell_type": "code",
      "metadata": {
        "colab": {
          "base_uri": "https://localhost:8080/"
        },
        "id": "DZIBbEjs2UVS",
        "outputId": "e16009e2-4270-4073-846b-510132775701"
      },
      "source": [
        "pca=PCA(n_components=48)\n",
        "data_pca =pca.fit_transform(json_data)\n",
        "print(data_pca.shape)"
      ],
      "execution_count": null,
      "outputs": [
        {
          "output_type": "stream",
          "name": "stdout",
          "text": [
            "(1578593, 48)\n"
          ]
        }
      ]
    },
    {
      "cell_type": "code",
      "metadata": {
        "colab": {
          "base_uri": "https://localhost:8080/",
          "height": 403
        },
        "id": "pILfyl2iDrLH",
        "outputId": "951021b9-7f95-4445-bcf0-baaa9b4cadca"
      },
      "source": [
        "\n",
        "% matplotlib inline\n",
        "import matplotlib.pyplot as plt\n",
        "plt.rcParams[\"figure.figsize\"] = (12,6)\n",
        "\n",
        "fig, ax = plt.subplots()\n",
        "xi = np.arange(1, 49, step=1)\n",
        "y = np.cumsum(pca.explained_variance_ratio_)\n",
        "\n",
        "plt.ylim(0.0,1.1)\n",
        "plt.plot(xi, y, marker='o', linestyle='--', color='b')\n",
        "\n",
        "plt.xlabel('Number of Components')\n",
        "plt.xticks(np.arange(0, 49, step=1)) #change from 0-based array index to 1-based human-readable label\n",
        "plt.ylabel('Cumulative variance (%)')\n",
        "plt.title('The number of components needed to explain variance')\n",
        "\n",
        "plt.axhline(y=0.99, color='r', linestyle='-')\n",
        "plt.text(0.5, 0.85, '95% cut-off threshold', color = 'red', fontsize=16)\n",
        "\n",
        "ax.grid(axis='x')\n",
        "plt.show()"
      ],
      "execution_count": null,
      "outputs": [
        {
          "output_type": "display_data",
          "data": {
            "image/png": "[encoded data removed]",
            "text/plain": [
              "<Figure size 864x432 with 1 Axes>"
            ]
          },
          "metadata": {
            "needs_background": "light"
          }
        }
      ]
    },
    {
      "cell_type": "code",
      "metadata": {
        "colab": {
          "base_uri": "https://localhost:8080/"
        },
        "id": "itEktd4JEmTw",
        "outputId": "00d36506-9abb-46b1-a45f-c44ba07db03b"
      },
      "source": [
        "pca=PCA(n_components=5)\n",
        "data_pca =pca.fit_transform(json_data)\n",
        "print(data_pca.shape)"
      ],
      "execution_count": null,
      "outputs": [
        {
          "output_type": "stream",
          "name": "stdout",
          "text": [
            "(1578593, 5)\n"
          ]
        }
      ]
    },
    {
      "cell_type": "markdown",
      "metadata": {
        "id": "StZ2BKiNW644"
      },
      "source": [
        "##### Elbow Method: Optimal Number of Clusters"
      ]
    },
    {
      "cell_type": "code",
      "metadata": {
        "colab": {
          "base_uri": "https://localhost:8080/",
          "height": 420
        },
        "id": "igCtYBWxWP8t",
        "outputId": "02d717da-55fe-4b99-872e-df05aabf437b"
      },
      "source": [
        "#initiate kmeans model\n",
        "model = KMeans()\n",
        "# fit the visualizer to the reduced features data\n",
        "visualizer = KElbowVisualizer(model, k=(1,20))\n",
        "# fit the data to the visualizer\n",
        "visualizer.fit(data_pca) \n",
        "visualizer.show()"
      ],
      "execution_count": null,
      "outputs": [
        {
          "output_type": "display_data",
          "data": {
            "image/png": "[encoded data removed]",
            "text/plain": [
              "<Figure size 864x432 with 2 Axes>"
            ]
          },
          "metadata": {}
        },
        {
          "output_type": "execute_result",
          "data": {
            "text/plain": [
              "<matplotlib.axes._subplots.AxesSubplot at 0x7f5e24a7c110>"
            ]
          },
          "metadata": {},
          "execution_count": 20
        }
      ]
    },
    {
      "cell_type": "markdown",
      "metadata": {
        "id": "x1mErNk6W9hA"
      },
      "source": [
        "##### KMeans with Optimal Clusters"
      ]
    },
    {
      "cell_type": "code",
      "metadata": {
        "id": "pOLv7NRfc1c9"
      },
      "source": [
        "# create dataframe to store kmeans results/clusters\n",
        "data_clusters = json_data.copy() "
      ],
      "execution_count": null,
      "outputs": []
    },
    {
      "cell_type": "code",
      "metadata": {
        "id": "gQ4AjlcmWPzx"
      },
      "source": [
        "# optimal number of clusters from Elbow method\n",
        "n = 3\n",
        "# Instantiate the clustering model\n",
        "clusters = KMeans(n_clusters = n)\n",
        "# Assign the points in the reduced dataset to clusters\n",
        "json_data['Cluster_ID']  = clusters.fit_predict(data_pca)\n",
        "# print unique classes\n",
        "#print(np.unique(C_vals))"
      ],
      "execution_count": null,
      "outputs": []
    },
    {
      "cell_type": "code",
      "metadata": {
        "id": "PQ-ZMDudMNBC"
      },
      "source": [
        "#save to csv\n",
        "json_data.to_csv('data_clusters.csv', index=False)"
      ],
      "execution_count": null,
      "outputs": []
    },
    {
      "cell_type": "code",
      "metadata": {
        "id": "NdIwmIz6H-Cr"
      },
      "source": [
        "#load data\n",
        "data_clusters = pd.read_csv('data_clusters.csv')"
      ],
      "execution_count": null,
      "outputs": []
    },
    {
      "cell_type": "markdown",
      "metadata": {
        "id": "Jw0cmh0scZ6D"
      },
      "source": [
        "### Cluster Visualization"
      ]
    },
    {
      "cell_type": "code",
      "metadata": {
        "colab": {
          "base_uri": "https://localhost:8080/"
        },
        "id": "3K-fynMn9iZD",
        "outputId": "30d72e6e-31dc-4761-91df-8f0daceb0f82"
      },
      "source": [
        "data_clusters.columns"
      ],
      "execution_count": null,
      "outputs": [
        {
          "output_type": "execute_result",
          "data": {
            "text/plain": [
              "Index(['product_id', 'product_name', 'product_price', 'product_brand',\n",
              "       'hitSequence', 'first_session_event', 'last_session_event',\n",
              "       'total_price_cart', 'customerId', 'customerArea', 'customerVisitorId',\n",
              "       'customerLoginId', 'customerSessionId', 'customerSessionNumber',\n",
              "       'totals_events', 'newSession', 'bounce', 'totalSearches',\n",
              "       'totalNavigations', 'totalRefinements', 'totalViewProducts',\n",
              "       'totalViewProductRevenue', 'totalNullSearches', 'uniqueViewProducts',\n",
              "       'totalAddToCarts', 'totalAddToCartQty', 'totalAddToCartRevenue',\n",
              "       'uniqueAddToCarts', 'totalOrders', 'totalOrderQty', 'totalOrderRevenue',\n",
              "       'uniqueOrders', 'event_type_cart', 'event_type_purchase',\n",
              "       'hits.eventType.category_search', 'event_type_view', 'timeOnSite',\n",
              "       'event_year', 'event_month', 'event_day_of_week', 'event_day_of_month',\n",
              "       'event_day_of_year', 'event_hour', 'event_minute', 'event_second',\n",
              "       'event_micorsecond', 'weekend', 'holiday', 'total_session',\n",
              "       'Cluster_ID'],\n",
              "      dtype='object')"
            ]
          },
          "metadata": {},
          "execution_count": 25
        }
      ]
    },
    {
      "cell_type": "code",
      "metadata": {
        "id": "iMgRfE1N9eyU"
      },
      "source": [
        "cols_plot = ['product_id', 'product_name', 'product_price', 'product_brand',\n",
        "'hitSequence', 'first_session_event', 'last_session_event',\n",
        "'total_price_cart',  'customerArea', 'customerVisitorId', 'customerSessionId', 'customerSessionNumber',\n",
        "'totals_events', 'newSession', 'totalSearches','totalViewProducts',\n",
        "'totalAddToCarts', 'totalAddToCartRevenue','totalOrders', 'totalOrderRevenue',\n",
        "'uniqueOrders', 'event_type_cart', 'event_type_purchase', 'event_type_view', 'timeOnSite',\n",
        "'weekend', 'holiday', 'total_session',\n",
        "'Cluster_ID']"
      ],
      "execution_count": null,
      "outputs": []
    },
    {
      "cell_type": "code",
      "metadata": {
        "id": "vuBht7wf97qd"
      },
      "source": [
        "df_plot  = data_clusters[cols_plot]"
      ],
      "execution_count": null,
      "outputs": []
    },
    {
      "cell_type": "code",
      "metadata": {
        "colab": {
          "base_uri": "https://localhost:8080/",
          "height": 617
        },
        "id": "-LKydZ8vy5Wi",
        "outputId": "df548437-171d-4ac7-f3ca-0ecd22e48e89"
      },
      "source": [
        "# Plot results\n",
        "import plotly.express as px\n",
        "polar=df_plot.groupby('Cluster_ID').mean().reset_index()\n",
        "polar=pd.melt(polar,id_vars=['Cluster_ID'])\n",
        "fig4 = px.line_polar(polar, r=\"value\", theta=\"variable\", color='Cluster_ID', line_close=True, height=600, width=1000)\n",
        "fig4.show()"
      ],
      "execution_count": null,
      "outputs": [
        {
          "output_type": "display_data",
          "data": {
            "text/html": [
              "<html>\n",
              "<head><meta charset=\"utf-8\" /></head>\n",
              "<body>\n",
              "    <div>\n",
              "            <script src=\"https://cdnjs.cloudflare.com/ajax/libs/mathjax/2.7.5/MathJax.js?config=TeX-AMS-MML_SVG\"></script><script type=\"text/javascript\">if (window.MathJax) {MathJax.Hub.Config({SVG: {font: \"STIX-Web\"}});}</script>\n",
              "                <script type=\"text/javascript\">window.PlotlyConfig = {MathJaxConfig: 'local'};</script>\n",
              "        <script src=\"https://cdn.plot.ly/plotly-latest.min.js\"></script>    \n",
              "            <div id=\"80788779-da82-42d9-bcaf-09d05534e528\" class=\"plotly-graph-div\" style=\"height:600px; width:1000px;\"></div>\n",
              "            <script type=\"text/javascript\">\n",
              "                \n",
              "                    window.PLOTLYENV=window.PLOTLYENV || {};\n",
              "                    \n",
              "                if (document.getElementById(\"80788779-da82-42d9-bcaf-09d05534e528\")) {\n",
              "                    Plotly.newPlot(\n",
              "                        '80788779-da82-42d9-bcaf-09d05534e528',\n",
              "                        [{\"hoverlabel\": {\"namelength\": 0}, \"hovertemplate\": \"Cluster_ID=0<br>value=%{r}<br>variable=%{theta}\", \"legendgroup\": \"Cluster_ID=0\", \"line\": {\"color\": \"#636efa\", \"dash\": \"solid\"}, \"mode\": \"lines\", \"name\": \"Cluster_ID=0\", \"r\": [8362.602780536246, 7616.861362196905, 13.841598947906611, 881.8069204544566, 18.850534447841486, 0.16724464183784377, 0.13255635746624025, 0.9976651823065051, 0.0, 18219.14748336448, 20591.109342867643, 1.0, 36.97447591270555, 1.0, 21.822588338324643, 11.409960981788895, 3.4033302316852896, 37.50504584054608, 2.152059598558125, 22.865404628237208, 2.1490452658164503, 0.014090343970161625, 0.009635308744301699, 0.06537505180273519, 1874.4901652995957, 0.0, 0.0, 450.35860981006965, 8362.602780536246], \"showlegend\": true, \"subplot\": \"polar\", \"theta\": [\"product_id\", \"product_name\", \"product_price\", \"product_brand\", \"hitSequence\", \"first_session_event\", \"last_session_event\", \"total_price_cart\", \"customerArea\", \"customerVisitorId\", \"customerSessionId\", \"customerSessionNumber\", \"totals_events\", \"newSession\", \"totalSearches\", \"totalViewProducts\", \"totalAddToCarts\", \"totalAddToCartRevenue\", \"totalOrders\", \"totalOrderRevenue\", \"uniqueOrders\", \"event_type_cart\", \"event_type_purchase\", \"event_type_view\", \"timeOnSite\", \"weekend\", \"holiday\", \"total_session\", \"product_id\"], \"type\": \"scatterpolar\"}, {\"hoverlabel\": {\"namelength\": 0}, \"hovertemplate\": \"Cluster_ID=1<br>value=%{r}<br>variable=%{theta}\", \"legendgroup\": \"Cluster_ID=1\", \"line\": {\"color\": \"#EF553B\", \"dash\": \"solid\"}, \"mode\": \"lines\", \"name\": \"Cluster_ID=1\", \"r\": [8415.643541433818, 7578.0098534442295, 13.951102720250509, 887.4923153779532, 17.634240779179308, 0.1483302609360409, 0.10125968288989205, 1.3809916222741083, 0.0, 5413.0232607086355, 6358.309766594574, 1.0, 34.80565393678119, 1.0, 19.854023630847838, 11.593143231774878, 2.9854460298337036, 33.95996736486816, 2.5542991789199676, 27.780926521322876, 2.5423252967161636, 0.014192298201558939, 0.01319558348937241, 0.050411507700346914, 2310.7800877205714, 0.0, 0.0, 413.59792480126185, 8415.643541433818], \"showlegend\": true, \"subplot\": \"polar\", \"theta\": [\"product_id\", \"product_name\", \"product_price\", \"product_brand\", \"hitSequence\", \"first_session_event\", \"last_session_event\", \"total_price_cart\", \"customerArea\", \"customerVisitorId\", \"customerSessionId\", \"customerSessionNumber\", \"totals_events\", \"newSession\", \"totalSearches\", \"totalViewProducts\", \"totalAddToCarts\", \"totalAddToCartRevenue\", \"totalOrders\", \"totalOrderRevenue\", \"uniqueOrders\", \"event_type_cart\", \"event_type_purchase\", \"event_type_view\", \"timeOnSite\", \"weekend\", \"holiday\", \"total_session\", \"product_id\"], \"type\": \"scatterpolar\"}, {\"hoverlabel\": {\"namelength\": 0}, \"hovertemplate\": \"Cluster_ID=2<br>value=%{r}<br>variable=%{theta}\", \"legendgroup\": \"Cluster_ID=2\", \"line\": {\"color\": \"#00cc96\", \"dash\": \"solid\"}, \"mode\": \"lines\", \"name\": \"Cluster_ID=2\", \"r\": [8521.015570840667, 7699.6939718127005, 13.981325518586416, 865.0620336965975, 10.18429101077309, 0.2779865263543344, 0.2338913370034246, 0.5450467083609062, 0.0, 37306.56211067697, 40289.28016694338, 1.0, 19.339566662921676, 1.0, 10.992376862612922, 6.5715480544771365, 1.5783889048397768, 17.175954702255215, 0.8661956300115262, 9.697316921949685, 0.8661540189995881, 0.012691358641150794, 0.006836689261446149, 0.10814702002738004, 1116.0768929889607, 0.0, 0.0, 218.31877364025615, 8521.015570840667], \"showlegend\": true, \"subplot\": \"polar\", \"theta\": [\"product_id\", \"product_name\", \"product_price\", \"product_brand\", \"hitSequence\", \"first_session_event\", \"last_session_event\", \"total_price_cart\", \"customerArea\", \"customerVisitorId\", \"customerSessionId\", \"customerSessionNumber\", \"totals_events\", \"newSession\", \"totalSearches\", \"totalViewProducts\", \"totalAddToCarts\", \"totalAddToCartRevenue\", \"totalOrders\", \"totalOrderRevenue\", \"uniqueOrders\", \"event_type_cart\", \"event_type_purchase\", \"event_type_view\", \"timeOnSite\", \"weekend\", \"holiday\", \"total_session\", \"product_id\"], \"type\": \"scatterpolar\"}],\n",
              "                        {\"height\": 600, \"legend\": {\"tracegroupgap\": 0}, \"margin\": {\"t\": 60}, \"polar\": {\"angularaxis\": {\"direction\": \"clockwise\", \"rotation\": 90}, \"domain\": {\"x\": [0.0, 1.0], \"y\": [0.0, 1.0]}}, \"template\": {\"data\": {\"bar\": [{\"error_x\": {\"color\": \"#2a3f5f\"}, \"error_y\": {\"color\": \"#2a3f5f\"}, \"marker\": {\"line\": {\"color\": \"#E5ECF6\", \"width\": 0.5}}, \"type\": \"bar\"}], \"barpolar\": [{\"marker\": {\"line\": {\"color\": \"#E5ECF6\", \"width\": 0.5}}, \"type\": \"barpolar\"}], \"carpet\": [{\"aaxis\": {\"endlinecolor\": \"#2a3f5f\", \"gridcolor\": \"white\", \"linecolor\": \"white\", \"minorgridcolor\": \"white\", \"startlinecolor\": \"#2a3f5f\"}, \"baxis\": {\"endlinecolor\": \"#2a3f5f\", \"gridcolor\": \"white\", \"linecolor\": \"white\", \"minorgridcolor\": \"white\", \"startlinecolor\": \"#2a3f5f\"}, \"type\": \"carpet\"}], \"choropleth\": [{\"colorbar\": {\"outlinewidth\": 0, \"ticks\": \"\"}, \"type\": \"choropleth\"}], \"contour\": [{\"colorbar\": {\"outlinewidth\": 0, \"ticks\": \"\"}, \"colorscale\": [[0.0, \"#0d0887\"], [0.1111111111111111, \"#46039f\"], [0.2222222222222222, \"#7201a8\"], [0.3333333333333333, \"#9c179e\"], [0.4444444444444444, \"#bd3786\"], [0.5555555555555556, \"#d8576b\"], [0.6666666666666666, \"#ed7953\"], [0.7777777777777778, \"#fb9f3a\"], [0.8888888888888888, \"#fdca26\"], [1.0, \"#f0f921\"]], \"type\": \"contour\"}], \"contourcarpet\": [{\"colorbar\": {\"outlinewidth\": 0, \"ticks\": \"\"}, \"type\": \"contourcarpet\"}], \"heatmap\": [{\"colorbar\": {\"outlinewidth\": 0, \"ticks\": \"\"}, \"colorscale\": [[0.0, \"#0d0887\"], [0.1111111111111111, \"#46039f\"], [0.2222222222222222, \"#7201a8\"], [0.3333333333333333, \"#9c179e\"], [0.4444444444444444, \"#bd3786\"], [0.5555555555555556, \"#d8576b\"], [0.6666666666666666, \"#ed7953\"], [0.7777777777777778, \"#fb9f3a\"], [0.8888888888888888, \"#fdca26\"], [1.0, \"#f0f921\"]], \"type\": \"heatmap\"}], \"heatmapgl\": [{\"colorbar\": {\"outlinewidth\": 0, \"ticks\": \"\"}, \"colorscale\": [[0.0, \"#0d0887\"], [0.1111111111111111, \"#46039f\"], [0.2222222222222222, \"#7201a8\"], [0.3333333333333333, \"#9c179e\"], [0.4444444444444444, \"#bd3786\"], [0.5555555555555556, \"#d8576b\"], [0.6666666666666666, \"#ed7953\"], [0.7777777777777778, \"#fb9f3a\"], [0.8888888888888888, \"#fdca26\"], [1.0, \"#f0f921\"]], \"type\": \"heatmapgl\"}], \"histogram\": [{\"marker\": {\"colorbar\": {\"outlinewidth\": 0, \"ticks\": \"\"}}, \"type\": \"histogram\"}], \"histogram2d\": [{\"colorbar\": {\"outlinewidth\": 0, \"ticks\": \"\"}, \"colorscale\": [[0.0, \"#0d0887\"], [0.1111111111111111, \"#46039f\"], [0.2222222222222222, \"#7201a8\"], [0.3333333333333333, \"#9c179e\"], [0.4444444444444444, \"#bd3786\"], [0.5555555555555556, \"#d8576b\"], [0.6666666666666666, \"#ed7953\"], [0.7777777777777778, \"#fb9f3a\"], [0.8888888888888888, \"#fdca26\"], [1.0, \"#f0f921\"]], \"type\": \"histogram2d\"}], \"histogram2dcontour\": [{\"colorbar\": {\"outlinewidth\": 0, \"ticks\": \"\"}, \"colorscale\": [[0.0, \"#0d0887\"], [0.1111111111111111, \"#46039f\"], [0.2222222222222222, \"#7201a8\"], [0.3333333333333333, \"#9c179e\"], [0.4444444444444444, \"#bd3786\"], [0.5555555555555556, \"#d8576b\"], [0.6666666666666666, \"#ed7953\"], [0.7777777777777778, \"#fb9f3a\"], [0.8888888888888888, \"#fdca26\"], [1.0, \"#f0f921\"]], \"type\": \"histogram2dcontour\"}], \"mesh3d\": [{\"colorbar\": {\"outlinewidth\": 0, \"ticks\": \"\"}, \"type\": \"mesh3d\"}], \"parcoords\": [{\"line\": {\"colorbar\": {\"outlinewidth\": 0, \"ticks\": \"\"}}, \"type\": \"parcoords\"}], \"pie\": [{\"automargin\": true, \"type\": \"pie\"}], \"scatter\": [{\"marker\": {\"colorbar\": {\"outlinewidth\": 0, \"ticks\": \"\"}}, \"type\": \"scatter\"}], \"scatter3d\": [{\"line\": {\"colorbar\": {\"outlinewidth\": 0, \"ticks\": \"\"}}, \"marker\": {\"colorbar\": {\"outlinewidth\": 0, \"ticks\": \"\"}}, \"type\": \"scatter3d\"}], \"scattercarpet\": [{\"marker\": {\"colorbar\": {\"outlinewidth\": 0, \"ticks\": \"\"}}, \"type\": \"scattercarpet\"}], \"scattergeo\": [{\"marker\": {\"colorbar\": {\"outlinewidth\": 0, \"ticks\": \"\"}}, \"type\": \"scattergeo\"}], \"scattergl\": [{\"marker\": {\"colorbar\": {\"outlinewidth\": 0, \"ticks\": \"\"}}, \"type\": \"scattergl\"}], \"scattermapbox\": [{\"marker\": {\"colorbar\": {\"outlinewidth\": 0, \"ticks\": \"\"}}, \"type\": \"scattermapbox\"}], \"scatterpolar\": [{\"marker\": {\"colorbar\": {\"outlinewidth\": 0, \"ticks\": \"\"}}, \"type\": \"scatterpolar\"}], \"scatterpolargl\": [{\"marker\": {\"colorbar\": {\"outlinewidth\": 0, \"ticks\": \"\"}}, \"type\": \"scatterpolargl\"}], \"scatterternary\": [{\"marker\": {\"colorbar\": {\"outlinewidth\": 0, \"ticks\": \"\"}}, \"type\": \"scatterternary\"}], \"surface\": [{\"colorbar\": {\"outlinewidth\": 0, \"ticks\": \"\"}, \"colorscale\": [[0.0, \"#0d0887\"], [0.1111111111111111, \"#46039f\"], [0.2222222222222222, \"#7201a8\"], [0.3333333333333333, \"#9c179e\"], [0.4444444444444444, \"#bd3786\"], [0.5555555555555556, \"#d8576b\"], [0.6666666666666666, \"#ed7953\"], [0.7777777777777778, \"#fb9f3a\"], [0.8888888888888888, \"#fdca26\"], [1.0, \"#f0f921\"]], \"type\": \"surface\"}], \"table\": [{\"cells\": {\"fill\": {\"color\": \"#EBF0F8\"}, \"line\": {\"color\": \"white\"}}, \"header\": {\"fill\": {\"color\": \"#C8D4E3\"}, \"line\": {\"color\": \"white\"}}, \"type\": \"table\"}]}, \"layout\": {\"annotationdefaults\": {\"arrowcolor\": \"#2a3f5f\", \"arrowhead\": 0, \"arrowwidth\": 1}, \"coloraxis\": {\"colorbar\": {\"outlinewidth\": 0, \"ticks\": \"\"}}, \"colorscale\": {\"diverging\": [[0, \"#8e0152\"], [0.1, \"#c51b7d\"], [0.2, \"#de77ae\"], [0.3, \"#f1b6da\"], [0.4, \"#fde0ef\"], [0.5, \"#f7f7f7\"], [0.6, \"#e6f5d0\"], [0.7, \"#b8e186\"], [0.8, \"#7fbc41\"], [0.9, \"#4d9221\"], [1, \"#276419\"]], \"sequential\": [[0.0, \"#0d0887\"], [0.1111111111111111, \"#46039f\"], [0.2222222222222222, \"#7201a8\"], [0.3333333333333333, \"#9c179e\"], [0.4444444444444444, \"#bd3786\"], [0.5555555555555556, \"#d8576b\"], [0.6666666666666666, \"#ed7953\"], [0.7777777777777778, \"#fb9f3a\"], [0.8888888888888888, \"#fdca26\"], [1.0, \"#f0f921\"]], \"sequentialminus\": [[0.0, \"#0d0887\"], [0.1111111111111111, \"#46039f\"], [0.2222222222222222, \"#7201a8\"], [0.3333333333333333, \"#9c179e\"], [0.4444444444444444, \"#bd3786\"], [0.5555555555555556, \"#d8576b\"], [0.6666666666666666, \"#ed7953\"], [0.7777777777777778, \"#fb9f3a\"], [0.8888888888888888, \"#fdca26\"], [1.0, \"#f0f921\"]]}, \"colorway\": [\"#636efa\", \"#EF553B\", \"#00cc96\", \"#ab63fa\", \"#FFA15A\", \"#19d3f3\", \"#FF6692\", \"#B6E880\", \"#FF97FF\", \"#FECB52\"], \"font\": {\"color\": \"#2a3f5f\"}, \"geo\": {\"bgcolor\": \"white\", \"lakecolor\": \"white\", \"landcolor\": \"#E5ECF6\", \"showlakes\": true, \"showland\": true, \"subunitcolor\": \"white\"}, \"hoverlabel\": {\"align\": \"left\"}, \"hovermode\": \"closest\", \"mapbox\": {\"style\": \"light\"}, \"paper_bgcolor\": \"white\", \"plot_bgcolor\": \"#E5ECF6\", \"polar\": {\"angularaxis\": {\"gridcolor\": \"white\", \"linecolor\": \"white\", \"ticks\": \"\"}, \"bgcolor\": \"#E5ECF6\", \"radialaxis\": {\"gridcolor\": \"white\", \"linecolor\": \"white\", \"ticks\": \"\"}}, \"scene\": {\"xaxis\": {\"backgroundcolor\": \"#E5ECF6\", \"gridcolor\": \"white\", \"gridwidth\": 2, \"linecolor\": \"white\", \"showbackground\": true, \"ticks\": \"\", \"zerolinecolor\": \"white\"}, \"yaxis\": {\"backgroundcolor\": \"#E5ECF6\", \"gridcolor\": \"white\", \"gridwidth\": 2, \"linecolor\": \"white\", \"showbackground\": true, \"ticks\": \"\", \"zerolinecolor\": \"white\"}, \"zaxis\": {\"backgroundcolor\": \"#E5ECF6\", \"gridcolor\": \"white\", \"gridwidth\": 2, \"linecolor\": \"white\", \"showbackground\": true, \"ticks\": \"\", \"zerolinecolor\": \"white\"}}, \"shapedefaults\": {\"line\": {\"color\": \"#2a3f5f\"}}, \"ternary\": {\"aaxis\": {\"gridcolor\": \"white\", \"linecolor\": \"white\", \"ticks\": \"\"}, \"baxis\": {\"gridcolor\": \"white\", \"linecolor\": \"white\", \"ticks\": \"\"}, \"bgcolor\": \"#E5ECF6\", \"caxis\": {\"gridcolor\": \"white\", \"linecolor\": \"white\", \"ticks\": \"\"}}, \"title\": {\"x\": 0.05}, \"xaxis\": {\"automargin\": true, \"gridcolor\": \"white\", \"linecolor\": \"white\", \"ticks\": \"\", \"title\": {\"standoff\": 15}, \"zerolinecolor\": \"white\", \"zerolinewidth\": 2}, \"yaxis\": {\"automargin\": true, \"gridcolor\": \"white\", \"linecolor\": \"white\", \"ticks\": \"\", \"title\": {\"standoff\": 15}, \"zerolinecolor\": \"white\", \"zerolinewidth\": 2}}}, \"width\": 1000},\n",
              "                        {\"responsive\": true}\n",
              "                    ).then(function(){\n",
              "                            \n",
              "var gd = document.getElementById('80788779-da82-42d9-bcaf-09d05534e528');\n",
              "var x = new MutationObserver(function (mutations, observer) {{\n",
              "        var display = window.getComputedStyle(gd).display;\n",
              "        if (!display || display === 'none') {{\n",
              "            console.log([gd, 'removed!']);\n",
              "            Plotly.purge(gd);\n",
              "            observer.disconnect();\n",
              "        }}\n",
              "}});\n",
              "\n",
              "// Listen for the removal of the full notebook cells\n",
              "var notebookContainer = gd.closest('#notebook-container');\n",
              "if (notebookContainer) {{\n",
              "    x.observe(notebookContainer, {childList: true});\n",
              "}}\n",
              "\n",
              "// Listen for the clearing of the current output cell\n",
              "var outputEl = gd.closest('.output');\n",
              "if (outputEl) {{\n",
              "    x.observe(outputEl, {childList: true});\n",
              "}}\n",
              "\n",
              "                        })\n",
              "                };\n",
              "                \n",
              "            </script>\n",
              "        </div>\n",
              "</body>\n",
              "</html>"
            ]
          },
          "metadata": {}
        }
      ]
    },
    {
      "cell_type": "markdown",
      "metadata": {
        "id": "5P8-v_9wXD4H"
      },
      "source": [
        "##### Cluster Analysis: Size and Purchase Ratio"
      ]
    },
    {
      "cell_type": "code",
      "metadata": {
        "id": "DB9A1OYfngC_"
      },
      "source": [
        "column_values = data_clusters['Cluster_ID']"
      ],
      "execution_count": null,
      "outputs": []
    },
    {
      "cell_type": "code",
      "metadata": {
        "colab": {
          "base_uri": "https://localhost:8080/"
        },
        "id": "hssCsc33WPfr",
        "outputId": "a1264d9b-4fc2-43c5-d5c3-9a040faa9a84"
      },
      "source": [
        "# get all the values in the 'ClusterID' column\n",
        "column_values = data_clusters['Cluster_ID']\n",
        "# complute the unique cluster ID values\n",
        "unique_values_a = pd.unique(column_values)\n",
        "# sort the unique cluster ID values\n",
        "unique_values =  np.sort(unique_values_a)\n",
        "print(unique_values)"
      ],
      "execution_count": null,
      "outputs": [
        {
          "output_type": "stream",
          "name": "stdout",
          "text": [
            "[0 1 2]\n"
          ]
        }
      ]
    },
    {
      "cell_type": "code",
      "metadata": {
        "colab": {
          "base_uri": "https://localhost:8080/",
          "height": 159
        },
        "id": "MG-wFbtcXGze",
        "outputId": "4362504e-8f6d-4031-c549-0272cace1889"
      },
      "source": [
        "#create empty dataframe to store cluster stats (ie: purchase percentate and representation percentage)\n",
        "temp_df_clusters = pd.DataFrame(columns = ['Cluster_ID', 'Representation_Percentage','Purchase_Percentage'])\n",
        "\n",
        "# get total purchase\n",
        "total_purchase = len(data_clusters[data_clusters['event_type_purchase'] == 1].index)\n",
        "\n",
        "# loop through the clusters, percentages, and append dataframe\n",
        "for index, item in enumerate(unique_values):\n",
        "    temp_df = data_clusters.loc[data_clusters['Cluster_ID'] == item]\n",
        "    locations = temp_df.shape[0]\n",
        "    purchase = temp_df.loc[temp_df['event_type_purchase'] == 1].shape[0]\n",
        "    representation_percentage = round((locations / data_clusters.shape[0]) * 100, 2)\n",
        "    purchase_percentage = round((purchase/locations) * 100, 2)\n",
        "    temp_df_clusters = temp_df_clusters.append({'Cluster_ID': item,  'Representation_Percentage':representation_percentage,\n",
        "                                     'Purchase_Percentage':  purchase_percentage}, ignore_index= True)\n",
        "\n",
        "df_cluster_stats = temp_df_clusters\n",
        "overall_purchase_ratio = round(total_purchase/data_clusters.shape[0],2)\n",
        "\n",
        "print('Overall Purchase Ratio: ' +  str(overall_purchase_ratio))\n",
        "df_cluster_stats"
      ],
      "execution_count": null,
      "outputs": [
        {
          "output_type": "stream",
          "name": "stdout",
          "text": [
            "Overall Purchase Ratio: 0.01\n"
          ]
        },
        {
          "output_type": "execute_result",
          "data": {
            "text/html": [
              "<div>\n",
              "<style scoped>\n",
              "    .dataframe tbody tr th:only-of-type {\n",
              "        vertical-align: middle;\n",
              "    }\n",
              "\n",
              "    .dataframe tbody tr th {\n",
              "        vertical-align: top;\n",
              "    }\n",
              "\n",
              "    .dataframe thead th {\n",
              "        text-align: right;\n",
              "    }\n",
              "</style>\n",
              "<table border=\"1\" class=\"dataframe\">\n",
              "  <thead>\n",
              "    <tr style=\"text-align: right;\">\n",
              "      <th></th>\n",
              "      <th>Cluster_ID</th>\n",
              "      <th>Representation_Percentage</th>\n",
              "      <th>Purchase_Percentage</th>\n",
              "    </tr>\n",
              "  </thead>\n",
              "  <tbody>\n",
              "    <tr>\n",
              "      <th>0</th>\n",
              "      <td>0.0</td>\n",
              "      <td>32.41</td>\n",
              "      <td>0.96</td>\n",
              "    </tr>\n",
              "    <tr>\n",
              "      <th>1</th>\n",
              "      <td>1.0</td>\n",
              "      <td>52.37</td>\n",
              "      <td>1.32</td>\n",
              "    </tr>\n",
              "    <tr>\n",
              "      <th>2</th>\n",
              "      <td>2.0</td>\n",
              "      <td>15.22</td>\n",
              "      <td>0.68</td>\n",
              "    </tr>\n",
              "  </tbody>\n",
              "</table>\n",
              "</div>"
            ],
            "text/plain": [
              "   Cluster_ID  Representation_Percentage  Purchase_Percentage\n",
              "0         0.0                      32.41                 0.96\n",
              "1         1.0                      52.37                 1.32\n",
              "2         2.0                      15.22                 0.68"
            ]
          },
          "metadata": {},
          "execution_count": 31
        }
      ]
    },
    {
      "cell_type": "markdown",
      "metadata": {
        "id": "vQcBOYxoGR4m"
      },
      "source": [
        "### Determine Classification"
      ]
    },
    {
      "cell_type": "code",
      "metadata": {
        "id": "usRlQrHkUqoe"
      },
      "source": [
        "drop_cols_3 = ['customerArea', 'product_id', 'product_name','first_session_event', 'last_session_event',\n",
        "             'customerId', 'customerArea', 'customerVisitorId','customerLoginId', 'customerSessionId', 'hits.eventType.category_search',\n",
        "             'event_year', 'event_month', 'event_day_of_week', 'event_day_of_month','event_day_of_year', 'event_hour', 'event_minute', 'event_second','event_micorsecond', 'weekend', 'holiday',\n",
        "             'newSession','totalNavigations', 'totalRefinements', 'totalViewProductRevenue', 'totalNullSearches', 'hitSequence', ]"
      ],
      "execution_count": null,
      "outputs": []
    },
    {
      "cell_type": "code",
      "metadata": {
        "id": "nYI08905WT7r"
      },
      "source": [
        "json_piv_3 = data_clusters.drop(columns=drop_cols_3)"
      ],
      "execution_count": null,
      "outputs": []
    },
    {
      "cell_type": "code",
      "metadata": {
        "id": "vfToxE61OSXX"
      },
      "source": [
        "pivot_3 = json_piv_3.pivot_table(json_piv_3, columns = ['Cluster_ID'])"
      ],
      "execution_count": null,
      "outputs": []
    },
    {
      "cell_type": "code",
      "metadata": {
        "colab": {
          "base_uri": "https://localhost:8080/",
          "height": 731
        },
        "id": "LaXkWzulTzgS",
        "outputId": "68156b53-3b2e-45b8-a5e7-bcad34491493"
      },
      "source": [
        "pivot_3"
      ],
      "execution_count": null,
      "outputs": [
        {
          "output_type": "execute_result",
          "data": {
            "text/html": [
              "<div>\n",
              "<style scoped>\n",
              "    .dataframe tbody tr th:only-of-type {\n",
              "        vertical-align: middle;\n",
              "    }\n",
              "\n",
              "    .dataframe tbody tr th {\n",
              "        vertical-align: top;\n",
              "    }\n",
              "\n",
              "    .dataframe thead th {\n",
              "        text-align: right;\n",
              "    }\n",
              "</style>\n",
              "<table border=\"1\" class=\"dataframe\">\n",
              "  <thead>\n",
              "    <tr style=\"text-align: right;\">\n",
              "      <th>Cluster_ID</th>\n",
              "      <th>0</th>\n",
              "      <th>1</th>\n",
              "      <th>2</th>\n",
              "    </tr>\n",
              "  </thead>\n",
              "  <tbody>\n",
              "    <tr>\n",
              "      <th>bounce</th>\n",
              "      <td>0.068864</td>\n",
              "      <td>0.040744</td>\n",
              "      <td>0.139255</td>\n",
              "    </tr>\n",
              "    <tr>\n",
              "      <th>customerSessionNumber</th>\n",
              "      <td>1.000000</td>\n",
              "      <td>1.000000</td>\n",
              "      <td>1.000000</td>\n",
              "    </tr>\n",
              "    <tr>\n",
              "      <th>event_type_cart</th>\n",
              "      <td>0.014090</td>\n",
              "      <td>0.014192</td>\n",
              "      <td>0.012691</td>\n",
              "    </tr>\n",
              "    <tr>\n",
              "      <th>event_type_purchase</th>\n",
              "      <td>0.009635</td>\n",
              "      <td>0.013196</td>\n",
              "      <td>0.006837</td>\n",
              "    </tr>\n",
              "    <tr>\n",
              "      <th>event_type_view</th>\n",
              "      <td>0.065375</td>\n",
              "      <td>0.050412</td>\n",
              "      <td>0.108147</td>\n",
              "    </tr>\n",
              "    <tr>\n",
              "      <th>product_brand</th>\n",
              "      <td>881.806920</td>\n",
              "      <td>887.492315</td>\n",
              "      <td>865.062034</td>\n",
              "    </tr>\n",
              "    <tr>\n",
              "      <th>product_price</th>\n",
              "      <td>13.841599</td>\n",
              "      <td>13.951103</td>\n",
              "      <td>13.981326</td>\n",
              "    </tr>\n",
              "    <tr>\n",
              "      <th>timeOnSite</th>\n",
              "      <td>1874.490165</td>\n",
              "      <td>2310.780088</td>\n",
              "      <td>1116.076893</td>\n",
              "    </tr>\n",
              "    <tr>\n",
              "      <th>totalAddToCartQty</th>\n",
              "      <td>4.423832</td>\n",
              "      <td>4.308630</td>\n",
              "      <td>2.203956</td>\n",
              "    </tr>\n",
              "    <tr>\n",
              "      <th>totalAddToCartRevenue</th>\n",
              "      <td>37.505046</td>\n",
              "      <td>33.959967</td>\n",
              "      <td>17.175955</td>\n",
              "    </tr>\n",
              "    <tr>\n",
              "      <th>totalAddToCarts</th>\n",
              "      <td>3.403330</td>\n",
              "      <td>2.985446</td>\n",
              "      <td>1.578389</td>\n",
              "    </tr>\n",
              "    <tr>\n",
              "      <th>totalOrderQty</th>\n",
              "      <td>3.397468</td>\n",
              "      <td>4.240600</td>\n",
              "      <td>1.245859</td>\n",
              "    </tr>\n",
              "    <tr>\n",
              "      <th>totalOrderRevenue</th>\n",
              "      <td>22.865405</td>\n",
              "      <td>27.780927</td>\n",
              "      <td>9.697317</td>\n",
              "    </tr>\n",
              "    <tr>\n",
              "      <th>totalOrders</th>\n",
              "      <td>2.152060</td>\n",
              "      <td>2.554299</td>\n",
              "      <td>0.866196</td>\n",
              "    </tr>\n",
              "    <tr>\n",
              "      <th>totalSearches</th>\n",
              "      <td>21.822588</td>\n",
              "      <td>19.854024</td>\n",
              "      <td>10.992377</td>\n",
              "    </tr>\n",
              "    <tr>\n",
              "      <th>totalViewProducts</th>\n",
              "      <td>11.409961</td>\n",
              "      <td>11.593143</td>\n",
              "      <td>6.571548</td>\n",
              "    </tr>\n",
              "    <tr>\n",
              "      <th>total_price_cart</th>\n",
              "      <td>0.997665</td>\n",
              "      <td>1.380992</td>\n",
              "      <td>0.545047</td>\n",
              "    </tr>\n",
              "    <tr>\n",
              "      <th>total_session</th>\n",
              "      <td>450.358610</td>\n",
              "      <td>413.597925</td>\n",
              "      <td>218.318774</td>\n",
              "    </tr>\n",
              "    <tr>\n",
              "      <th>totals_events</th>\n",
              "      <td>36.974476</td>\n",
              "      <td>34.805654</td>\n",
              "      <td>19.339567</td>\n",
              "    </tr>\n",
              "    <tr>\n",
              "      <th>uniqueAddToCarts</th>\n",
              "      <td>3.020117</td>\n",
              "      <td>2.677581</td>\n",
              "      <td>1.395305</td>\n",
              "    </tr>\n",
              "    <tr>\n",
              "      <th>uniqueOrders</th>\n",
              "      <td>2.149045</td>\n",
              "      <td>2.542325</td>\n",
              "      <td>0.866154</td>\n",
              "    </tr>\n",
              "    <tr>\n",
              "      <th>uniqueViewProducts</th>\n",
              "      <td>7.179998</td>\n",
              "      <td>7.536628</td>\n",
              "      <td>4.299429</td>\n",
              "    </tr>\n",
              "  </tbody>\n",
              "</table>\n",
              "</div>"
            ],
            "text/plain": [
              "Cluster_ID                       0            1            2\n",
              "bounce                    0.068864     0.040744     0.139255\n",
              "customerSessionNumber     1.000000     1.000000     1.000000\n",
              "event_type_cart           0.014090     0.014192     0.012691\n",
              "event_type_purchase       0.009635     0.013196     0.006837\n",
              "event_type_view           0.065375     0.050412     0.108147\n",
              "product_brand           881.806920   887.492315   865.062034\n",
              "product_price            13.841599    13.951103    13.981326\n",
              "timeOnSite             1874.490165  2310.780088  1116.076893\n",
              "totalAddToCartQty         4.423832     4.308630     2.203956\n",
              "totalAddToCartRevenue    37.505046    33.959967    17.175955\n",
              "totalAddToCarts           3.403330     2.985446     1.578389\n",
              "totalOrderQty             3.397468     4.240600     1.245859\n",
              "totalOrderRevenue        22.865405    27.780927     9.697317\n",
              "totalOrders               2.152060     2.554299     0.866196\n",
              "totalSearches            21.822588    19.854024    10.992377\n",
              "totalViewProducts        11.409961    11.593143     6.571548\n",
              "total_price_cart          0.997665     1.380992     0.545047\n",
              "total_session           450.358610   413.597925   218.318774\n",
              "totals_events            36.974476    34.805654    19.339567\n",
              "uniqueAddToCarts          3.020117     2.677581     1.395305\n",
              "uniqueOrders              2.149045     2.542325     0.866154\n",
              "uniqueViewProducts        7.179998     7.536628     4.299429"
            ]
          },
          "metadata": {},
          "execution_count": 38
        }
      ]
    },
    {
      "cell_type": "code",
      "metadata": {
        "id": "ZYBSdH7LX1Up",
        "colab": {
          "base_uri": "https://localhost:8080/"
        },
        "outputId": "61d38c8c-6853-4708-e853-b15c9ea37af8"
      },
      "source": [
        "cl0 = data_clusters[data_clusters['Cluster_ID']==0].drop_duplicates(subset='customerVisitorId', keep=\"last\")\n",
        "session_avg0 = cl0['total_session'].sum()/len(cl0['customerVisitorId'].unique()) \n",
        "session_avg0"
      ],
      "execution_count": null,
      "outputs": [
        {
          "output_type": "execute_result",
          "data": {
            "text/plain": [
              "31.855088702147526"
            ]
          },
          "metadata": {},
          "execution_count": 42
        }
      ]
    },
    {
      "cell_type": "code",
      "metadata": {
        "colab": {
          "base_uri": "https://localhost:8080/"
        },
        "id": "jlmabOuPp7AF",
        "outputId": "8a68bd43-c291-493e-aad5-b195ddb471dd"
      },
      "source": [
        "cl1 = data_clusters[data_clusters['Cluster_ID']==1].drop_duplicates(subset='customerVisitorId', keep=\"last\")\n",
        "session_avg1 = cl1['total_session'].sum()/len(cl1['customerVisitorId'].unique())\n",
        "session_avg1"
      ],
      "execution_count": null,
      "outputs": [
        {
          "output_type": "execute_result",
          "data": {
            "text/plain": [
              "71.0741791301358"
            ]
          },
          "metadata": {},
          "execution_count": 43
        }
      ]
    },
    {
      "cell_type": "code",
      "metadata": {
        "colab": {
          "base_uri": "https://localhost:8080/"
        },
        "id": "_bef_1R-p7nw",
        "outputId": "e572bf3a-4b82-4a18-b3f6-fefc60389db6"
      },
      "source": [
        "cl2 = data_clusters[data_clusters['Cluster_ID']==2].drop_duplicates(subset='customerVisitorId', keep=\"last\")\n",
        "session_avg2 = cl2['total_session'].sum()/len(cl2['customerVisitorId'].unique())\n",
        "session_avg2"
      ],
      "execution_count": null,
      "outputs": [
        {
          "output_type": "execute_result",
          "data": {
            "text/plain": [
              "14.244922129448689"
            ]
          },
          "metadata": {},
          "execution_count": 44
        }
      ]
    },
    {
      "cell_type": "markdown",
      "metadata": {
        "id": "dUwsMj9SbSny"
      },
      "source": [
        "# Final Flask Dataset"
      ]
    },
    {
      "cell_type": "code",
      "metadata": {
        "id": "28KFw6QDnRVu"
      },
      "source": [
        "# add original customer visitor back to data set\n",
        "data_clusters['CustomerId'] = original_cust_id"
      ],
      "execution_count": null,
      "outputs": []
    },
    {
      "cell_type": "code",
      "metadata": {
        "id": "Utt8wC82aIVB"
      },
      "source": [
        "#create dictionary with Customer Class and Cluster_ID\n",
        "class_cluster_dict = {0:'Intentional Shopper', 1 : 'Educated Perusing Shopper', 2:'New Shopper'}\n",
        "\n",
        "#execute dictionary mapping reference\n",
        "data_clusters ['Class'] = np.nan\n",
        "data_clusters.Class= data_clusters.Class.fillna(data_clusters.Cluster_ID.map(class_cluster_dict))"
      ],
      "execution_count": null,
      "outputs": []
    },
    {
      "cell_type": "code",
      "metadata": {
        "id": "J0nytQ5jIc_h"
      },
      "source": [
        "# Load final dataset \n",
        "flask_dataset = pd.read_csv('Copy of groupby_data_flask_final.csv')\n",
        "flask_dataset['Class'] = np.nan"
      ],
      "execution_count": null,
      "outputs": []
    },
    {
      "cell_type": "code",
      "metadata": {
        "colab": {
          "base_uri": "https://localhost:8080/",
          "height": 204
        },
        "id": "0OIc5_1ol0_F",
        "outputId": "4eb4df88-8a6c-46bb-de5a-d70c71d6a095"
      },
      "source": [
        "#preview dataset\n",
        "flask_dataset.head()"
      ],
      "execution_count": null,
      "outputs": [
        {
          "output_type": "execute_result",
          "data": {
            "text/html": [
              "<div>\n",
              "<style scoped>\n",
              "    .dataframe tbody tr th:only-of-type {\n",
              "        vertical-align: middle;\n",
              "    }\n",
              "\n",
              "    .dataframe tbody tr th {\n",
              "        vertical-align: top;\n",
              "    }\n",
              "\n",
              "    .dataframe thead th {\n",
              "        text-align: right;\n",
              "    }\n",
              "</style>\n",
              "<table border=\"1\" class=\"dataframe\">\n",
              "  <thead>\n",
              "    <tr style=\"text-align: right;\">\n",
              "      <th></th>\n",
              "      <th>CustomerId</th>\n",
              "      <th>ProductId</th>\n",
              "      <th>ProductName</th>\n",
              "      <th>purchase_probability</th>\n",
              "      <th>event_type_purchase</th>\n",
              "      <th>Class</th>\n",
              "    </tr>\n",
              "  </thead>\n",
              "  <tbody>\n",
              "    <tr>\n",
              "      <th>0</th>\n",
              "      <td>cki6s4tr200013bdpkaye9mdn</td>\n",
              "      <td>BR013</td>\n",
              "      <td>nutritional yeast seasoning</td>\n",
              "      <td>0.999981</td>\n",
              "      <td>0</td>\n",
              "      <td>NaN</td>\n",
              "    </tr>\n",
              "    <tr>\n",
              "      <th>1</th>\n",
              "      <td>cki6rrijb000125c5cdol7ahd</td>\n",
              "      <td>DRB004</td>\n",
              "      <td>pure castile bar soap peppermint</td>\n",
              "      <td>0.999977</td>\n",
              "      <td>0</td>\n",
              "      <td>NaN</td>\n",
              "    </tr>\n",
              "    <tr>\n",
              "      <th>2</th>\n",
              "      <td>cki6uboil00013he8jwwj434w</td>\n",
              "      <td>SUS022</td>\n",
              "      <td>100% daily value multi-vitamin</td>\n",
              "      <td>0.999969</td>\n",
              "      <td>0</td>\n",
              "      <td>NaN</td>\n",
              "    </tr>\n",
              "    <tr>\n",
              "      <th>3</th>\n",
              "      <td>cki6vcrm500013vcysh1hk38z</td>\n",
              "      <td>NLS002</td>\n",
              "      <td>natural elderberry concentrate blend</td>\n",
              "      <td>0.999994</td>\n",
              "      <td>0</td>\n",
              "      <td>NaN</td>\n",
              "    </tr>\n",
              "    <tr>\n",
              "      <th>4</th>\n",
              "      <td>cki6vggk900013xe68nl4dao3</td>\n",
              "      <td>MOM002</td>\n",
              "      <td>organic hair remover with tea tree refill jar</td>\n",
              "      <td>0.999995</td>\n",
              "      <td>0</td>\n",
              "      <td>NaN</td>\n",
              "    </tr>\n",
              "  </tbody>\n",
              "</table>\n",
              "</div>"
            ],
            "text/plain": [
              "                  CustomerId ProductId  ... event_type_purchase  Class\n",
              "0  cki6s4tr200013bdpkaye9mdn     BR013  ...                   0    NaN\n",
              "1  cki6rrijb000125c5cdol7ahd    DRB004  ...                   0    NaN\n",
              "2  cki6uboil00013he8jwwj434w    SUS022  ...                   0    NaN\n",
              "3  cki6vcrm500013vcysh1hk38z    NLS002  ...                   0    NaN\n",
              "4  cki6vggk900013xe68nl4dao3    MOM002  ...                   0    NaN\n",
              "\n",
              "[5 rows x 6 columns]"
            ]
          },
          "metadata": {},
          "execution_count": 109
        }
      ]
    },
    {
      "cell_type": "code",
      "metadata": {
        "id": "RZVJJ9_tY7XB"
      },
      "source": [
        "#create dataframe with unique rows defined as customer_visitor id and customer classification\n",
        "df_clusters_unique = data_clusters.drop_duplicates(subset='customerVisitorId', keep=\"first\")\n",
        "\n",
        "#create dictionary from dataframe\n",
        "class_dict = pd.Series(df_clusters_unique.Class.values, index= df_clusters_unique.CustomerId).to_dict()\n",
        "\n",
        "#execute dictionary mapping reference\n",
        "flask_dataset.Class= flask_dataset.Class.fillna(flask_dataset.CustomerId.map(class_dict))"
      ],
      "execution_count": null,
      "outputs": []
    },
    {
      "cell_type": "code",
      "metadata": {
        "colab": {
          "base_uri": "https://localhost:8080/"
        },
        "id": "7CpFvw_Bm7x8",
        "outputId": "b8d60e1b-8fbc-4c6e-e36d-ad0be4189158"
      },
      "source": [
        "flask_dataset.Class.unique()"
      ],
      "execution_count": null,
      "outputs": [
        {
          "output_type": "execute_result",
          "data": {
            "text/plain": [
              "array(['Intentional Shopper', 'Educated Perusing Shopper', 'New Shopper',\n",
              "       nan], dtype=object)"
            ]
          },
          "metadata": {},
          "execution_count": 111
        }
      ]
    },
    {
      "cell_type": "code",
      "metadata": {
        "colab": {
          "base_uri": "https://localhost:8080/",
          "height": 204
        },
        "id": "PWBX2WwzmQnR",
        "outputId": "fe794e9d-2b42-42b8-febb-5ca177b7e270"
      },
      "source": [
        "#final data check\n",
        "flask_dataset.tail()"
      ],
      "execution_count": null,
      "outputs": [
        {
          "output_type": "execute_result",
          "data": {
            "text/html": [
              "<div>\n",
              "<style scoped>\n",
              "    .dataframe tbody tr th:only-of-type {\n",
              "        vertical-align: middle;\n",
              "    }\n",
              "\n",
              "    .dataframe tbody tr th {\n",
              "        vertical-align: top;\n",
              "    }\n",
              "\n",
              "    .dataframe thead th {\n",
              "        text-align: right;\n",
              "    }\n",
              "</style>\n",
              "<table border=\"1\" class=\"dataframe\">\n",
              "  <thead>\n",
              "    <tr style=\"text-align: right;\">\n",
              "      <th></th>\n",
              "      <th>CustomerId</th>\n",
              "      <th>ProductId</th>\n",
              "      <th>ProductName</th>\n",
              "      <th>purchase_probability</th>\n",
              "      <th>event_type_purchase</th>\n",
              "      <th>Class</th>\n",
              "    </tr>\n",
              "  </thead>\n",
              "  <tbody>\n",
              "    <tr>\n",
              "      <th>1578804</th>\n",
              "      <td>cki7kjoqd00013ge7o1kymd4y</td>\n",
              "      <td>NCR001</td>\n",
              "      <td>20 ct</td>\n",
              "      <td>6.535078e-07</td>\n",
              "      <td>1</td>\n",
              "      <td>New Shopper</td>\n",
              "    </tr>\n",
              "    <tr>\n",
              "      <th>1578805</th>\n",
              "      <td>cki14ghhf00013hcy0lh3chtq</td>\n",
              "      <td>XL059</td>\n",
              "      <td>16 fl oz liquid</td>\n",
              "      <td>1.455247e-04</td>\n",
              "      <td>1</td>\n",
              "      <td>Intentional Shopper</td>\n",
              "    </tr>\n",
              "    <tr>\n",
              "      <th>1578806</th>\n",
              "      <td>cki4udb7y00012c9tudpao7c8</td>\n",
              "      <td>SW035</td>\n",
              "      <td>800 mcg 250 caps</td>\n",
              "      <td>2.626375e-06</td>\n",
              "      <td>1</td>\n",
              "      <td>NaN</td>\n",
              "    </tr>\n",
              "    <tr>\n",
              "      <th>1578807</th>\n",
              "      <td>cki6aun0n00013e9pficr65sf</td>\n",
              "      <td>MGF035</td>\n",
              "      <td>60 tabs</td>\n",
              "      <td>3.057858e-06</td>\n",
              "      <td>1</td>\n",
              "      <td>Educated Perusing Shopper</td>\n",
              "    </tr>\n",
              "    <tr>\n",
              "      <th>1578808</th>\n",
              "      <td>cki6aun0n00013e9pficr65sf</td>\n",
              "      <td>GLF286</td>\n",
              "      <td>30 mg 30 sgels</td>\n",
              "      <td>6.232615e-07</td>\n",
              "      <td>1</td>\n",
              "      <td>Educated Perusing Shopper</td>\n",
              "    </tr>\n",
              "  </tbody>\n",
              "</table>\n",
              "</div>"
            ],
            "text/plain": [
              "                        CustomerId  ...                      Class\n",
              "1578804  cki7kjoqd00013ge7o1kymd4y  ...                New Shopper\n",
              "1578805  cki14ghhf00013hcy0lh3chtq  ...        Intentional Shopper\n",
              "1578806  cki4udb7y00012c9tudpao7c8  ...                        NaN\n",
              "1578807  cki6aun0n00013e9pficr65sf  ...  Educated Perusing Shopper\n",
              "1578808  cki6aun0n00013e9pficr65sf  ...  Educated Perusing Shopper\n",
              "\n",
              "[5 rows x 6 columns]"
            ]
          },
          "metadata": {},
          "execution_count": 112
        }
      ]
    },
    {
      "cell_type": "code",
      "metadata": {
        "colab": {
          "base_uri": "https://localhost:8080/",
          "height": 204
        },
        "id": "BR766fa0rpHx",
        "outputId": "e05e23a0-d838-4a02-b5a3-c32805966c8a"
      },
      "source": [
        "new_shopper_filter  = flask_dataset[flask_dataset['Class'] == 'New Shopper']\n",
        "df_new_shopper = new_shopper_filter[new_shopper_filter['purchase_probability'] < 0.4]\n",
        "df_new_shopper.head()"
      ],
      "execution_count": null,
      "outputs": [
        {
          "output_type": "execute_result",
          "data": {
            "text/html": [
              "<div>\n",
              "<style scoped>\n",
              "    .dataframe tbody tr th:only-of-type {\n",
              "        vertical-align: middle;\n",
              "    }\n",
              "\n",
              "    .dataframe tbody tr th {\n",
              "        vertical-align: top;\n",
              "    }\n",
              "\n",
              "    .dataframe thead th {\n",
              "        text-align: right;\n",
              "    }\n",
              "</style>\n",
              "<table border=\"1\" class=\"dataframe\">\n",
              "  <thead>\n",
              "    <tr style=\"text-align: right;\">\n",
              "      <th></th>\n",
              "      <th>CustomerId</th>\n",
              "      <th>ProductId</th>\n",
              "      <th>ProductName</th>\n",
              "      <th>purchase_probability</th>\n",
              "      <th>event_type_purchase</th>\n",
              "      <th>Class</th>\n",
              "    </tr>\n",
              "  </thead>\n",
              "  <tbody>\n",
              "    <tr>\n",
              "      <th>2867</th>\n",
              "      <td>ckhzaa5ju00013m8v3oiunar0</td>\n",
              "      <td>NWF302</td>\n",
              "      <td>dmg</td>\n",
              "      <td>0.120983</td>\n",
              "      <td>0</td>\n",
              "      <td>New Shopper</td>\n",
              "    </tr>\n",
              "    <tr>\n",
              "      <th>2868</th>\n",
              "      <td>ckhzaa5ju00013m8v3oiunar0</td>\n",
              "      <td>ET034</td>\n",
              "      <td>dmg-b15 complex</td>\n",
              "      <td>0.120757</td>\n",
              "      <td>0</td>\n",
              "      <td>New Shopper</td>\n",
              "    </tr>\n",
              "    <tr>\n",
              "      <th>3561</th>\n",
              "      <td>cki7g16vs0001368ehnk1aefn</td>\n",
              "      <td>SW1016</td>\n",
              "      <td>oregano oil 10:1 extract</td>\n",
              "      <td>0.161240</td>\n",
              "      <td>0</td>\n",
              "      <td>New Shopper</td>\n",
              "    </tr>\n",
              "    <tr>\n",
              "      <th>3562</th>\n",
              "      <td>cki7g16vs0001368ehnk1aefn</td>\n",
              "      <td>SW854</td>\n",
              "      <td>n-acetyl cysteine</td>\n",
              "      <td>0.161147</td>\n",
              "      <td>0</td>\n",
              "      <td>New Shopper</td>\n",
              "    </tr>\n",
              "    <tr>\n",
              "      <th>3563</th>\n",
              "      <td>cki7g16vs0001368ehnk1aefn</td>\n",
              "      <td>SWU305</td>\n",
              "      <td>triple strength melatonin</td>\n",
              "      <td>0.161174</td>\n",
              "      <td>0</td>\n",
              "      <td>New Shopper</td>\n",
              "    </tr>\n",
              "  </tbody>\n",
              "</table>\n",
              "</div>"
            ],
            "text/plain": [
              "                     CustomerId ProductId  ... event_type_purchase        Class\n",
              "2867  ckhzaa5ju00013m8v3oiunar0    NWF302  ...                   0  New Shopper\n",
              "2868  ckhzaa5ju00013m8v3oiunar0     ET034  ...                   0  New Shopper\n",
              "3561  cki7g16vs0001368ehnk1aefn    SW1016  ...                   0  New Shopper\n",
              "3562  cki7g16vs0001368ehnk1aefn     SW854  ...                   0  New Shopper\n",
              "3563  cki7g16vs0001368ehnk1aefn    SWU305  ...                   0  New Shopper\n",
              "\n",
              "[5 rows x 6 columns]"
            ]
          },
          "metadata": {},
          "execution_count": 113
        }
      ]
    },
    {
      "cell_type": "code",
      "metadata": {
        "id": "naXN39h9tIwl"
      },
      "source": [
        "intentional_shopper = flask_dataset[flask_dataset['Class'] == 'New Shopper']\n",
        "df_new_shopper = intentional_shopper[intentional_shopper['purchase_probability'] < 0.4]\n",
        "df_new_shopper.head()"
      ],
      "execution_count": null,
      "outputs": []
    },
    {
      "cell_type": "code",
      "metadata": {
        "id": "O8IE4b7VtIkc"
      },
      "source": [
        ""
      ],
      "execution_count": null,
      "outputs": []
    },
    {
      "cell_type": "code",
      "metadata": {
        "id": "vzMDMhx_Y7P0"
      },
      "source": [
        "#save updated final to dataset to csv\n",
        "flask_dataset.to_csv('groupby_data_flask_final.csv', index=False)\n"
      ],
      "execution_count": null,
      "outputs": []
    }
  ]
}